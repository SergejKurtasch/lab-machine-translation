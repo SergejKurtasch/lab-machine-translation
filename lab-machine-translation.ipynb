# Сравнение производительности оригинальной и оптимизированной версий
import time

def benchmark_generation(generator_func, seed_text, num_words=50, iterations=10):
    """Бенчмарк скорости генерации"""
    times = []
    for _ in range(iterations):
        start_time = time.time()
        _ = generator_func(seed_text, num_words)
        end_time = time.time()
        times.append(end_time - start_time)
    
    avg_time = np.mean(times)
    std_time = np.std(times)
    return avg_time, std_time

# Функция для оригинального метода генерации (упрощенная версия)
def original_generation(seed_text, num_words=50):
    """Имитация оригинального медленного метода"""
    generated_text = seed_text.lower()
    
    for _ in range(num_words):
        token_list = tokenizer_opt.texts_to_sequences([generated_text])[0]
        token_list = pad_sequences([token_list], maxlen=max_seq_len_opt-1, padding='pre')
        predicted = model_opt.predict(token_list, verbose=0)
        predicted_index = np.argmax(predicted, axis=1)[0]
        
        # Медленный поиск слова (оригинальный метод)
        output_word = ""
        for word, index in tokenizer_opt.word_index.items():
            if index == predicted_index:
                output_word = word
                break
        
        if output_word:
            generated_text += " " + output_word
    
    return generated_text

# Сравнение производительности
print("=== БЕНЧМАРК ПРОИЗВОДИТЕЛЬНОСТИ ===\\n")

seed_text = "when most i wink, then do mine eyes best see"
num_words = 30

print("Тестируем генерацию 30 слов, 5 итераций...")

# Оригинальный метод
print("\\n1. Оригинальный метод (с медленным поиском):")
orig_time, orig_std = benchmark_generation(original_generation, seed_text, num_words, 5)
print(f"   Среднее время: {orig_time:.3f}±{orig_std:.3f} секунд")

# Оптимизированный метод
print("\\n2. Оптимизированный метод:")
opt_time, opt_std = benchmark_generation(
    lambda s, n: generator.generate_text(s, n), seed_text, num_words, 5
)
print(f"   Среднее время: {opt_time:.3f}±{opt_std:.3f} секунд")

# Ускорение
speedup = orig_time / opt_time
print(f"\\n🚀 УСКОРЕНИЕ: {speedup:.1f}x быстрее!")

print("\\n=== ИТОГОВОЕ СРАВНЕНИЕ МОДЕЛЕЙ ===")
print(f"Оригинальная модель:")
print(f"  - Параметры: 2,482,480 (~9.47 MB)")
print(f"  - Embedding dim: 500")
print(f"  - LSTM units: 100 + 100")
print(f"  - Время генерации: {orig_time:.3f}s")

print(f"\\nОптимизированная модель:")
print(f"  - Параметры: {model_opt.count_params():,} (~{model_opt.count_params()*4/1024/1024:.2f} MB)")
print(f"  - Embedding dim: 128")
print(f"  - LSTM units: 64 (Bidirectional) + 32")
print(f"  - Время генерации: {opt_time:.3f}s")
print(f"  - Ускорение: {speedup:.1f}x")
print(f"  - Экономия памяти: {((2482480 - model_opt.count_params()) / 2482480 * 100):.1f}%")# Оптимизированная генерация текста с исправлениями ошибок
class OptimizedTextGenerator:
    """Класс для быстрой генерации текста"""
    
    def __init__(self, model, tokenizer, max_sequence_len):
        self.model = model
        self.tokenizer = tokenizer
        self.max_sequence_len = max_sequence_len
        
        # ИСПРАВЛЕНИЕ: создаем обратный словарь для быстрого поиска
        self.index_to_word = {v: k for k, v in tokenizer.word_index.items()}
        self.index_to_word[0] = ''  # Для padding
        
    def sample_with_temperature(self, predictions, temperature=1.0):
        """Сэмплирование с температурой"""
        if temperature == 0:
            return np.argmax(predictions)
        
        predictions = np.log(predictions + 1e-10) / temperature
        exp_preds = np.exp(predictions)
        predictions = exp_preds / np.sum(exp_preds)
        
        return np.random.choice(len(predictions), p=predictions)
    
    def generate_text(self, seed_text, num_words=50, temperature=0.7):
        """Оптимизированная генерация текста"""
        generated_text = seed_text.lower()
        
        for _ in range(num_words):
            # Токенизация только один раз на итерацию
            token_list = self.tokenizer.texts_to_sequences([generated_text])[0]
            
            # Берем только последние токены для контекста
            if len(token_list) > self.max_sequence_len - 1:
                token_list = token_list[-(self.max_sequence_len - 1):]
            
            # Padding
            token_list = pad_sequences([token_list], 
                                     maxlen=self.max_sequence_len - 1, 
                                     padding='pre')[0]
            
            # Предсказание
            predictions = self.model.predict(np.array([token_list]), verbose=0)[0]
            predicted_index = self.sample_with_temperature(predictions, temperature)
            
            # ИСПРАВЛЕНИЕ: быстрый поиск слова через словарь
            if predicted_index in self.index_to_word:
                output_word = self.index_to_word[predicted_index]
                if output_word:  # Игнорируем пустые токены
                    generated_text += " " + output_word
            
        return generated_text
    
    def generate_multiple_variants(self, seed_text, num_variants=3, num_words=30, temperature=0.8):
        """Генерация нескольких вариантов текста"""
        variants = []
        for i in range(num_variants):
            variant = self.generate_text(seed_text, num_words, temperature)
            variants.append(f"Вариант {i+1}: {variant}")
        return variants

# Создаем оптимизированный генератор
generator = OptimizedTextGenerator(model_opt, tokenizer_opt, max_seq_len_opt)

# Тестирование с разными seed текстами
test_seeds = [
    "when most i wink, then do mine eyes best see",
    "shall i compare thee to a summer's day",
    "look in thy glass and tell the face thou viewest"
]

print("=== ОПТИМИЗИРОВАННАЯ ГЕНЕРАЦИЯ ТЕКСТА ===\\n")

for seed in test_seeds:
    print(f"Seed: '{seed}'")
    
    # Генерируем несколько вариантов
    variants = generator.generate_multiple_variants(seed, num_variants=2, num_words=25, temperature=0.7)
    for variant in variants:
        print(f"  {variant}")
    print()# Визуализация результатов обучения
def plot_training_history(history):
    """Построение графиков обучения"""
    fig, (ax1, ax2) = plt.subplots(1, 2, figsize=(15, 5))
    
    # График точности
    ax1.plot(history.history['accuracy'], label='Training Accuracy', color='blue')
    ax1.plot(history.history['val_accuracy'], label='Validation Accuracy', color='red')
    ax1.set_title('Model Accuracy')
    ax1.set_xlabel('Epoch')
    ax1.set_ylabel('Accuracy')
    ax1.legend()
    ax1.grid(True)
    
    # График потерь
    ax2.plot(history.history['loss'], label='Training Loss', color='blue')
    ax2.plot(history.history['val_loss'], label='Validation Loss', color='red')
    ax2.set_title('Model Loss')
    ax2.set_xlabel('Epoch')
    ax2.set_ylabel('Loss')
    ax2.legend()
    ax2.grid(True)
    
    plt.tight_layout()
    plt.show()
    
    # Статистика обучения
    print(f"\\nРезультаты обучения:")
    print(f"Финальная точность на обучении: {history.history['accuracy'][-1]:.4f}")
    print(f"Финальная точность на валидации: {history.history['val_accuracy'][-1]:.4f}")
    print(f"Лучшая точность на валидации: {max(history.history['val_accuracy']):.4f}")
    print(f"Количество эпох: {len(history.history['loss'])}")

# Построение графиков для оптимизированной модели
plot_training_history(history_opt)# Оптимизированное обучение с validation split и callbacks
def train_optimized_model(model, predictors, labels, validation_split=0.2, epochs=100):
    """Обучение с early stopping и learning rate scheduling"""
    
    # Разделение на train/validation
    X_train, X_val, y_train, y_val = train_test_split(
        predictors, labels, test_size=validation_split, random_state=42
    )
    
    print(f"Training samples: {len(X_train)}")
    print(f"Validation samples: {len(X_val)}")
    
    # Callbacks для оптимизации обучения
    callbacks = [
        EarlyStopping(
            monitor='val_loss',
            patience=15,
            restore_best_weights=True,
            verbose=1
        ),
        ReduceLROnPlateau(
            monitor='val_loss',
            factor=0.5,
            patience=8,
            min_lr=0.0001,
            verbose=1
        )
    ]
    
    # Обучение модели
    history = model.fit(
        X_train, y_train,
        validation_data=(X_val, y_val),
        epochs=epochs,
        batch_size=64,  # Оптимальный размер батча
        callbacks=callbacks,
        verbose=1
    )
    
    return history

# Обучаем оптимизированную модель
print("Начинаем обучение оптимизированной модели...")
history_opt = train_optimized_model(model_opt, predictors_opt, labels_opt, epochs=80)# Оптимизированная архитектура модели
def create_optimized_model(total_words, max_length, embedding_dim=128, lstm_units=64):
    """Создание оптимизированной модели с меньшим количеством параметров"""
    
    model = Sequential([
        # Уменьшенная размерность embedding для экономии памяти
        Embedding(input_dim=total_words, output_dim=embedding_dim, input_length=max_length),
        
        # Bidirectional LSTM для лучшего понимания контекста
        Bidirectional(LSTM(lstm_units, return_sequences=True, dropout=0.2, recurrent_dropout=0.2)),
        
        # Второй LSTM слой меньшего размера
        LSTM(lstm_units//2, dropout=0.3),
        
        # Dense слой с регуляризацией
        Dense(lstm_units, activation='relu', kernel_regularizer=regularizers.l2(0.01)),
        Dropout(0.4),
        
        # Выходной слой
        Dense(total_words, activation='softmax')
    ])
    
    # Оптимизированный компилятор с sparse categorical crossentropy
    optimizer = Adam(learning_rate=0.002, clipnorm=1.0)  # Gradient clipping
    model.compile(
        loss='sparse_categorical_crossentropy',  # Экономит память!
        optimizer=optimizer, 
        metrics=['accuracy']
    )
    
    return model

# Создаем оптимизированную модель
model_opt = create_optimized_model(
    total_words_opt, 
    max_seq_len_opt - 1,  # -1 потому что убрали последний токен
    embedding_dim=128,    # Вместо 500
    lstm_units=64         # Вместо 100
)

print(model_opt.summary())

# Сравнение размеров моделей
print(f"\nПараметры оригинальной модели: ~2,482,480 (9.47 MB)")
print(f"Параметры оптимизированной модели: {model_opt.count_params():,} ({model_opt.count_params()*4/1024/1024:.2f} MB)")# Оптимизированная токенизация с ограничениями
def create_optimized_sequences(corpus, max_vocab_size=5000, max_seq_len=15):
    """Создание оптимизированных последовательностей"""
    
    # Ограничиваем размер словаря для лучшей производительности
    tokenizer = Tokenizer(num_words=max_vocab_size, oov_token='<OOV>')
    tokenizer.fit_on_texts(corpus)
    
    # Реальный размер словаря
    total_words = min(len(tokenizer.word_index) + 1, max_vocab_size)
    print(f"Vocabulary size: {total_words}")
    
    # Создаем последовательности более эффективно
    input_sequences = []
    for line in corpus:
        token_list = tokenizer.texts_to_sequences([line])[0]
        
        # Ограничиваем длину последовательности
        if len(token_list) > max_seq_len:
            token_list = token_list[:max_seq_len]
            
        # Создаем n-граммы только для достаточно длинных последовательностей
        if len(token_list) >= 3:
            for i in range(1, len(token_list)):
                n_gram_sequence = token_list[:i+1]
                if len(n_gram_sequence) <= max_seq_len:
                    input_sequences.append(n_gram_sequence)
    
    print(f"Created {len(input_sequences)} sequences")
    
    # Оптимизированное padding
    max_sequence_len = min(max([len(x) for x in input_sequences]), max_seq_len)
    input_sequences = np.array(pad_sequences(input_sequences, maxlen=max_sequence_len, padding='pre'))
    
    # Разделяем на входы и метки
    predictors = input_sequences[:,:-1]
    labels = input_sequences[:,-1]  # НЕ используем categorical encoding для экономии памяти
    
    print(f"Predictors shape: {predictors.shape}")
    print(f"Labels shape: {labels.shape}")
    print(f"Max sequence length: {max_sequence_len}")
    
    return tokenizer, predictors, labels, total_words, max_sequence_len

# Создаем оптимизированные данные
tokenizer_opt, predictors_opt, labels_opt, total_words_opt, max_seq_len_opt = create_optimized_sequences(
    corpus, max_vocab_size=3000, max_seq_len=12
)# Оптимизированная предобработка данных с исправлением ошибок
def preprocess_text(text):
    """Улучшенная предобработка текста"""
    # ИСПРАВЛЕНИЕ: правильно сохраняем результат замены
    text = text.replace("\r\n", "\n").replace("\r", "\n")
    
    # Удаляем лишние символы и нормализуем
    text = re.sub(r'[^\w\s\n.,!?;:\'-]', '', text)
    text = re.sub(r'\s+', ' ', text)  # Множественные пробелы в один
    
    return text.lower().strip()

def create_corpus(text):
    """Создание корпуса с фильтрацией"""
    lines = text.split('\n')
    
    # Фильтруем пустые строки и слишком короткие/длинные
    corpus = []
    for line in lines:
        line = line.strip()
        if len(line) > 10 and len(line.split()) >= 3:  # Минимум 3 слова
            corpus.append(line)
    
    print(f"Filtered corpus: {len(corpus)} lines from {len(lines)} total")
    return corpus

# Загрузка и предобработка данных
url = "https://www.gutenberg.org/files/1041/1041-0.txt"
r = requests.get(url)
if r.status_code != 200:
    raise ValueError(f"Error {r.status_code}")

# Предобработка текста с исправлениями
data = preprocess_text(r.text)
corpus = create_corpus(data)

print("Processed corpus length:", len(corpus))
print("Sample lines:")
for i in range(min(5, len(corpus))):
    print(f"  {i+1}: {corpus[i][:80]}...")# Импорты с дополнительными модулями для оптимизации
from tensorflow.keras.preprocessing.sequence import pad_sequences
from tensorflow.keras.preprocessing.text import Tokenizer
from tensorflow.keras.layers import Embedding, LSTM, Dense, Dropout, Bidirectional
from tensorflow.keras.models import Sequential
from tensorflow.keras.optimizers import Adam
from tensorflow.keras import regularizers
from tensorflow.keras.callbacks import EarlyStopping, ReduceLROnPlateau
import tensorflow.keras.utils as ku
import tensorflow as tf

import numpy as np
import requests
import re
from collections import Counter
import matplotlib.pyplot as plt
from sklearn.model_selection import train_test_split

print("TensorFlow version:", tf.__version__)
print("GPU Available:", tf.config.list_physical_devices('GPU'))# Оптимизированная версия с исправлениями ошибок и улучшениями производительности

## Основные улучшения:
1. **Исправлены ошибки**: обработка данных, эффективный поиск слов
2. **Оптимизирована архитектура**: уменьшены размеры embedding и LSTM
3. **Улучшена память**: sparse categorical crossentropy, генераторы данных  
4. **Ускорен инференс**: кэширование, обратный словарь, батчевая обработка
5. **Добавлены**: validation split, early stopping, learning rate scheduling{
 "cells": [
  {
   "cell_type": "markdown",
   "metadata": {},
   "source": [
    "# Lab | Text Generation from Shakespeare's Sonnet"
   ]
  },
  {
   "cell_type": "code",
   "execution_count": 1,
   "metadata": {
    "id": "BOwsuGQQY9OL"
   },
   "outputs": [
    {
     "name": "stderr",
     "output_type": "stream",
     "text": [
      "WARNING:root:Limited tf.compat.v2.summary API due to missing TensorBoard installation.\n",
      "WARNING:root:Limited tf.compat.v2.summary API due to missing TensorBoard installation.\n",
      "WARNING:root:Limited tf.compat.v2.summary API due to missing TensorBoard installation.\n",
      "WARNING:root:Limited tf.summary API due to missing TensorBoard installation.\n",
      "WARNING:root:Limited tf.compat.v2.summary API due to missing TensorBoard installation.\n"
     ]
    }
   ],
   "source": [
    "from tensorflow.keras.preprocessing.sequence import pad_sequences\n",
    "from tensorflow.keras.preprocessing.text import Tokenizer\n",
    "from tensorflow.keras.layers import Embedding, LSTM, Dense, Dropout, Bidirectional\n",
    "from tensorflow.keras.models import Sequential\n",
    "from tensorflow.keras.optimizers import Adam\n",
    "from tensorflow.keras import regularizers\n",
    "import tensorflow.keras.utils as ku\n",
    "\n",
    "import numpy as np\n",
    "import requests"
   ]
  },
  {
   "cell_type": "code",
   "execution_count": 2,
   "metadata": {
    "id": "PRnDnCW-Z7qv"
   },
   "outputs": [
    {
     "name": "stdout",
     "output_type": "stream",
     "text": [
      "File was downloaded, length: 98937\n"
     ]
    }
   ],
   "source": [
    "tokenizer = Tokenizer()\n",
    "\n",
    "url = \"https://www.gutenberg.org/files/1041/1041-0.txt\"\n",
    "r = requests.get(url)\n",
    "if r.status_code != 200:\n",
    "    raise ValueError(f\"Error {r.status_code}\")\n",
    "\n",
    "with open(\"/tmp/sonnets.txt\", \"w\", encoding=\"utf-8\") as f:\n",
    "    f.write(r.text)\n",
    "\n",
    "data = r.text.strip()\n",
    "print(\"File was downloaded, length:\", len(data))\n",
    "data.replace(\"\\r\\n\", \"\\n\")\n",
    "\n",
    "corpus = data.lower().split(\"\\n\")\n",
    "\n",
    "\n",
    "tokenizer.fit_on_texts(corpus)\n",
    "total_words = len(tokenizer.word_index) + 1\n",
    "\n",
    "# create input sequences using list of tokens\n",
    "input_sequences = []\n",
    "for line in corpus:\n",
    "\ttoken_list = tokenizer.texts_to_sequences([line])[0]\n",
    "\tfor i in range(1, len(token_list)):\n",
    "\t\tn_gram_sequence = token_list[:i+1]\n",
    "\t\tinput_sequences.append(n_gram_sequence)\n",
    "\n",
    "\n",
    "# pad sequences \n",
    "max_sequence_len = max([len(x) for x in input_sequences])\n",
    "input_sequences = np.array(pad_sequences(input_sequences, maxlen=max_sequence_len, padding='pre'))\n",
    "\n",
    "# create predictors and label\n",
    "predictors, label = input_sequences[:,:-1],input_sequences[:,-1]\n",
    "\n",
    "label = ku.to_categorical(label, num_classes=total_words)"
   ]
  },
  {
   "cell_type": "code",
   "execution_count": 3,
   "metadata": {},
   "outputs": [
    {
     "data": {
      "text/plain": [
       "'*** START OF THE PROJECT GUTENBERG EBOOK 1041 ***\\r\\nTHE SONNETS\\r\\n\\r\\nby William Shakespeare\\r\\n\\r\\n\\r\\n\\r\\n\\r\\nI\\r\\n\\r\\nFrom fairest creatures we desire increase,\\r\\nThat thereby beauty’s rose might never die,\\r\\nBut as the riper should by time decease,\\r\\nHis tender heir might bear his memory:\\r\\nBut thou, contracted to thine own bright eyes,\\r\\nFeed’st thy light’s flame with self-substantial fuel,\\r\\nMaking a famine where abundance lies,\\r\\nThyself thy foe, to thy sweet self too cruel:\\r\\nThou that art now the world’s fresh ornament,\\r\\nAnd only herald to the gaudy spring,\\r\\nWithin thine own bud buriest thy content,\\r\\nAnd tender churl mak’st waste in niggarding:\\r\\n    Pity the world, or else this glutton be,\\r\\n    To eat the world’s due, by the grave and thee.\\r\\n\\r\\nII\\r\\n\\r\\nWhen forty winters shall besiege thy brow,\\r\\nAnd dig deep trenches in thy beauty’s field,\\r\\nThy youth’s proud livery so gazed on now,\\r\\nWill be a tatter’d weed of small worth held:\\r\\nThen being asked, where all thy beauty lies,\\r\\nWhere all the treasure of thy lusty days;\\r\\nTo say, within thine own deep sunken eyes,\\r\\nWere an all-eating shame, and thriftless praise.\\r\\nHow much more praise deserv’d thy beauty’s use,\\r\\nIf thou couldst answer ‘This fair child of mine\\r\\nShall sum my count, and make my old excuse,’\\r\\nProving his beauty by succession thine!\\r\\n    This were to be new made when thou art old,\\r\\n    And see thy blood warm when thou feel’st it cold.\\r\\n\\r\\nIII\\r\\n\\r\\nLook in thy glass and tell the face thou viewest\\r\\nNow is the time that face should form another;\\r\\nWhose fresh repair if now thou not renewest,\\r\\nThou dost beguile the world, unbless some mother.\\r\\nFor where is she so fair whose unear’d womb\\r\\nDisdains the tillage of thy husbandry?\\r\\nOr who is he so fond will be the tomb,\\r\\nOf his self-love to stop posterity?\\r\\nThou art thy mother’s glass and she in thee\\r\\nCalls back the lovely April of her prime;\\r\\nSo thou through windows of thine age shalt see,\\r\\nDespite of wrinkles this thy golden time.\\r\\n    But if thou live, remember’d not to be,\\r\\n    Die single and thine image dies with thee.\\r\\n\\r\\nIV\\r\\n\\r\\nUnthrifty loveliness, why dost thou spend\\r\\nUpon thyself thy beauty’s legacy?\\r\\nNature’s bequest gives nothing, but doth lend,\\r\\nAnd being frank she lends to those are free:\\r\\nThen, beauteous niggard, why dost thou abuse\\r\\nThe bounteous largess given thee to give?\\r\\nProfitless usurer, why dost thou use\\r\\nSo great a sum of sums, yet canst not live?\\r\\nFor having traffic with thyself alone,\\r\\nThou of thyself thy sweet self dost deceive:\\r\\nThen how when nature calls thee to be gone,\\r\\nWhat acceptable audit canst thou leave?\\r\\n    Thy unused beauty must be tombed with thee,\\r\\n    Which, used, lives th’ executor to be.\\r\\n\\r\\nV\\r\\n\\r\\nThose hours, that with gentle work did frame\\r\\nThe lovely gaze where every eye doth dwell,\\r\\nWill play the tyrants to the very same\\r\\nAnd that unfair which fairly doth excel;\\r\\nFor never-resting time leads summer on\\r\\nTo hideous winter, and confounds him there;\\r\\nSap checked with frost, and lusty leaves quite gone,\\r\\nBeauty o’er-snowed and bareness every where:\\r\\nThen were not summer’s distillation left,\\r\\nA liquid prisoner pent in walls of glass,\\r\\nBeauty’s effect with beauty were bereft,\\r\\nNor it, nor no remembrance what it was:\\r\\n    But flowers distill’d, though they with winter meet,\\r\\n    Leese but their show; their substance still lives sweet.\\r\\n\\r\\n\\r\\nVI\\r\\n\\r\\nThen let not winter’s ragged hand deface,\\r\\nIn thee thy summer, ere thou be distill’d:\\r\\nMake sweet some vial; treasure thou some place\\r\\nWith beauty’s treasure ere it be self-kill’d.\\r\\nThat use is not forbidden usury,\\r\\nWhich happies those that pay the willing loan;\\r\\nThat’s for thyself to breed another thee,\\r\\nOr ten times happier, be it ten for one;\\r\\nTen times thyself were happier than thou art,\\r\\nIf ten of thine ten times refigur’d thee:\\r\\nThen what could death do if thou shouldst depart,\\r\\nLeaving thee living in posterity?\\r\\n    Be not self-will’d, for thou art much too fair\\r\\n    To be death’s conquest and make worms thine heir.\\r\\n\\r\\nVII\\r\\n\\r\\nLo! in the orient when the gracious light\\r\\nLifts up his burning head, each under eye\\r\\nDoth homage to his new-appearing sight,\\r\\nServing with looks his sacred majesty;\\r\\nAnd having climb’d the steep-up heavenly hill,\\r\\nResembling strong youth in his middle age,\\r\\nYet mortal looks adore his beauty still,\\r\\nAttending on his golden pilgrimage:\\r\\nBut when from highmost pitch, with weary car,\\r\\nLike feeble age, he reeleth from the day,\\r\\nThe eyes, ’fore duteous, now converted are\\r\\nFrom his low tract, and look another way:\\r\\n    So thou, thyself outgoing in thy noon:\\r\\n    Unlook’d, on diest unless thou get a son.\\r\\n\\r\\nVIII\\r\\n\\r\\nMusic to hear, why hear’st thou music sadly?\\r\\nSweets with sweets war not, joy delights in joy:\\r\\nWhy lov’st thou that which thou receiv’st not gladly,\\r\\nOr else receiv’st with pleasure thine annoy?\\r\\nIf the true concord of well-tuned sounds,\\r\\nBy unions married, do offend thine ear,\\r\\nThey do but sweetly chide thee, who confounds\\r\\nIn singleness the parts that thou shouldst bear.\\r\\nMark how one string, sweet husband to another,\\r\\nStrikes each in each by mutual ordering;\\r\\nResembling sire and child and happy mother,\\r\\nWho, all in one, one pleasing note do sing:\\r\\n    Whose speechless song being many, seeming one,\\r\\n    Sings this to thee: ‘Thou single wilt prove none.’\\r\\n\\r\\nIX\\r\\n\\r\\nIs it for fear to wet a widow’s eye,\\r\\nThat thou consum’st thyself in single life?\\r\\nAh! if thou issueless shalt hap to die,\\r\\nThe world will wail thee like a makeless wife;\\r\\nThe world will be thy widow and still weep\\r\\nThat thou no form of thee hast left behind,\\r\\nWhen every private widow well may keep\\r\\nBy children’s eyes, her husband’s shape in mind:\\r\\nLook! what an unthrift in the world doth spend\\r\\nShifts but his place, for still the world enjoys it;\\r\\nBut beauty’s waste hath in the world an end,\\r\\nAnd kept unused the user so destroys it.\\r\\n    No love toward others in that bosom sits\\r\\n    That on himself such murd’rous shame commits.\\r\\n\\r\\nX\\r\\n\\r\\nFor shame! deny that thou bear’st love to any,\\r\\nWho for thyself art so unprovident.\\r\\nGrant, if thou wilt, thou art belov’d of many,\\r\\nBut that thou none lov’st is most evident:\\r\\nFor thou art so possess’d with murderous hate,\\r\\nThat ’gainst thyself thou stick’st not to conspire,\\r\\nSeeking that beauteous roof to ruinate\\r\\nWhich to repair should be thy chief desire.\\r\\nO! change thy thought, that I may change my mind:\\r\\nShall hate be fairer lodg’d than gentle love?\\r\\nBe, as thy presence is, gracious and kind,\\r\\nOr to thyself at least kind-hearted prove:\\r\\n    Make thee another self for love of me,\\r\\n    That beauty still may live in thine or thee.\\r\\n\\r\\nXI\\r\\n\\r\\nAs fast as thou shalt wane, so fast thou grow’st,\\r\\nIn one of thine, from that which thou departest;\\r\\nAnd that fresh blood which youngly thou bestow’st,\\r\\nThou mayst call thine when thou from youth convertest,\\r\\nHerein lives wisdom, beauty, and increase;\\r\\nWithout this folly, age, and cold decay:\\r\\nIf all were minded so, the times should cease\\r\\nAnd threescore year would make the world away.\\r\\nLet those whom nature hath not made for store,\\r\\nHarsh, featureless, and rude, barrenly perish:\\r\\nLook, whom she best endow’d, she gave thee more;\\r\\nWhich bounteous gift thou shouldst in bounty cherish:\\r\\n    She carv’d thee for her seal, and meant thereby,\\r\\n    Thou shouldst print more, not let that copy die.\\r\\n\\r\\nXII\\r\\n\\r\\nWhen I do count the clock that tells the time,\\r\\nAnd see the brave day sunk in hideous night;\\r\\nWhen I behold the violet past prime,\\r\\nAnd sable curls, all silvered o’er with white;\\r\\nWhen lofty trees I see barren of leaves,\\r\\nWhich erst from heat did canopy the herd,\\r\\nAnd summer’s green all girded up in sheaves,\\r\\nBorne on the bier with white and bristly beard,\\r\\nThen of thy beauty do I question make,\\r\\nThat thou among the wastes of time must go,\\r\\nSince sweets and beauties do themselves forsake\\r\\nAnd die as fast as they see others grow;\\r\\n    And nothing ’gainst Time’s scythe can make defence\\r\\n    Save breed, to brave him when he takes thee hence.\\r\\n\\r\\nXIII\\r\\n\\r\\nO! that you were your self; but, love you are\\r\\nNo longer yours, than you yourself here live:\\r\\nAgainst this coming end you should prepare,\\r\\nAnd your sweet semblance to some other give:\\r\\nSo should that beauty which you hold in lease\\r\\nFind no determination; then you were\\r\\nYourself again, after yourself’s decease,\\r\\nWhen your sweet issue your sweet form should bear.\\r\\nWho lets so fair a house fall to decay,\\r\\nWhich husbandry in honour might uphold,\\r\\nAgainst the stormy gusts of winter’s day\\r\\nAnd barren rage of death’s eternal cold?\\r\\n    O! none but unthrifts. Dear my love, you know,\\r\\n    You had a father: let your son say so.\\r\\n\\r\\nXIV\\r\\n\\r\\nNot from the stars do I my judgement pluck;\\r\\nAnd yet methinks I have astronomy,\\r\\nBut not to tell of good or evil luck,\\r\\nOf plagues, of dearths, or seasons’ quality;\\r\\nNor can I fortune to brief minutes tell,\\r\\nPointing to each his thunder, rain and wind,\\r\\nOr say with princes if it shall go well\\r\\nBy oft predict that I in heaven find:\\r\\nBut from thine eyes my knowledge I derive,\\r\\nAnd constant stars in them I read such art\\r\\nAs ‘Truth and beauty shall together thrive,\\r\\nIf from thyself, to store thou wouldst convert’;\\r\\n    Or else of thee this I prognosticate:\\r\\n    ‘Thy end is truth’s and beauty’s doom and date.’\\r\\n\\r\\nXV\\r\\n\\r\\nWhen I consider everything that grows\\r\\nHolds in perfection but a little moment,\\r\\nThat this huge stage presenteth nought but shows\\r\\nWhereon the stars in secret influence comment;\\r\\nWhen I perceive that men as plants increase,\\r\\nCheered and checked even by the self-same sky,\\r\\nVaunt in their youthful sap, at height decrease,\\r\\nAnd wear their brave state out of memory;\\r\\nThen the conceit of this inconstant stay\\r\\nSets you most rich in youth before my sight,\\r\\nWhere wasteful Time debateth with Decay\\r\\nTo change your day of youth to sullied night,\\r\\n    And all in war with Time for love of you,\\r\\n    As he takes from you, I engraft you new.\\r\\n\\r\\nXVI\\r\\n\\r\\nBut wherefore do not you a mightier way\\r\\nMake war upon this bloody tyrant, Time?\\r\\nAnd fortify yourself in your decay\\r\\nWith means more blessed than my barren rhyme?\\r\\nNow stand you on the top of happy hours,\\r\\nAnd many maiden gardens, yet unset,\\r\\nWith virtuous wish would bear you living flowers,\\r\\nMuch liker than your painted counterfeit:\\r\\nSo should the lines of life that life repair,\\r\\nWhich this, Time’s pencil, or my pupil pen,\\r\\nNeither in inward worth nor outward fair,\\r\\nCan make you live yourself in eyes of men.\\r\\n    To give away yourself, keeps yourself still,\\r\\n    And you must live, drawn by your own sweet skill.\\r\\n\\r\\nXVII\\r\\n\\r\\nWho will believe my verse in time to come,\\r\\nIf it were fill’d with your most high deserts?\\r\\nThough yet heaven knows it is but as a tomb\\r\\nWhich hides your life, and shows not half your parts.\\r\\nIf I could write the beauty of your eyes,\\r\\nAnd in fresh numbers number all your graces,\\r\\nThe age to come would say ‘This poet lies;\\r\\nSuch heavenly touches ne’er touch’d earthly faces.’\\r\\nSo should my papers, yellow’d with their age,\\r\\nBe scorn’d, like old men of less truth than tongue,\\r\\nAnd your true rights be term’d a poet’s rage\\r\\nAnd stretched metre of an antique song:\\r\\n    But were some child of yours alive that time,\\r\\n    You should live twice,—in it, and in my rhyme.\\r\\n\\r\\nXVIII\\r\\n\\r\\nShall I compare thee to a summer’s day?\\r\\nThou art more lovely and more temperate:\\r\\nRough winds do shake the darling buds of May,\\r\\nAnd summer’s lease hath all too short a date:\\r\\nSometime too hot the eye of heaven shines,\\r\\nAnd often is his gold complexion dimm’d,\\r\\nAnd every fair from fair sometime declines,\\r\\nBy chance, or nature’s changing course untrimm’d:\\r\\nBut thy eternal summer shall not fade,\\r\\nNor lose possession of that fair thou ow’st,\\r\\nNor shall death brag thou wander’st in his shade,\\r\\nWhen in eternal lines to time thou grow’st,\\r\\n    So long as men can breathe, or eyes can see,\\r\\n    So long lives this, and this gives life to thee.\\r\\n\\r\\nXIX\\r\\n\\r\\nDevouring Time, blunt thou the lion’s paws,\\r\\nAnd make the earth devour her own sweet brood;\\r\\nPluck the keen teeth from the fierce tiger’s jaws,\\r\\nAnd burn the long-liv’d phoenix, in her blood;\\r\\nMake glad and sorry seasons as thou fleets,\\r\\nAnd do whate’er thou wilt, swift-footed Time,\\r\\nTo the wide world and all her fading sweets;\\r\\nBut I forbid thee one most heinous crime:\\r\\nO! carve not with thy hours my love’s fair brow,\\r\\nNor draw no lines there with thine antique pen;\\r\\nHim in thy course untainted do allow\\r\\nFor beauty’s pattern to succeeding men.\\r\\n    Yet do thy worst, old Time; despite thy wrong,\\r\\n    My love shall in my verse ever live young.\\r\\n\\r\\nXX\\r\\n\\r\\nA woman’s face with nature’s own hand painted,\\r\\nHast thou, the master mistress of my passion;\\r\\nA woman’s gentle heart, but not acquainted\\r\\nWith shifting change, as is false women’s fashion:\\r\\nAn eye more bright than theirs, less false in rolling,\\r\\nGilding the object whereupon it gazeth;\\r\\nA man in hue all ‘hues’ in his controlling,\\r\\nWhich steals men’s eyes and women’s souls amazeth.\\r\\nAnd for a woman wert thou first created;\\r\\nTill Nature, as she wrought thee, fell a-doting,\\r\\nAnd by addition me of thee defeated,\\r\\nBy adding one thing to my purpose nothing.\\r\\n    But since she prick’d thee out for women’s pleasure,\\r\\n    Mine be thy love and thy love’s use their treasure.\\r\\n\\r\\nXXI\\r\\n\\r\\nSo is it not with me as with that Muse,\\r\\nStirr’d by a painted beauty to his verse,\\r\\nWho heaven itself for ornament doth use\\r\\nAnd every fair with his fair doth rehearse,\\r\\nMaking a couplement of proud compare.\\r\\nWith sun and moon, with earth and sea’s rich gems,\\r\\nWith April’s first-born flowers, and all things rare,\\r\\nThat heaven’s air in this huge rondure hems.\\r\\nO! let me, true in love, but truly write,\\r\\nAnd then believe me, my love is as fair\\r\\nAs any mother’s child, though not so bright\\r\\nAs those gold candles fix’d in heaven’s air:\\r\\n    Let them say more that like of hearsay well;\\r\\n    I will not praise that purpose not to sell.\\r\\n\\r\\nXXII\\r\\n\\r\\nMy glass shall not persuade me I am old,\\r\\nSo long as youth and thou are of one date;\\r\\nBut when in thee time’s furrows I behold,\\r\\nThen look I death my days should expiate.\\r\\nFor all that beauty that doth cover thee,\\r\\nIs but the seemly raiment of my heart,\\r\\nWhich in thy breast doth live, as thine in me:\\r\\nHow can I then be elder than thou art?\\r\\nO! therefore love, be of thyself so wary\\r\\nAs I, not for myself, but for thee will;\\r\\nBearing thy heart, which I will keep so chary\\r\\nAs tender nurse her babe from faring ill.\\r\\n    Presume not on thy heart when mine is slain,\\r\\n    Thou gav’st me thine not to give back again.\\r\\n\\r\\nXXIII\\r\\n\\r\\nAs an unperfect actor on the stage,\\r\\nWho with his fear is put beside his part,\\r\\nOr some fierce thing replete with too much rage,\\r\\nWhose strength’s abundance weakens his own heart;\\r\\nSo I, for fear of trust, forget to say\\r\\nThe perfect ceremony of love’s rite,\\r\\nAnd in mine own love’s strength seem to decay,\\r\\nO’ercharg’d with burthen of mine own love’s might.\\r\\nO! let my looks be then the eloquence\\r\\nAnd dumb presagers of my speaking breast,\\r\\nWho plead for love, and look for recompense,\\r\\nMore than that tongue that more hath more express’d.\\r\\n    O! learn to read what silent love hath writ:\\r\\n    To hear with eyes belongs to love’s fine wit.\\r\\n\\r\\nXXIV\\r\\n\\r\\nMine eye hath play’d the painter and hath stell’d,\\r\\nThy beauty’s form in table of my heart;\\r\\nMy body is the frame wherein ’tis held,\\r\\nAnd perspective it is best painter’s art.\\r\\nFor through the painter must you see his skill,\\r\\nTo find where your true image pictur’d lies,\\r\\nWhich in my bosom’s shop is hanging still,\\r\\nThat hath his windows glazed with thine eyes.\\r\\nNow see what good turns eyes for eyes have done:\\r\\nMine eyes have drawn thy shape, and thine for me\\r\\nAre windows to my breast, where-through the sun\\r\\nDelights to peep, to gaze therein on thee;\\r\\n    Yet eyes this cunning want to grace their art,\\r\\n    They draw but what they see, know not the heart.\\r\\n\\r\\nXXV\\r\\n\\r\\nLet those who are in favour with their stars\\r\\nOf public honour and proud titles boast,\\r\\nWhilst I, whom fortune of such triumph bars\\r\\nUnlook’d for joy in that I honour most.\\r\\nGreat princes’ favourites their fair leaves spread\\r\\nBut as the marigold at the sun’s eye,\\r\\nAnd in themselves their pride lies buried,\\r\\nFor at a frown they in their glory die.\\r\\nThe painful warrior famoused for fight,\\r\\nAfter a thousand victories once foil’d,\\r\\nIs from the book of honour razed quite,\\r\\nAnd all the rest forgot for which he toil’d:\\r\\n    Then happy I, that love and am belov’d,\\r\\n    Where I may not remove nor be remov’d.\\r\\n\\r\\nXXVI\\r\\n\\r\\nLord of my love, to whom in vassalage\\r\\nThy merit hath my duty strongly knit,\\r\\nTo thee I send this written embassage,\\r\\nTo witness duty, not to show my wit:\\r\\nDuty so great, which wit so poor as mine\\r\\nMay make seem bare, in wanting words to show it,\\r\\nBut that I hope some good conceit of thine\\r\\nIn thy soul’s thought, all naked, will bestow it:\\r\\nTill whatsoever star that guides my moving,\\r\\nPoints on me graciously with fair aspect,\\r\\nAnd puts apparel on my tatter’d loving,\\r\\nTo show me worthy of thy sweet respect:\\r\\n    Then may I dare to boast how I do love thee;\\r\\n    Till then, not show my head where thou mayst prove me.\\r\\n\\r\\nXXVII\\r\\n\\r\\nWeary with toil, I haste me to my bed,\\r\\nThe dear respose for limbs with travel tir’d;\\r\\nBut then begins a journey in my head\\r\\nTo work my mind, when body’s work’s expired:\\r\\nFor then my thoughts, from far where I abide,\\r\\nIntend a zealous pilgrimage to thee,\\r\\nAnd keep my drooping eyelids open wide,\\r\\nLooking on darkness which the blind do see:\\r\\nSave that my soul’s imaginary sight\\r\\nPresents thy shadow to my sightless view,\\r\\nWhich, like a jewel hung in ghastly night,\\r\\nMakes black night beauteous, and her old face new.\\r\\n    Lo! thus, by day my limbs, by night my mind,\\r\\n    For thee, and for myself, no quiet find.\\r\\n\\r\\nXXVIII\\r\\n\\r\\nHow can I then return in happy plight,\\r\\nThat am debarre’d the benefit of rest?\\r\\nWhen day’s oppression is not eas’d by night,\\r\\nBut day by night and night by day oppress’d,\\r\\nAnd each, though enemies to either’s reign,\\r\\nDo in consent shake hands to torture me,\\r\\nThe one by toil, the other to complain\\r\\nHow far I toil, still farther off from thee.\\r\\nI tell the day, to please him thou art bright,\\r\\nAnd dost him grace when clouds do blot the heaven:\\r\\nSo flatter I the swart-complexion’d night,\\r\\nWhen sparkling stars twire not thou gild’st the even.\\r\\n    But day doth daily draw my sorrows longer,\\r\\n    And night doth nightly make grief’s length seem stronger.\\r\\n\\r\\nXXIX\\r\\n\\r\\nWhen in disgrace with fortune and men’s eyes\\r\\nI all alone beweep my outcast state,\\r\\nAnd trouble deaf heaven with my bootless cries,\\r\\nAnd look upon myself, and curse my fate,\\r\\nWishing me like to one more rich in hope,\\r\\nFeatur’d like him, like him with friends possess’d,\\r\\nDesiring this man’s art, and that man’s scope,\\r\\nWith what I most enjoy contented least;\\r\\nYet in these thoughts my self almost despising,\\r\\nHaply I think on thee, and then my state,\\r\\nLike to the lark at break of day arising\\r\\nFrom sullen earth, sings hymns at heaven’s gate;\\r\\n    For thy sweet love remember’d such wealth brings\\r\\n    That then I scorn to change my state with kings.\\r\\n\\r\\nXXX\\r\\n\\r\\nWhen to the sessions of sweet silent thought\\r\\nI summon up remembrance of things past,\\r\\nI sigh the lack of many a thing I sought,\\r\\nAnd with old woes new wail my dear time’s waste:\\r\\nThen can I drown an eye, unused to flow,\\r\\nFor precious friends hid in death’s dateless night,\\r\\nAnd weep afresh love’s long since cancell’d woe,\\r\\nAnd moan the expense of many a vanish’d sight:\\r\\nThen can I grieve at grievances foregone,\\r\\nAnd heavily from woe to woe tell o’er\\r\\nThe sad account of fore-bemoaned moan,\\r\\nWhich I new pay as if not paid before.\\r\\n    But if the while I think on thee, dear friend,\\r\\n    All losses are restor’d and sorrows end.\\r\\n\\r\\nXXXI\\r\\n\\r\\nThy bosom is endeared with all hearts,\\r\\nWhich I by lacking have supposed dead;\\r\\nAnd there reigns Love, and all Love’s loving parts,\\r\\nAnd all those friends which I thought buried.\\r\\nHow many a holy and obsequious tear\\r\\nHath dear religious love stol’n from mine eye,\\r\\nAs interest of the dead, which now appear\\r\\nBut things remov’d that hidden in thee lie!\\r\\nThou art the grave where buried love doth live,\\r\\nHung with the trophies of my lovers gone,\\r\\nWho all their parts of me to thee did give,\\r\\nThat due of many now is thine alone:\\r\\n    Their images I lov’d, I view in thee,\\r\\n    And thou, all they, hast all the all of me.\\r\\n\\r\\nXXXII\\r\\n\\r\\nIf thou survive my well-contented day,\\r\\nWhen that churl Death my bones with dust shall cover\\r\\nAnd shalt by fortune once more re-survey\\r\\nThese poor rude lines of thy deceased lover,\\r\\nCompare them with the bett’ring of the time,\\r\\nAnd though they be outstripp’d by every pen,\\r\\nReserve them for my love, not for their rhyme,\\r\\nExceeded by the height of happier men.\\r\\nO! then vouchsafe me but this loving thought:\\r\\n‘Had my friend’s Muse grown with this growing age,\\r\\nA dearer birth than this his love had brought,\\r\\nTo march in ranks of better equipage:\\r\\n    But since he died and poets better prove,\\r\\n    Theirs for their style I’ll read, his for his love’.\\r\\n\\r\\nXXXIII\\r\\n\\r\\nFull many a glorious morning have I seen\\r\\nFlatter the mountain tops with sovereign eye,\\r\\nKissing with golden face the meadows green,\\r\\nGilding pale streams with heavenly alchemy;\\r\\nAnon permit the basest clouds to ride\\r\\nWith ugly rack on his celestial face,\\r\\nAnd from the forlorn world his visage hide,\\r\\nStealing unseen to west with this disgrace:\\r\\nEven so my sun one early morn did shine,\\r\\nWith all triumphant splendour on my brow;\\r\\nBut out! alack! he was but one hour mine,\\r\\nThe region cloud hath mask’d him from me now.\\r\\n    Yet him for this my love no whit disdaineth;\\r\\n    Suns of the world may stain when heaven’s sun staineth.\\r\\n\\r\\nXXXIV\\r\\n\\r\\nWhy didst thou promise such a beauteous day,\\r\\nAnd make me travel forth without my cloak,\\r\\nTo let base clouds o’ertake me in my way,\\r\\nHiding thy bravery in their rotten smoke?\\r\\n’Tis not enough that through the cloud thou break,\\r\\nTo dry the rain on my storm-beaten face,\\r\\nFor no man well of such a salve can speak,\\r\\nThat heals the wound, and cures not the disgrace:\\r\\nNor can thy shame give physic to my grief;\\r\\nThough thou repent, yet I have still the loss:\\r\\nThe offender’s sorrow lends but weak relief\\r\\nTo him that bears the strong offence’s cross.\\r\\n    Ah! but those tears are pearl which thy love sheds,\\r\\n    And they are rich and ransom all ill deeds.\\r\\n\\r\\nXXXV\\r\\n\\r\\nNo more be griev’d at that which thou hast done:\\r\\nRoses have thorns, and silver fountains mud:\\r\\nClouds and eclipses stain both moon and sun,\\r\\nAnd loathsome canker lives in sweetest bud.\\r\\nAll men make faults, and even I in this,\\r\\nAuthorizing thy trespass with compare,\\r\\nMyself corrupting, salving thy amiss,\\r\\nExcusing thy sins more than thy sins are;\\r\\nFor to thy sensual fault I bring in sense;\\r\\nThy adverse party is thy advocate,\\r\\nAnd ’gainst myself a lawful plea commence:\\r\\nSuch civil war is in my love and hate,\\r\\n    That I an accessary needs must be,\\r\\n    To that sweet thief which sourly robs from me.\\r\\n\\r\\nXXXVI\\r\\n\\r\\nLet me confess that we two must be twain,\\r\\nAlthough our undivided loves are one:\\r\\nSo shall those blots that do with me remain,\\r\\nWithout thy help, by me be borne alone.\\r\\nIn our two loves there is but one respect,\\r\\nThough in our lives a separable spite,\\r\\nWhich though it alter not love’s sole effect,\\r\\nYet doth it steal sweet hours from love’s delight.\\r\\nI may not evermore acknowledge thee,\\r\\nLest my bewailed guilt should do thee shame,\\r\\nNor thou with public kindness honour me,\\r\\nUnless thou take that honour from thy name:\\r\\n    But do not so, I love thee in such sort,\\r\\n    As thou being mine, mine is thy good report.\\r\\n\\r\\nXXXVII\\r\\n\\r\\nAs a decrepit father takes delight\\r\\nTo see his active child do deeds of youth,\\r\\nSo I, made lame by Fortune’s dearest spite,\\r\\nTake all my comfort of thy worth and truth;\\r\\nFor whether beauty, birth, or wealth, or wit,\\r\\nOr any of these all, or all, or more,\\r\\nEntitled in thy parts, do crowned sit,\\r\\nI make my love engrafted, to this store:\\r\\nSo then I am not lame, poor, nor despis’d,\\r\\nWhilst that this shadow doth such substance give\\r\\nThat I in thy abundance am suffic’d,\\r\\nAnd by a part of all thy glory live.\\r\\n    Look what is best, that best I wish in thee:\\r\\n    This wish I have; then ten times happy me!\\r\\n\\r\\nXXXVIII\\r\\n\\r\\nHow can my Muse want subject to invent,\\r\\nWhile thou dost breathe, that pour’st into my verse\\r\\nThine own sweet argument, too excellent\\r\\nFor every vulgar paper to rehearse?\\r\\nO! give thyself the thanks, if aught in me\\r\\nWorthy perusal stand against thy sight;\\r\\nFor who’s so dumb that cannot write to thee,\\r\\nWhen thou thyself dost give invention light?\\r\\nBe thou the tenth Muse, ten times more in worth\\r\\nThan those old nine which rhymers invocate;\\r\\nAnd he that calls on thee, let him bring forth\\r\\nEternal numbers to outlive long date.\\r\\n    If my slight Muse do please these curious days,\\r\\n    The pain be mine, but thine shall be the praise.\\r\\n\\r\\nXXXIX\\r\\n\\r\\nO! how thy worth with manners may I sing,\\r\\nWhen thou art all the better part of me?\\r\\nWhat can mine own praise to mine own self bring?\\r\\nAnd what is’t but mine own when I praise thee?\\r\\nEven for this, let us divided live,\\r\\nAnd our dear love lose name of single one,\\r\\nThat by this separation I may give\\r\\nThat due to thee which thou deserv’st alone.\\r\\nO absence! what a torment wouldst thou prove,\\r\\nWere it not thy sour leisure gave sweet leave,\\r\\nTo entertain the time with thoughts of love,\\r\\nWhich time and thoughts so sweetly doth deceive,\\r\\n    And that thou teachest how to make one twain,\\r\\n    By praising him here who doth hence remain.\\r\\n\\r\\nXL\\r\\n\\r\\nTake all my loves, my love, yea take them all;\\r\\nWhat hast thou then more than thou hadst before?\\r\\nNo love, my love, that thou mayst true love call;\\r\\nAll mine was thine, before thou hadst this more.\\r\\nThen, if for my love, thou my love receivest,\\r\\nI cannot blame thee, for my love thou usest;\\r\\nBut yet be blam’d, if thou thyself deceivest\\r\\nBy wilful taste of what thyself refusest.\\r\\nI do forgive thy robbery, gentle thief,\\r\\nAlthough thou steal thee all my poverty:\\r\\nAnd yet, love knows it is a greater grief\\r\\nTo bear love’s wrong, than hate’s known injury.\\r\\n    Lascivious grace, in whom all ill well shows,\\r\\n    Kill me with spites yet we must not be foes.\\r\\n\\r\\nXLI\\r\\n\\r\\nThose pretty wrongs that liberty commits,\\r\\nWhen I am sometime absent from thy heart,\\r\\nThy beauty, and thy years full well befits,\\r\\nFor still temptation follows where thou art.\\r\\nGentle thou art, and therefore to be won,\\r\\nBeauteous thou art, therefore to be assail’d;\\r\\nAnd when a woman woos, what woman’s son\\r\\nWill sourly leave her till he have prevail’d?\\r\\nAy me! but yet thou mightst my seat forbear,\\r\\nAnd chide thy beauty and thy straying youth,\\r\\nWho lead thee in their riot even there\\r\\nWhere thou art forced to break a twofold truth:\\r\\n    Hers by thy beauty tempting her to thee,\\r\\n    Thine by thy beauty being false to me.\\r\\n\\r\\nXLII\\r\\n\\r\\nThat thou hast her it is not all my grief,\\r\\nAnd yet it may be said I loved her dearly;\\r\\nThat she hath thee is of my wailing chief,\\r\\nA loss in love that touches me more nearly.\\r\\nLoving offenders thus I will excuse ye:\\r\\nThou dost love her, because thou know’st I love her;\\r\\nAnd for my sake even so doth she abuse me,\\r\\nSuffering my friend for my sake to approve her.\\r\\nIf I lose thee, my loss is my love’s gain,\\r\\nAnd losing her, my friend hath found that loss;\\r\\nBoth find each other, and I lose both twain,\\r\\nAnd both for my sake lay on me this cross:\\r\\n    But here’s the joy; my friend and I are one;\\r\\n    Sweet flattery! then she loves but me alone.\\r\\n\\r\\nXLIII\\r\\n\\r\\nWhen most I wink, then do mine eyes best see,\\r\\nFor all the day they view things unrespected;\\r\\nBut when I sleep, in dreams they look on thee,\\r\\nAnd darkly bright, are bright in dark directed.\\r\\nThen thou, whose shadow shadows doth make bright,\\r\\nHow would thy shadow’s form form happy show\\r\\nTo the clear day with thy much clearer light,\\r\\nWhen to unseeing eyes thy shade shines so!\\r\\nHow would, I say, mine eyes be blessed made\\r\\nBy looking on thee in the living day,\\r\\nWhen in dead night thy fair imperfect shade\\r\\nThrough heavy sleep on sightless eyes doth stay!\\r\\n    All days are nights to see till I see thee,\\r\\n    And nights bright days when dreams do show thee me.\\r\\n\\r\\nXLIV\\r\\n\\r\\nIf the dull substance of my flesh were thought,\\r\\nInjurious distance should not stop my way;\\r\\nFor then despite of space I would be brought,\\r\\nFrom limits far remote, where thou dost stay.\\r\\nNo matter then although my foot did stand\\r\\nUpon the farthest earth remov’d from thee;\\r\\nFor nimble thought can jump both sea and land,\\r\\nAs soon as think the place where he would be.\\r\\nBut, ah! thought kills me that I am not thought,\\r\\nTo leap large lengths of miles when thou art gone,\\r\\nBut that so much of earth and water wrought,\\r\\nI must attend time’s leisure with my moan;\\r\\n    Receiving nought by elements so slow\\r\\n    But heavy tears, badges of either’s woe.\\r\\n\\r\\nXLV\\r\\n\\r\\nThe other two, slight air, and purging fire\\r\\nAre both with thee, wherever I abide;\\r\\nThe first my thought, the other my desire,\\r\\nThese present-absent with swift motion slide.\\r\\nFor when these quicker elements are gone\\r\\nIn tender embassy of love to thee,\\r\\nMy life, being made of four, with two alone\\r\\nSinks down to death, oppress’d with melancholy;\\r\\nUntil life’s composition be recur’d\\r\\nBy those swift messengers return’d from thee,\\r\\nWho even but now come back again, assur’d,\\r\\nOf thy fair health, recounting it to me:\\r\\n    This told, I joy; but then no longer glad,\\r\\n    I send them back again, and straight grow sad.\\r\\n\\r\\nXLVI\\r\\n\\r\\nMine eye and heart are at a mortal war,\\r\\nHow to divide the conquest of thy sight;\\r\\nMine eye my heart thy picture’s sight would bar,\\r\\nMy heart mine eye the freedom of that right.\\r\\nMy heart doth plead that thou in him dost lie,\\r\\nA closet never pierced with crystal eyes;\\r\\nBut the defendant doth that plea deny,\\r\\nAnd says in him thy fair appearance lies.\\r\\nTo side this title is impannelled\\r\\nA quest of thoughts, all tenants to the heart;\\r\\nAnd by their verdict is determined\\r\\nThe clear eye’s moiety, and the dear heart’s part:\\r\\n    As thus; mine eye’s due is thy outward part,\\r\\n    And my heart’s right, thy inward love of heart.\\r\\n\\r\\nXLVII\\r\\n\\r\\nBetwixt mine eye and heart a league is took,\\r\\nAnd each doth good turns now unto the other:\\r\\nWhen that mine eye is famish’d for a look,\\r\\nOr heart in love with sighs himself doth smother,\\r\\nWith my love’s picture then my eye doth feast,\\r\\nAnd to the painted banquet bids my heart;\\r\\nAnother time mine eye is my heart’s guest,\\r\\nAnd in his thoughts of love doth share a part:\\r\\nSo, either by thy picture or my love,\\r\\nThyself away, art present still with me;\\r\\nFor thou not farther than my thoughts canst move,\\r\\nAnd I am still with them, and they with thee;\\r\\n    Or, if they sleep, thy picture in my sight\\r\\n    Awakes my heart, to heart’s and eye’s delight.\\r\\n\\r\\nXLVIII\\r\\n\\r\\nHow careful was I when I took my way,\\r\\nEach trifle under truest bars to thrust,\\r\\nThat to my use it might unused stay\\r\\nFrom hands of falsehood, in sure wards of trust!\\r\\nBut thou, to whom my jewels trifles are,\\r\\nMost worthy comfort, now my greatest grief,\\r\\nThou best of dearest, and mine only care,\\r\\nArt left the prey of every vulgar thief.\\r\\nThee have I not lock’d up in any chest,\\r\\nSave where thou art not, though I feel thou art,\\r\\nWithin the gentle closure of my breast,\\r\\nFrom whence at pleasure thou mayst come and part;\\r\\n    And even thence thou wilt be stol’n I fear,\\r\\n    For truth proves thievish for a prize so dear.\\r\\n\\r\\nXLIX\\r\\n\\r\\nAgainst that time, if ever that time come,\\r\\nWhen I shall see thee frown on my defects,\\r\\nWhen as thy love hath cast his utmost sum,\\r\\nCall’d to that audit by advis’d respects;\\r\\nAgainst that time when thou shalt strangely pass,\\r\\nAnd scarcely greet me with that sun, thine eye,\\r\\nWhen love, converted from the thing it was,\\r\\nShall reasons find of settled gravity;\\r\\nAgainst that time do I ensconce me here,\\r\\nWithin the knowledge of mine own desert,\\r\\nAnd this my hand, against my self uprear,\\r\\nTo guard the lawful reasons on thy part:\\r\\n    To leave poor me thou hast the strength of laws,\\r\\n    Since why to love I can allege no cause.\\r\\n\\r\\nL\\r\\n\\r\\nHow heavy do I journey on the way,\\r\\nWhen what I seek, my weary travel’s end,\\r\\nDoth teach that ease and that repose to say,\\r\\n‘Thus far the miles are measured from thy friend!’\\r\\nThe beast that bears me, tired with my woe,\\r\\nPlods dully on, to bear that weight in me,\\r\\nAs if by some instinct the wretch did know\\r\\nHis rider lov’d not speed, being made from thee:\\r\\nThe bloody spur cannot provoke him on,\\r\\nThat sometimes anger thrusts into his hide,\\r\\nWhich heavily he answers with a groan,\\r\\nMore sharp to me than spurring to his side;\\r\\n    For that same groan doth put this in my mind,\\r\\n    My grief lies onward, and my joy behind.\\r\\n\\r\\nLI\\r\\n\\r\\nThus can my love excuse the slow offence\\r\\nOf my dull bearer when from thee I speed:\\r\\nFrom where thou art why should I haste me thence?\\r\\nTill I return, of posting is no need.\\r\\nO! what excuse will my poor beast then find,\\r\\nWhen swift extremity can seem but slow?\\r\\nThen should I spur, though mounted on the wind,\\r\\nIn winged speed no motion shall I know,\\r\\nThen can no horse with my desire keep pace;\\r\\nTherefore desire, of perfect’st love being made,\\r\\nShall neigh no dull flesh in his fiery race,\\r\\nBut love, for love, thus shall excuse my jade:\\r\\n    ‘Since from thee going, he went wilful-slow,\\r\\n    Towards thee I’ll run, and give him leave to go.’\\r\\n\\r\\nLII\\r\\n\\r\\nSo am I as the rich, whose blessed key,\\r\\nCan bring him to his sweet up-locked treasure,\\r\\nThe which he will not every hour survey,\\r\\nFor blunting the fine point of seldom pleasure.\\r\\nTherefore are feasts so solemn and so rare,\\r\\nSince, seldom coming in that long year set,\\r\\nLike stones of worth they thinly placed are,\\r\\nOr captain jewels in the carcanet.\\r\\nSo is the time that keeps you as my chest,\\r\\nOr as the wardrobe which the robe doth hide,\\r\\nTo make some special instant special-blest,\\r\\nBy new unfolding his imprison’d pride.\\r\\n    Blessed are you whose worthiness gives scope,\\r\\n    Being had, to triumph; being lacked, to hope.\\r\\n\\r\\nLIII\\r\\n\\r\\nWhat is your substance, whereof are you made,\\r\\nThat millions of strange shadows on you tend?\\r\\nSince every one, hath every one, one shade,\\r\\nAnd you but one, can every shadow lend.\\r\\nDescribe Adonis, and the counterfeit\\r\\nIs poorly imitated after you;\\r\\nOn Helen’s cheek all art of beauty set,\\r\\nAnd you in Grecian tires are painted new:\\r\\nSpeak of the spring, and foison of the year,\\r\\nThe one doth shadow of your beauty show,\\r\\nThe other as your bounty doth appear;\\r\\nAnd you in every blessed shape we know.\\r\\n    In all external grace you have some part,\\r\\n    But you like none, none you, for constant heart.\\r\\n\\r\\nLIV\\r\\n\\r\\nO! how much more doth beauty beauteous seem\\r\\nBy that sweet ornament which truth doth give.\\r\\nThe rose looks fair, but fairer we it deem\\r\\nFor that sweet odour, which doth in it live.\\r\\nThe canker blooms have full as deep a dye\\r\\nAs the perfumed tincture of the roses.\\r\\nHang on such thorns, and play as wantonly\\r\\nWhen summer’s breath their masked buds discloses:\\r\\nBut, for their virtue only is their show,\\r\\nThey live unwoo’d, and unrespected fade;\\r\\nDie to themselves. Sweet roses do not so;\\r\\nOf their sweet deaths, are sweetest odours made:\\r\\n    And so of you, beauteous and lovely youth,\\r\\n    When that shall vade, by verse distills your truth.\\r\\n\\r\\nLV\\r\\n\\r\\nNot marble, nor the gilded monuments\\r\\nOf princes, shall outlive this powerful rhyme;\\r\\nBut you shall shine more bright in these contents\\r\\nThan unswept stone, besmear’d with sluttish time.\\r\\nWhen wasteful war shall statues overturn,\\r\\nAnd broils root out the work of masonry,\\r\\nNor Mars his sword, nor war’s quick fire shall burn\\r\\nThe living record of your memory.\\r\\n’Gainst death, and all-oblivious enmity\\r\\nShall you pace forth; your praise shall still find room\\r\\nEven in the eyes of all posterity\\r\\nThat wear this world out to the ending doom.\\r\\n    So, till the judgement that yourself arise,\\r\\n    You live in this, and dwell in lovers’ eyes.\\r\\n\\r\\nLVI\\r\\n\\r\\nSweet love, renew thy force; be it not said\\r\\nThy edge should blunter be than appetite,\\r\\nWhich but to-day by feeding is allay’d,\\r\\nTo-morrow sharpened in his former might:\\r\\nSo, love, be thou, although to-day thou fill\\r\\nThy hungry eyes, even till they wink with fulness,\\r\\nTo-morrow see again, and do not kill\\r\\nThe spirit of love, with a perpetual dulness.\\r\\nLet this sad interim like the ocean be\\r\\nWhich parts the shore, where two contracted new\\r\\nCome daily to the banks, that when they see\\r\\nReturn of love, more blest may be the view;\\r\\n    Or call it winter, which being full of care,\\r\\n    Makes summer’s welcome, thrice more wished, more rare.\\r\\n\\r\\nLVII\\r\\n\\r\\nBeing your slave what should I do but tend,\\r\\nUpon the hours, and times of your desire?\\r\\nI have no precious time at all to spend;\\r\\nNor services to do, till you require.\\r\\nNor dare I chide the world-without-end hour,\\r\\nWhilst I, my sovereign, watch the clock for you,\\r\\nNor think the bitterness of absence sour,\\r\\nWhen you have bid your servant once adieu;\\r\\nNor dare I question with my jealous thought\\r\\nWhere you may be, or your affairs suppose,\\r\\nBut, like a sad slave, stay and think of nought\\r\\nSave, where you are, how happy you make those.\\r\\n    So true a fool is love, that in your will,\\r\\n    Though you do anything, he thinks no ill.\\r\\n\\r\\nLVIII\\r\\n\\r\\nThat god forbid, that made me first your slave,\\r\\nI should in thought control your times of pleasure,\\r\\nOr at your hand the account of hours to crave,\\r\\nBeing your vassal, bound to stay your leisure!\\r\\nO! let me suffer, being at your beck,\\r\\nThe imprison’d absence of your liberty;\\r\\nAnd patience, tame to sufferance, bide each check,\\r\\nWithout accusing you of injury.\\r\\nBe where you list, your charter is so strong\\r\\nThat you yourself may privilage your time\\r\\nTo what you will; to you it doth belong\\r\\nYourself to pardon of self-doing crime.\\r\\n    I am to wait, though waiting so be hell,\\r\\n    Not blame your pleasure be it ill or well.\\r\\n\\r\\nLIX\\r\\n\\r\\nIf there be nothing new, but that which is\\r\\nHath been before, how are our brains beguil’d,\\r\\nWhich labouring for invention bear amiss\\r\\nThe second burthen of a former child!\\r\\nO! that record could with a backward look,\\r\\nEven of five hundred courses of the sun,\\r\\nShow me your image in some antique book,\\r\\nSince mind at first in character was done!\\r\\nThat I might see what the old world could say\\r\\nTo this composed wonder of your frame;\\r\\nWh’r we are mended, or wh’r better they,\\r\\nOr whether revolution be the same.\\r\\n    O! sure I am the wits of former days,\\r\\n    To subjects worse have given admiring praise.\\r\\n\\r\\nLX\\r\\n\\r\\nLike as the waves make towards the pebbled shore,\\r\\nSo do our minutes hasten to their end;\\r\\nEach changing place with that which goes before,\\r\\nIn sequent toil all forwards do contend.\\r\\nNativity, once in the main of light,\\r\\nCrawls to maturity, wherewith being crown’d,\\r\\nCrooked eclipses ’gainst his glory fight,\\r\\nAnd Time that gave doth now his gift confound.\\r\\nTime doth transfix the flourish set on youth\\r\\nAnd delves the parallels in beauty’s brow,\\r\\nFeeds on the rarities of nature’s truth,\\r\\nAnd nothing stands but for his scythe to mow:\\r\\n    And yet to times in hope, my verse shall stand.\\r\\n    Praising thy worth, despite his cruel hand.\\r\\n\\r\\nLXI\\r\\n\\r\\nIs it thy will, thy image should keep open\\r\\nMy heavy eyelids to the weary night?\\r\\nDost thou desire my slumbers should be broken,\\r\\nWhile shadows like to thee do mock my sight?\\r\\nIs it thy spirit that thou send’st from thee\\r\\nSo far from home into my deeds to pry,\\r\\nTo find out shames and idle hours in me,\\r\\nThe scope and tenure of thy jealousy?\\r\\nO, no! thy love, though much, is not so great:\\r\\nIt is my love that keeps mine eye awake:\\r\\nMine own true love that doth my rest defeat,\\r\\nTo play the watchman ever for thy sake:\\r\\n    For thee watch I, whilst thou dost wake elsewhere,\\r\\n    From me far off, with others all too near.\\r\\n\\r\\nLXII\\r\\n\\r\\nSin of self-love possesseth all mine eye\\r\\nAnd all my soul, and all my every part;\\r\\nAnd for this sin there is no remedy,\\r\\nIt is so grounded inward in my heart.\\r\\nMethinks no face so gracious is as mine,\\r\\nNo shape so true, no truth of such account;\\r\\nAnd for myself mine own worth do define,\\r\\nAs I all other in all worths surmount.\\r\\nBut when my glass shows me myself indeed\\r\\nBeated and chopp’d with tanned antiquity,\\r\\nMine own self-love quite contrary I read;\\r\\nSelf so self-loving were iniquity.\\r\\n    ’Tis thee, myself, that for myself I praise,\\r\\n    Painting my age with beauty of thy days.\\r\\n\\r\\nLXIII\\r\\n\\r\\nAgainst my love shall be as I am now,\\r\\nWith Time’s injurious hand crush’d and o’erworn;\\r\\nWhen hours have drain’d his blood and fill’d his brow\\r\\nWith lines and wrinkles; when his youthful morn\\r\\nHath travell’d on to age’s steepy night;\\r\\nAnd all those beauties whereof now he’s king\\r\\nAre vanishing, or vanished out of sight,\\r\\nStealing away the treasure of his spring;\\r\\nFor such a time do I now fortify\\r\\nAgainst confounding age’s cruel knife,\\r\\nThat he shall never cut from memory\\r\\nMy sweet love’s beauty, though my lover’s life:\\r\\n    His beauty shall in these black lines be seen,\\r\\n    And they shall live, and he in them still green.\\r\\n\\r\\nLXIV\\r\\n\\r\\nWhen I have seen by Time’s fell hand defac’d\\r\\nThe rich-proud cost of outworn buried age;\\r\\nWhen sometime lofty towers I see down-raz’d,\\r\\nAnd brass eternal slave to mortal rage;\\r\\nWhen I have seen the hungry ocean gain\\r\\nAdvantage on the kingdom of the shore,\\r\\nAnd the firm soil win of the watery main,\\r\\nIncreasing store with loss, and loss with store;\\r\\nWhen I have seen such interchange of state,\\r\\nOr state itself confounded, to decay;\\r\\nRuin hath taught me thus to ruminate:\\r\\nThat Time will come and take my love away.\\r\\n    This thought is as a death which cannot choose\\r\\n    But weep to have, that which it fears to lose.\\r\\n\\r\\nLXV\\r\\n\\r\\nSince brass, nor stone, nor earth, nor boundless sea,\\r\\nBut sad mortality o’ersways their power,\\r\\nHow with this rage shall beauty hold a plea,\\r\\nWhose action is no stronger than a flower?\\r\\nO! how shall summer’s honey breath hold out,\\r\\nAgainst the wrackful siege of battering days,\\r\\nWhen rocks impregnable are not so stout,\\r\\nNor gates of steel so strong but Time decays?\\r\\nO fearful meditation! where, alack,\\r\\nShall Time’s best jewel from Time’s chest lie hid?\\r\\nOr what strong hand can hold his swift foot back?\\r\\nOr who his spoil of beauty can forbid?\\r\\n    O! none, unless this miracle have might,\\r\\n    That in black ink my love may still shine bright.\\r\\n\\r\\nLXVI\\r\\n\\r\\nTired with all these, for restful death I cry:\\r\\nAs to behold desert a beggar born,\\r\\nAnd needy nothing trimm’d in jollity,\\r\\nAnd purest faith unhappily forsworn,\\r\\nAnd gilded honour shamefully misplac’d,\\r\\nAnd maiden virtue rudely strumpeted,\\r\\nAnd right perfection wrongfully disgrac’d,\\r\\nAnd strength by limping sway disabled\\r\\nAnd art made tongue-tied by authority,\\r\\nAnd folly, doctor-like, controlling skill,\\r\\nAnd simple truth miscall’d simplicity,\\r\\nAnd captive good attending captain ill:\\r\\n    Tir’d with all these, from these would I be gone,\\r\\n    Save that, to die, I leave my love alone.\\r\\n\\r\\nLXVII\\r\\n\\r\\nAh! wherefore with infection should he live,\\r\\nAnd with his presence grace impiety,\\r\\nThat sin by him advantage should achieve,\\r\\nAnd lace itself with his society?\\r\\nWhy should false painting imitate his cheek,\\r\\nAnd steel dead seeming of his living hue?\\r\\nWhy should poor beauty indirectly seek\\r\\nRoses of shadow, since his rose is true?\\r\\nWhy should he live, now Nature bankrupt is,\\r\\nBeggar’d of blood to blush through lively veins?\\r\\nFor she hath no exchequer now but his,\\r\\nAnd proud of many, lives upon his gains.\\r\\n    O! him she stores, to show what wealth she had\\r\\n    In days long since, before these last so bad.\\r\\n\\r\\nLXVIII\\r\\n\\r\\nThus is his cheek the map of days outworn,\\r\\nWhen beauty lived and died as flowers do now,\\r\\nBefore these bastard signs of fair were born,\\r\\nOr durst inhabit on a living brow;\\r\\nBefore the golden tresses of the dead,\\r\\nThe right of sepulchres, were shorn away,\\r\\nTo live a second life on second head;\\r\\nEre beauty’s dead fleece made another gay:\\r\\nIn him those holy antique hours are seen,\\r\\nWithout all ornament, itself and true,\\r\\nMaking no summer of another’s green,\\r\\nRobbing no old to dress his beauty new;\\r\\n    And him as for a map doth Nature store,\\r\\n    To show false Art what beauty was of yore.\\r\\n\\r\\nLXIX\\r\\n\\r\\nThose parts of thee that the world’s eye doth view\\r\\nWant nothing that the thought of hearts can mend;\\r\\nAll tongues, the voice of souls, give thee that due,\\r\\nUttering bare truth, even so as foes commend.\\r\\nThy outward thus with outward praise is crown’d;\\r\\nBut those same tongues, that give thee so thine own,\\r\\nIn other accents do this praise confound\\r\\nBy seeing farther than the eye hath shown.\\r\\nThey look into the beauty of thy mind,\\r\\nAnd that in guess they measure by thy deeds;\\r\\nThen churls their thoughts, although their eyes were kind,\\r\\nTo thy fair flower add the rank smell of weeds:\\r\\n    But why thy odour matcheth not thy show,\\r\\n    The soil is this, that thou dost common grow.\\r\\n\\r\\nLXX\\r\\n\\r\\nThat thou art blam’d shall not be thy defect,\\r\\nFor slander’s mark was ever yet the fair;\\r\\nThe ornament of beauty is suspect,\\r\\nA crow that flies in heaven’s sweetest air.\\r\\nSo thou be good, slander doth but approve\\r\\nThy worth the greater being woo’d of time;\\r\\nFor canker vice the sweetest buds doth love,\\r\\nAnd thou present’st a pure unstained prime.\\r\\nThou hast passed by the ambush of young days\\r\\nEither not assail’d, or victor being charg’d;\\r\\nYet this thy praise cannot be so thy praise,\\r\\nTo tie up envy, evermore enlarg’d,\\r\\n    If some suspect of ill mask’d not thy show,\\r\\n    Then thou alone kingdoms of hearts shouldst owe.\\r\\n\\r\\nLXXI\\r\\n\\r\\nNo longer mourn for me when I am dead\\r\\nThan you shall hear the surly sullen bell\\r\\nGive warning to the world that I am fled\\r\\nFrom this vile world with vilest worms to dwell:\\r\\nNay, if you read this line, remember not\\r\\nThe hand that writ it, for I love you so,\\r\\nThat I in your sweet thoughts would be forgot,\\r\\nIf thinking on me then should make you woe.\\r\\nO if, I say, you look upon this verse,\\r\\nWhen I perhaps compounded am with clay,\\r\\nDo not so much as my poor name rehearse;\\r\\nBut let your love even with my life decay;\\r\\n    Lest the wise world should look into your moan,\\r\\n    And mock you with me after I am gone.\\r\\n\\r\\nLXXII\\r\\n\\r\\nO! lest the world should task you to recite\\r\\nWhat merit lived in me, that you should love\\r\\nAfter my death, dear love, forget me quite,\\r\\nFor you in me can nothing worthy prove;\\r\\nUnless you would devise some virtuous lie,\\r\\nTo do more for me than mine own desert,\\r\\nAnd hang more praise upon deceased I\\r\\nThan niggard truth would willingly impart:\\r\\nO! lest your true love may seem false in this\\r\\nThat you for love speak well of me untrue,\\r\\nMy name be buried where my body is,\\r\\nAnd live no more to shame nor me nor you.\\r\\n    For I am shamed by that which I bring forth,\\r\\n    And so should you, to love things nothing worth.\\r\\n\\r\\nLXXIII\\r\\n\\r\\nThat time of year thou mayst in me behold\\r\\nWhen yellow leaves, or none, or few, do hang\\r\\nUpon those boughs which shake against the cold,\\r\\nBare ruin’d choirs, where late the sweet birds sang.\\r\\nIn me thou see’st the twilight of such day\\r\\nAs after sunset fadeth in the west;\\r\\nWhich by and by black night doth take away,\\r\\nDeath’s second self, that seals up all in rest.\\r\\nIn me thou see’st the glowing of such fire,\\r\\nThat on the ashes of his youth doth lie,\\r\\nAs the death-bed, whereon it must expire,\\r\\nConsum’d with that which it was nourish’d by.\\r\\n    This thou perceiv’st, which makes thy love more strong,\\r\\n    To love that well, which thou must leave ere long.\\r\\n\\r\\nLXXIV\\r\\n\\r\\nBut be contented: when that fell arrest\\r\\nWithout all bail shall carry me away,\\r\\nMy life hath in this line some interest,\\r\\nWhich for memorial still with thee shall stay.\\r\\nWhen thou reviewest this, thou dost review\\r\\nThe very part was consecrate to thee:\\r\\nThe earth can have but earth, which is his due;\\r\\nMy spirit is thine, the better part of me:\\r\\nSo then thou hast but lost the dregs of life,\\r\\nThe prey of worms, my body being dead;\\r\\nThe coward conquest of a wretch’s knife,\\r\\nToo base of thee to be remembered.\\r\\n    The worth of that is that which it contains,\\r\\n    And that is this, and this with thee remains.\\r\\n\\r\\nLXXV\\r\\n\\r\\nSo are you to my thoughts as food to life,\\r\\nOr as sweet-season’d showers are to the ground;\\r\\nAnd for the peace of you I hold such strife\\r\\nAs ’twixt a miser and his wealth is found.\\r\\nNow proud as an enjoyer, and anon\\r\\nDoubting the filching age will steal his treasure;\\r\\nNow counting best to be with you alone,\\r\\nThen better’d that the world may see my pleasure:\\r\\nSometime all full with feasting on your sight,\\r\\nAnd by and by clean starved for a look;\\r\\nPossessing or pursuing no delight,\\r\\nSave what is had, or must from you be took.\\r\\n    Thus do I pine and surfeit day by day,\\r\\n    Or gluttoning on all, or all away.\\r\\n\\r\\nLXXVI\\r\\n\\r\\nWhy is my verse so barren of new pride,\\r\\nSo far from variation or quick change?\\r\\nWhy with the time do I not glance aside\\r\\nTo new-found methods, and to compounds strange?\\r\\nWhy write I still all one, ever the same,\\r\\nAnd keep invention in a noted weed,\\r\\nThat every word doth almost tell my name,\\r\\nShowing their birth, and where they did proceed?\\r\\nO! know sweet love I always write of you,\\r\\nAnd you and love are still my argument;\\r\\nSo all my best is dressing old words new,\\r\\nSpending again what is already spent:\\r\\n    For as the sun is daily new and old,\\r\\n    So is my love still telling what is told.\\r\\n\\r\\nLXXVII\\r\\n\\r\\nThy glass will show thee how thy beauties wear,\\r\\nThy dial how thy precious minutes waste;\\r\\nThese vacant leaves thy mind’s imprint will bear,\\r\\nAnd of this book, this learning mayst thou taste.\\r\\nThe wrinkles which thy glass will truly show\\r\\nOf mouthed graves will give thee memory;\\r\\nThou by thy dial’s shady stealth mayst know\\r\\nTime’s thievish progress to eternity.\\r\\nLook! what thy memory cannot contain,\\r\\nCommit to these waste blanks, and thou shalt find\\r\\nThose children nursed, deliver’d from thy brain,\\r\\nTo take a new acquaintance of thy mind.\\r\\n    These offices, so oft as thou wilt look,\\r\\n    Shall profit thee and much enrich thy book.\\r\\n\\r\\nLXXVIII\\r\\n\\r\\nSo oft have I invoked thee for my Muse,\\r\\nAnd found such fair assistance in my verse\\r\\nAs every alien pen hath got my use\\r\\nAnd under thee their poesy disperse.\\r\\nThine eyes, that taught the dumb on high to sing\\r\\nAnd heavy ignorance aloft to fly,\\r\\nHave added feathers to the learned’s wing\\r\\nAnd given grace a double majesty.\\r\\nYet be most proud of that which I compile,\\r\\nWhose influence is thine, and born of thee:\\r\\nIn others’ works thou dost but mend the style,\\r\\nAnd arts with thy sweet graces graced be;\\r\\n    But thou art all my art, and dost advance\\r\\n    As high as learning, my rude ignorance.\\r\\n\\r\\nLXXIX\\r\\n\\r\\nWhilst I alone did call upon thy aid,\\r\\nMy verse alone had all thy gentle grace;\\r\\nBut now my gracious numbers are decay’d,\\r\\nAnd my sick Muse doth give an other place.\\r\\nI grant, sweet love, thy lovely argument\\r\\nDeserves the travail of a worthier pen;\\r\\nYet what of thee thy poet doth invent\\r\\nHe robs thee of, and pays it thee again.\\r\\nHe lends thee virtue, and he stole that word\\r\\nFrom thy behaviour; beauty doth he give,\\r\\nAnd found it in thy cheek: he can afford\\r\\nNo praise to thee, but what in thee doth live.\\r\\n    Then thank him not for that which he doth say,\\r\\n    Since what he owes thee, thou thyself dost pay.\\r\\n\\r\\nLXXX\\r\\n\\r\\nO how I faint when I of you do write,\\r\\nKnowing a better spirit doth use your name,\\r\\nAnd in the praise thereof spends all his might,\\r\\nTo make me tongue-tied speaking of your fame!\\r\\nBut since your worth, wide as the ocean is,\\r\\nThe humble as the proudest sail doth bear,\\r\\nMy saucy bark, inferior far to his,\\r\\nOn your broad main doth wilfully appear.\\r\\nYour shallowest help will hold me up afloat,\\r\\nWhilst he upon your soundless deep doth ride;\\r\\nOr, being wrack’d, I am a worthless boat,\\r\\nHe of tall building, and of goodly pride:\\r\\n    Then if he thrive and I be cast away,\\r\\n    The worst was this: my love was my decay.\\r\\n\\r\\nLXXXI\\r\\n\\r\\nOr I shall live your epitaph to make,\\r\\nOr you survive when I in earth am rotten;\\r\\nFrom hence your memory death cannot take,\\r\\nAlthough in me each part will be forgotten.\\r\\nYour name from hence immortal life shall have,\\r\\nThough I, once gone, to all the world must die:\\r\\nThe earth can yield me but a common grave,\\r\\nWhen you entombed in men’s eyes shall lie.\\r\\nYour monument shall be my gentle verse,\\r\\nWhich eyes not yet created shall o’er-read;\\r\\nAnd tongues to be, your being shall rehearse,\\r\\nWhen all the breathers of this world are dead;\\r\\n    You still shall live, such virtue hath my pen,\\r\\n    Where breath most breathes, even in the mouths of men.\\r\\n\\r\\nLXXXII\\r\\n\\r\\nI grant thou wert not married to my Muse,\\r\\nAnd therefore mayst without attaint o’erlook\\r\\nThe dedicated words which writers use\\r\\nOf their fair subject, blessing every book.\\r\\nThou art as fair in knowledge as in hue,\\r\\nFinding thy worth a limit past my praise;\\r\\nAnd therefore art enforced to seek anew\\r\\nSome fresher stamp of the time-bettering days.\\r\\nAnd do so, love; yet when they have devis’d,\\r\\nWhat strained touches rhetoric can lend,\\r\\nThou truly fair, wert truly sympathiz’d\\r\\nIn true plain words, by thy true-telling friend;\\r\\n    And their gross painting might be better us’d\\r\\n    Where cheeks need blood; in thee it is abus’d.\\r\\n\\r\\nLXXXIII\\r\\n\\r\\nI never saw that you did painting need,\\r\\nAnd therefore to your fair no painting set;\\r\\nI found, or thought I found, you did exceed\\r\\nThat barren tender of a poet’s debt:\\r\\nAnd therefore have I slept in your report,\\r\\nThat you yourself, being extant, well might show\\r\\nHow far a modern quill doth come too short,\\r\\nSpeaking of worth, what worth in you doth grow.\\r\\nThis silence for my sin you did impute,\\r\\nWhich shall be most my glory being dumb;\\r\\nFor I impair not beauty being mute,\\r\\nWhen others would give life, and bring a tomb.\\r\\n    There lives more life in one of your fair eyes\\r\\n    Than both your poets can in praise devise.\\r\\n\\r\\nLXXXIV\\r\\n\\r\\nWho is it that says most, which can say more,\\r\\nThan this rich praise: that you alone are you,\\r\\nIn whose confine immured is the store\\r\\nWhich should example where your equal grew.\\r\\nLean penury within that pen doth dwell\\r\\nThat to his subject lends not some small glory;\\r\\nBut he that writes of you, if he can tell\\r\\nThat you are you, so dignifies his story,\\r\\nLet him but copy what in you is writ,\\r\\nNot making worse what nature made so clear,\\r\\nAnd such a counterpart shall fame his wit,\\r\\nMaking his style admired every where.\\r\\n    You to your beauteous blessings add a curse,\\r\\n    Being fond on praise, which makes your praises worse.\\r\\n\\r\\nLXXXV\\r\\n\\r\\nMy tongue-tied Muse in manners holds her still,\\r\\nWhile comments of your praise richly compil’d,\\r\\nReserve their character with golden quill,\\r\\nAnd precious phrase by all the Muses fil’d.\\r\\nI think good thoughts, whilst others write good words,\\r\\nAnd like unlettered clerk still cry ‘Amen’\\r\\nTo every hymn that able spirit affords,\\r\\nIn polish’d form of well-refined pen.\\r\\nHearing you praised, I say ‘’tis so, ’tis true,’\\r\\nAnd to the most of praise add something more;\\r\\nBut that is in my thought, whose love to you,\\r\\nThough words come hindmost, holds his rank before.\\r\\n    Then others, for the breath of words respect,\\r\\n    Me for my dumb thoughts, speaking in effect.\\r\\n\\r\\nLXXXVI\\r\\n\\r\\nWas it the proud full sail of his great verse,\\r\\nBound for the prize of all too precious you,\\r\\nThat did my ripe thoughts in my brain inhearse,\\r\\nMaking their tomb the womb wherein they grew?\\r\\nWas it his spirit, by spirits taught to write,\\r\\nAbove a mortal pitch, that struck me dead?\\r\\nNo, neither he, nor his compeers by night\\r\\nGiving him aid, my verse astonished.\\r\\nHe, nor that affable familiar ghost\\r\\nWhich nightly gulls him with intelligence,\\r\\nAs victors of my silence cannot boast;\\r\\nI was not sick of any fear from thence:\\r\\n    But when your countenance fill’d up his line,\\r\\n    Then lacked I matter; that enfeebled mine.\\r\\n\\r\\nLXXXVII\\r\\n\\r\\nFarewell! thou art too dear for my possessing,\\r\\nAnd like enough thou know’st thy estimate,\\r\\nThe charter of thy worth gives thee releasing;\\r\\nMy bonds in thee are all determinate.\\r\\nFor how do I hold thee but by thy granting?\\r\\nAnd for that riches where is my deserving?\\r\\nThe cause of this fair gift in me is wanting,\\r\\nAnd so my patent back again is swerving.\\r\\nThyself thou gav’st, thy own worth then not knowing,\\r\\nOr me to whom thou gav’st it, else mistaking;\\r\\nSo thy great gift, upon misprision growing,\\r\\nComes home again, on better judgement making.\\r\\n    Thus have I had thee, as a dream doth flatter,\\r\\n    In sleep a king, but waking no such matter.\\r\\n\\r\\nLXXXVIII\\r\\n\\r\\nWhen thou shalt be dispos’d to set me light,\\r\\nAnd place my merit in the eye of scorn,\\r\\nUpon thy side, against myself I’ll fight,\\r\\nAnd prove thee virtuous, though thou art forsworn.\\r\\nWith mine own weakness, being best acquainted,\\r\\nUpon thy part I can set down a story\\r\\nOf faults conceal’d, wherein I am attainted;\\r\\nThat thou in losing me shalt win much glory:\\r\\nAnd I by this will be a gainer too;\\r\\nFor bending all my loving thoughts on thee,\\r\\nThe injuries that to myself I do,\\r\\nDoing thee vantage, double-vantage me.\\r\\n    Such is my love, to thee I so belong,\\r\\n    That for thy right, myself will bear all wrong.\\r\\n\\r\\nLXXXIX\\r\\n\\r\\nSay that thou didst forsake me for some fault,\\r\\nAnd I will comment upon that offence:\\r\\nSpeak of my lameness, and I straight will halt,\\r\\nAgainst thy reasons making no defence.\\r\\nThou canst not love disgrace me half so ill,\\r\\nTo set a form upon desired change,\\r\\nAs I’ll myself disgrace; knowing thy will,\\r\\nI will acquaintance strangle, and look strange;\\r\\nBe absent from thy walks; and in my tongue\\r\\nThy sweet beloved name no more shall dwell,\\r\\nLest I, too much profane, should do it wrong,\\r\\nAnd haply of our old acquaintance tell.\\r\\n    For thee, against my self I’ll vow debate,\\r\\n    For I must ne’er love him whom thou dost hate.\\r\\n\\r\\nXC\\r\\n\\r\\nThen hate me when thou wilt; if ever, now;\\r\\nNow, while the world is bent my deeds to cross,\\r\\nJoin with the spite of fortune, make me bow,\\r\\nAnd do not drop in for an after-loss:\\r\\nAh! do not, when my heart hath ’scap’d this sorrow,\\r\\nCome in the rearward of a conquer’d woe;\\r\\nGive not a windy night a rainy morrow,\\r\\nTo linger out a purpos’d overthrow.\\r\\nIf thou wilt leave me, do not leave me last,\\r\\nWhen other petty griefs have done their spite,\\r\\nBut in the onset come: so shall I taste\\r\\nAt first the very worst of fortune’s might;\\r\\n    And other strains of woe, which now seem woe,\\r\\n    Compar’d with loss of thee, will not seem so.\\r\\n\\r\\nXCI\\r\\n\\r\\nSome glory in their birth, some in their skill,\\r\\nSome in their wealth, some in their body’s force,\\r\\nSome in their garments though new-fangled ill;\\r\\nSome in their hawks and hounds, some in their horse;\\r\\nAnd every humour hath his adjunct pleasure,\\r\\nWherein it finds a joy above the rest:\\r\\nBut these particulars are not my measure,\\r\\nAll these I better in one general best.\\r\\nThy love is better than high birth to me,\\r\\nRicher than wealth, prouder than garments’ costs,\\r\\nOf more delight than hawks and horses be;\\r\\nAnd having thee, of all men’s pride I boast:\\r\\n    Wretched in this alone, that thou mayst take\\r\\n    All this away, and me most wretched make.\\r\\n\\r\\nXCII\\r\\n\\r\\nBut do thy worst to steal thyself away,\\r\\nFor term of life thou art assured mine;\\r\\nAnd life no longer than thy love will stay,\\r\\nFor it depends upon that love of thine.\\r\\nThen need I not to fear the worst of wrongs,\\r\\nWhen in the least of them my life hath end.\\r\\nI see a better state to me belongs\\r\\nThan that which on thy humour doth depend:\\r\\nThou canst not vex me with inconstant mind,\\r\\nSince that my life on thy revolt doth lie.\\r\\nO! what a happy title do I find,\\r\\nHappy to have thy love, happy to die!\\r\\n    But what’s so blessed-fair that fears no blot?\\r\\n    Thou mayst be false, and yet I know it not.\\r\\n\\r\\nXCIII\\r\\n\\r\\nSo shall I live, supposing thou art true,\\r\\nLike a deceived husband; so love’s face\\r\\nMay still seem love to me, though alter’d new;\\r\\nThy looks with me, thy heart in other place:\\r\\nFor there can live no hatred in thine eye,\\r\\nTherefore in that I cannot know thy change.\\r\\nIn many’s looks, the false heart’s history\\r\\nIs writ in moods, and frowns, and wrinkles strange.\\r\\nBut heaven in thy creation did decree\\r\\nThat in thy face sweet love should ever dwell;\\r\\nWhate’er thy thoughts, or thy heart’s workings be,\\r\\nThy looks should nothing thence, but sweetness tell.\\r\\n    How like Eve’s apple doth thy beauty grow,\\r\\n    If thy sweet virtue answer not thy show!\\r\\n\\r\\nXCIV\\r\\n\\r\\nThey that have power to hurt, and will do none,\\r\\nThat do not do the thing they most do show,\\r\\nWho, moving others, are themselves as stone,\\r\\nUnmoved, cold, and to temptation slow;\\r\\nThey rightly do inherit heaven’s graces,\\r\\nAnd husband nature’s riches from expense;\\r\\nThey are the lords and owners of their faces,\\r\\nOthers, but stewards of their excellence.\\r\\nThe summer’s flower is to the summer sweet,\\r\\nThough to itself, it only live and die,\\r\\nBut if that flower with base infection meet,\\r\\nThe basest weed outbraves his dignity:\\r\\n    For sweetest things turn sourest by their deeds;\\r\\n    Lilies that fester, smell far worse than weeds.\\r\\n\\r\\nXCV\\r\\n\\r\\nHow sweet and lovely dost thou make the shame\\r\\nWhich, like a canker in the fragrant rose,\\r\\nDoth spot the beauty of thy budding name!\\r\\nO! in what sweets dost thou thy sins enclose.\\r\\nThat tongue that tells the story of thy days,\\r\\nMaking lascivious comments on thy sport,\\r\\nCannot dispraise, but in a kind of praise;\\r\\nNaming thy name, blesses an ill report.\\r\\nO! what a mansion have those vices got\\r\\nWhich for their habitation chose out thee,\\r\\nWhere beauty’s veil doth cover every blot\\r\\nAnd all things turns to fair that eyes can see!\\r\\n    Take heed, dear heart, of this large privilege;\\r\\n    The hardest knife ill-us’d doth lose his edge.\\r\\n\\r\\nXCVI\\r\\n\\r\\nSome say thy fault is youth, some wantonness;\\r\\nSome say thy grace is youth and gentle sport;\\r\\nBoth grace and faults are lov’d of more and less:\\r\\nThou mak’st faults graces that to thee resort.\\r\\nAs on the finger of a throned queen\\r\\nThe basest jewel will be well esteem’d,\\r\\nSo are those errors that in thee are seen\\r\\nTo truths translated, and for true things deem’d.\\r\\nHow many lambs might the stern wolf betray,\\r\\nIf like a lamb he could his looks translate!\\r\\nHow many gazers mightst thou lead away,\\r\\nIf thou wouldst use the strength of all thy state!\\r\\n    But do not so; I love thee in such sort,\\r\\n    As, thou being mine, mine is thy good report.\\r\\n\\r\\nXCVII\\r\\n\\r\\nHow like a winter hath my absence been\\r\\nFrom thee, the pleasure of the fleeting year!\\r\\nWhat freezings have I felt, what dark days seen!\\r\\nWhat old December’s bareness everywhere!\\r\\nAnd yet this time removed was summer’s time;\\r\\nThe teeming autumn, big with rich increase,\\r\\nBearing the wanton burden of the prime,\\r\\nLike widow’d wombs after their lords’ decease:\\r\\nYet this abundant issue seem’d to me\\r\\nBut hope of orphans, and unfather’d fruit;\\r\\nFor summer and his pleasures wait on thee,\\r\\nAnd, thou away, the very birds are mute:\\r\\n    Or, if they sing, ’tis with so dull a cheer,\\r\\n    That leaves look pale, dreading the winter’s near.\\r\\n\\r\\nXCVIII\\r\\n\\r\\nFrom you have I been absent in the spring,\\r\\nWhen proud-pied April, dress’d in all his trim,\\r\\nHath put a spirit of youth in every thing,\\r\\nThat heavy Saturn laugh’d and leap’d with him.\\r\\nYet nor the lays of birds, nor the sweet smell\\r\\nOf different flowers in odour and in hue,\\r\\nCould make me any summer’s story tell,\\r\\nOr from their proud lap pluck them where they grew:\\r\\nNor did I wonder at the lily’s white,\\r\\nNor praise the deep vermilion in the rose;\\r\\nThey were but sweet, but figures of delight,\\r\\nDrawn after you, you pattern of all those.\\r\\n    Yet seem’d it winter still, and you away,\\r\\n    As with your shadow I with these did play.\\r\\n\\r\\nXCIX\\r\\n\\r\\nThe forward violet thus did I chide:\\r\\nSweet thief, whence didst thou steal thy sweet that smells,\\r\\nIf not from my love’s breath? The purple pride\\r\\nWhich on thy soft cheek for complexion dwells\\r\\nIn my love’s veins thou hast too grossly dy’d.\\r\\nThe lily I condemned for thy hand,\\r\\nAnd buds of marjoram had stol’n thy hair;\\r\\nThe roses fearfully on thorns did stand,\\r\\nOne blushing shame, another white despair;\\r\\nA third, nor red nor white, had stol’n of both,\\r\\nAnd to his robbery had annex’d thy breath;\\r\\nBut, for his theft, in pride of all his growth\\r\\nA vengeful canker eat him up to death.\\r\\n    More flowers I noted, yet I none could see,\\r\\n    But sweet, or colour it had stol’n from thee.\\r\\n\\r\\nC\\r\\n\\r\\nWhere art thou Muse that thou forget’st so long,\\r\\nTo speak of that which gives thee all thy might?\\r\\nSpend’st thou thy fury on some worthless song,\\r\\nDarkening thy power to lend base subjects light?\\r\\nReturn forgetful Muse, and straight redeem,\\r\\nIn gentle numbers time so idly spent;\\r\\nSing to the ear that doth thy lays esteem\\r\\nAnd gives thy pen both skill and argument.\\r\\nRise, resty Muse, my love’s sweet face survey,\\r\\nIf Time have any wrinkle graven there;\\r\\nIf any, be a satire to decay,\\r\\nAnd make time’s spoils despised every where.\\r\\n    Give my love fame faster than Time wastes life,\\r\\n    So thou prevent’st his scythe and crooked knife.\\r\\n\\r\\nCI\\r\\n\\r\\nO truant Muse what shall be thy amends\\r\\nFor thy neglect of truth in beauty dy’d?\\r\\nBoth truth and beauty on my love depends;\\r\\nSo dost thou too, and therein dignified.\\r\\nMake answer Muse: wilt thou not haply say,\\r\\n‘Truth needs no colour, with his colour fix’d;\\r\\nBeauty no pencil, beauty’s truth to lay;\\r\\nBut best is best, if never intermix’d’?\\r\\nBecause he needs no praise, wilt thou be dumb?\\r\\nExcuse not silence so, for’t lies in thee\\r\\nTo make him much outlive a gilded tomb\\r\\nAnd to be prais’d of ages yet to be.\\r\\n    Then do thy office, Muse; I teach thee how\\r\\n    To make him seem long hence as he shows now.\\r\\n\\r\\nCII\\r\\n\\r\\nMy love is strengthen’d, though more weak in seeming;\\r\\nI love not less, though less the show appear;\\r\\nThat love is merchandiz’d, whose rich esteeming,\\r\\nThe owner’s tongue doth publish every where.\\r\\nOur love was new, and then but in the spring,\\r\\nWhen I was wont to greet it with my lays;\\r\\nAs Philomel in summer’s front doth sing,\\r\\nAnd stops her pipe in growth of riper days:\\r\\nNot that the summer is less pleasant now\\r\\nThan when her mournful hymns did hush the night,\\r\\nBut that wild music burthens every bough,\\r\\nAnd sweets grown common lose their dear delight.\\r\\n    Therefore like her, I sometime hold my tongue:\\r\\n    Because I would not dull you with my song.\\r\\n\\r\\nCIII\\r\\n\\r\\nAlack! what poverty my Muse brings forth,\\r\\nThat having such a scope to show her pride,\\r\\nThe argument, all bare, is of more worth\\r\\nThan when it hath my added praise beside!\\r\\nO! blame me not, if I no more can write!\\r\\nLook in your glass, and there appears a face\\r\\nThat over-goes my blunt invention quite,\\r\\nDulling my lines, and doing me disgrace.\\r\\nWere it not sinful then, striving to mend,\\r\\nTo mar the subject that before was well?\\r\\nFor to no other pass my verses tend\\r\\nThan of your graces and your gifts to tell;\\r\\n    And more, much more, than in my verse can sit,\\r\\n    Your own glass shows you when you look in it.\\r\\n\\r\\nCIV\\r\\n\\r\\nTo me, fair friend, you never can be old,\\r\\nFor as you were when first your eye I ey’d,\\r\\nSuch seems your beauty still. Three winters cold,\\r\\nHave from the forests shook three summers’ pride,\\r\\nThree beauteous springs to yellow autumn turn’d,\\r\\nIn process of the seasons have I seen,\\r\\nThree April perfumes in three hot Junes burn’d,\\r\\nSince first I saw you fresh, which yet are green.\\r\\nAh! yet doth beauty like a dial-hand,\\r\\nSteal from his figure, and no pace perceiv’d;\\r\\nSo your sweet hue, which methinks still doth stand,\\r\\nHath motion, and mine eye may be deceiv’d:\\r\\n    For fear of which, hear this thou age unbred:\\r\\n    Ere you were born was beauty’s summer dead.\\r\\n\\r\\nCV\\r\\n\\r\\nLet not my love be call’d idolatry,\\r\\nNor my beloved as an idol show,\\r\\nSince all alike my songs and praises be\\r\\nTo one, of one, still such, and ever so.\\r\\nKind is my love to-day, to-morrow kind,\\r\\nStill constant in a wondrous excellence;\\r\\nTherefore my verse to constancy confin’d,\\r\\nOne thing expressing, leaves out difference.\\r\\n‘Fair, kind, and true,’ is all my argument,\\r\\n‘Fair, kind, and true,’ varying to other words;\\r\\nAnd in this change is my invention spent,\\r\\nThree themes in one, which wondrous scope affords.\\r\\n    Fair, kind, and true, have often liv’d alone,\\r\\n    Which three till now, never kept seat in one.\\r\\n\\r\\nCVI\\r\\n\\r\\nWhen in the chronicle of wasted time\\r\\nI see descriptions of the fairest wights,\\r\\nAnd beauty making beautiful old rime,\\r\\nIn praise of ladies dead and lovely knights,\\r\\nThen, in the blazon of sweet beauty’s best,\\r\\nOf hand, of foot, of lip, of eye, of brow,\\r\\nI see their antique pen would have express’d\\r\\nEven such a beauty as you master now.\\r\\nSo all their praises are but prophecies\\r\\nOf this our time, all you prefiguring;\\r\\nAnd for they looked but with divining eyes,\\r\\nThey had not skill enough your worth to sing:\\r\\n    For we, which now behold these present days,\\r\\n    Have eyes to wonder, but lack tongues to praise.\\r\\n\\r\\nCVII\\r\\n\\r\\nNot mine own fears, nor the prophetic soul\\r\\nOf the wide world dreaming on things to come,\\r\\nCan yet the lease of my true love control,\\r\\nSupposed as forfeit to a confin’d doom.\\r\\nThe mortal moon hath her eclipse endur’d,\\r\\nAnd the sad augurs mock their own presage;\\r\\nIncertainties now crown themselves assur’d,\\r\\nAnd peace proclaims olives of endless age.\\r\\nNow with the drops of this most balmy time,\\r\\nMy love looks fresh, and Death to me subscribes,\\r\\nSince, spite of him, I’ll live in this poor rime,\\r\\nWhile he insults o’er dull and speechless tribes:\\r\\n    And thou in this shalt find thy monument,\\r\\n    When tyrants’ crests and tombs of brass are spent.\\r\\n\\r\\nCVIII\\r\\n\\r\\nWhat’s in the brain, that ink may character,\\r\\nWhich hath not figur’d to thee my true spirit?\\r\\nWhat’s new to speak, what now to register,\\r\\nThat may express my love, or thy dear merit?\\r\\nNothing, sweet boy; but yet, like prayers divine,\\r\\nI must each day say o’er the very same;\\r\\nCounting no old thing old, thou mine, I thine,\\r\\nEven as when first I hallow’d thy fair name.\\r\\nSo that eternal love in love’s fresh case,\\r\\nWeighs not the dust and injury of age,\\r\\nNor gives to necessary wrinkles place,\\r\\nBut makes antiquity for aye his page;\\r\\n    Finding the first conceit of love there bred,\\r\\n    Where time and outward form would show it dead.\\r\\n\\r\\nCIX\\r\\n\\r\\nO! never say that I was false of heart,\\r\\nThough absence seem’d my flame to qualify,\\r\\nAs easy might I from my self depart\\r\\nAs from my soul which in thy breast doth lie:\\r\\nThat is my home of love: if I have rang’d,\\r\\nLike him that travels, I return again;\\r\\nJust to the time, not with the time exchang’d,\\r\\nSo that myself bring water for my stain.\\r\\nNever believe though in my nature reign’d,\\r\\nAll frailties that besiege all kinds of blood,\\r\\nThat it could so preposterously be stain’d,\\r\\nTo leave for nothing all thy sum of good;\\r\\n    For nothing this wide universe I call,\\r\\n    Save thou, my rose, in it thou art my all.\\r\\n\\r\\nCX\\r\\n\\r\\nAlas! ’tis true, I have gone here and there,\\r\\nAnd made my self a motley to the view,\\r\\nGor’d mine own thoughts, sold cheap what is most dear,\\r\\nMade old offences of affections new;\\r\\nMost true it is, that I have look’d on truth\\r\\nAskance and strangely; but, by all above,\\r\\nThese blenches gave my heart another youth,\\r\\nAnd worse essays prov’d thee my best of love.\\r\\nNow all is done, save what shall have no end:\\r\\nMine appetite I never more will grind\\r\\nOn newer proof, to try an older friend,\\r\\nA god in love, to whom I am confin’d.\\r\\n    Then give me welcome, next my heaven the best,\\r\\n    Even to thy pure and most most loving breast.\\r\\n\\r\\nCXI\\r\\n\\r\\nO! for my sake do you with Fortune chide,\\r\\nThe guilty goddess of my harmful deeds,\\r\\nThat did not better for my life provide\\r\\nThan public means which public manners breeds.\\r\\nThence comes it that my name receives a brand,\\r\\nAnd almost thence my nature is subdu’d\\r\\nTo what it works in, like the dyer’s hand:\\r\\nPity me, then, and wish I were renew’d;\\r\\nWhilst, like a willing patient, I will drink,\\r\\nPotions of eisel ’gainst my strong infection;\\r\\nNo bitterness that I will bitter think,\\r\\nNor double penance, to correct correction.\\r\\n    Pity me then, dear friend, and I assure ye,\\r\\n    Even that your pity is enough to cure me.\\r\\n\\r\\nCXII\\r\\n\\r\\nYour love and pity doth the impression fill,\\r\\nWhich vulgar scandal stamp’d upon my brow;\\r\\nFor what care I who calls me well or ill,\\r\\nSo you o’er-green my bad, my good allow?\\r\\nYou are my all-the-world, and I must strive\\r\\nTo know my shames and praises from your tongue;\\r\\nNone else to me, nor I to none alive,\\r\\nThat my steel’d sense or changes right or wrong.\\r\\nIn so profound abysm I throw all care\\r\\nOf others’ voices, that my adder’s sense\\r\\nTo critic and to flatterer stopped are.\\r\\nMark how with my neglect I do dispense:\\r\\n    You are so strongly in my purpose bred,\\r\\n    That all the world besides methinks are dead.\\r\\n\\r\\nCXIII\\r\\n\\r\\nSince I left you, mine eye is in my mind;\\r\\nAnd that which governs me to go about\\r\\nDoth part his function and is partly blind,\\r\\nSeems seeing, but effectually is out;\\r\\nFor it no form delivers to the heart\\r\\nOf bird, of flower, or shape which it doth latch:\\r\\nOf his quick objects hath the mind no part,\\r\\nNor his own vision holds what it doth catch;\\r\\nFor if it see the rud’st or gentlest sight,\\r\\nThe most sweet favour or deformed’st creature,\\r\\nThe mountain or the sea, the day or night:\\r\\nThe crow, or dove, it shapes them to your feature.\\r\\n    Incapable of more, replete with you,\\r\\n    My most true mind thus maketh mine untrue.\\r\\n\\r\\nCXIV\\r\\n\\r\\nOr whether doth my mind, being crown’d with you,\\r\\nDrink up the monarch’s plague, this flattery?\\r\\nOr whether shall I say, mine eye saith true,\\r\\nAnd that your love taught it this alchemy,\\r\\nTo make of monsters and things indigest\\r\\nSuch cherubins as your sweet self resemble,\\r\\nCreating every bad a perfect best,\\r\\nAs fast as objects to his beams assemble?\\r\\nO! ’tis the first, ’tis flattery in my seeing,\\r\\nAnd my great mind most kingly drinks it up:\\r\\nMine eye well knows what with his gust is ’greeing,\\r\\nAnd to his palate doth prepare the cup:\\r\\n    If it be poison’d, ’tis the lesser sin\\r\\n    That mine eye loves it and doth first begin.\\r\\n\\r\\nCXV\\r\\n\\r\\nThose lines that I before have writ do lie,\\r\\nEven those that said I could not love you dearer:\\r\\nYet then my judgement knew no reason why\\r\\nMy most full flame should afterwards burn clearer.\\r\\nBut reckoning Time, whose million’d accidents\\r\\nCreep in ’twixt vows, and change decrees of kings,\\r\\nTan sacred beauty, blunt the sharp’st intents,\\r\\nDivert strong minds to the course of altering things;\\r\\nAlas! why fearing of Time’s tyranny,\\r\\nMight I not then say, ‘Now I love you best,’\\r\\nWhen I was certain o’er incertainty,\\r\\nCrowning the present, doubting of the rest?\\r\\n    Love is a babe, then might I not say so,\\r\\n    To give full growth to that which still doth grow?\\r\\n\\r\\nCXVI\\r\\n\\r\\nLet me not to the marriage of true minds\\r\\nAdmit impediments. Love is not love\\r\\nWhich alters when it alteration finds,\\r\\nOr bends with the remover to remove:\\r\\nO, no! it is an ever-fixed mark,\\r\\nThat looks on tempests and is never shaken;\\r\\nIt is the star to every wandering bark,\\r\\nWhose worth’s unknown, although his height be taken.\\r\\nLove’s not Time’s fool, though rosy lips and cheeks\\r\\nWithin his bending sickle’s compass come;\\r\\nLove alters not with his brief hours and weeks,\\r\\nBut bears it out even to the edge of doom.\\r\\n    If this be error and upon me prov’d,\\r\\n    I never writ, nor no man ever lov’d.\\r\\n\\r\\nCXVII\\r\\n\\r\\nAccuse me thus: that I have scanted all,\\r\\nWherein I should your great deserts repay,\\r\\nForgot upon your dearest love to call,\\r\\nWhereto all bonds do tie me day by day;\\r\\nThat I have frequent been with unknown minds,\\r\\nAnd given to time your own dear-purchas’d right;\\r\\nThat I have hoisted sail to all the winds\\r\\nWhich should transport me farthest from your sight.\\r\\nBook both my wilfulness and errors down,\\r\\nAnd on just proof surmise, accumulate;\\r\\nBring me within the level of your frown,\\r\\nBut shoot not at me in your waken’d hate;\\r\\n    Since my appeal says I did strive to prove\\r\\n    The constancy and virtue of your love.\\r\\n\\r\\nCXVIII\\r\\n\\r\\nLike as, to make our appetite more keen,\\r\\nWith eager compounds we our palate urge;\\r\\nAs, to prevent our maladies unseen,\\r\\nWe sicken to shun sickness when we purge;\\r\\nEven so, being full of your ne’er-cloying sweetness,\\r\\nTo bitter sauces did I frame my feeding;\\r\\nAnd, sick of welfare, found a kind of meetness\\r\\nTo be diseas’d, ere that there was true needing.\\r\\nThus policy in love, to anticipate\\r\\nThe ills that were not, grew to faults assur’d,\\r\\nAnd brought to medicine a healthful state\\r\\nWhich, rank of goodness, would by ill be cur’d;\\r\\n    But thence I learn and find the lesson true,\\r\\n    Drugs poison him that so fell sick of you.\\r\\n\\r\\nCXIX\\r\\n\\r\\nWhat potions have I drunk of Siren tears,\\r\\nDistill’d from limbecks foul as hell within,\\r\\nApplying fears to hopes, and hopes to fears,\\r\\nStill losing when I saw myself to win!\\r\\nWhat wretched errors hath my heart committed,\\r\\nWhilst it hath thought itself so blessed never!\\r\\nHow have mine eyes out of their spheres been fitted,\\r\\nIn the distraction of this madding fever!\\r\\nO benefit of ill! now I find true\\r\\nThat better is, by evil still made better;\\r\\nAnd ruin’d love, when it is built anew,\\r\\nGrows fairer than at first, more strong, far greater.\\r\\n    So I return rebuk’d to my content,\\r\\n    And gain by ill thrice more than I have spent.\\r\\n\\r\\nCXX\\r\\n\\r\\nThat you were once unkind befriends me now,\\r\\nAnd for that sorrow, which I then did feel,\\r\\nNeeds must I under my transgression bow,\\r\\nUnless my nerves were brass or hammer’d steel.\\r\\nFor if you were by my unkindness shaken,\\r\\nAs I by yours, you’ve pass’d a hell of time;\\r\\nAnd I, a tyrant, have no leisure taken\\r\\nTo weigh how once I suffer’d in your crime.\\r\\nO! that our night of woe might have remember’d\\r\\nMy deepest sense, how hard true sorrow hits,\\r\\nAnd soon to you, as you to me, then tender’d\\r\\nThe humble salve, which wounded bosoms fits!\\r\\n    But that your trespass now becomes a fee;\\r\\n    Mine ransoms yours, and yours must ransom me.\\r\\n\\r\\nCXXI\\r\\n\\r\\n’Tis better to be vile than vile esteem’d,\\r\\nWhen not to be receives reproach of being;\\r\\nAnd the just pleasure lost, which is so deem’d\\r\\nNot by our feeling, but by others’ seeing:\\r\\nFor why should others’ false adulterate eyes\\r\\nGive salutation to my sportive blood?\\r\\nOr on my frailties why are frailer spies,\\r\\nWhich in their wills count bad what I think good?\\r\\nNo, I am that I am, and they that level\\r\\nAt my abuses reckon up their own:\\r\\nI may be straight though they themselves be bevel;\\r\\nBy their rank thoughts, my deeds must not be shown;\\r\\n    Unless this general evil they maintain,\\r\\n    All men are bad and in their badness reign.\\r\\n\\r\\nCXXII\\r\\n\\r\\nThy gift, thy tables, are within my brain\\r\\nFull character’d with lasting memory,\\r\\nWhich shall above that idle rank remain,\\r\\nBeyond all date; even to eternity:\\r\\nOr, at the least, so long as brain and heart\\r\\nHave faculty by nature to subsist;\\r\\nTill each to raz’d oblivion yield his part\\r\\nOf thee, thy record never can be miss’d.\\r\\nThat poor retention could not so much hold,\\r\\nNor need I tallies thy dear love to score;\\r\\nTherefore to give them from me was I bold,\\r\\nTo trust those tables that receive thee more:\\r\\n    To keep an adjunct to remember thee\\r\\n    Were to import forgetfulness in me.\\r\\n\\r\\nCXXIII\\r\\n\\r\\nNo, Time, thou shalt not boast that I do change:\\r\\nThy pyramids built up with newer might\\r\\nTo me are nothing novel, nothing strange;\\r\\nThey are but dressings of a former sight.\\r\\nOur dates are brief, and therefore we admire\\r\\nWhat thou dost foist upon us that is old;\\r\\nAnd rather make them born to our desire\\r\\nThan think that we before have heard them told.\\r\\nThy registers and thee I both defy,\\r\\nNot wondering at the present nor the past,\\r\\nFor thy records and what we see doth lie,\\r\\nMade more or less by thy continual haste.\\r\\n    This I do vow and this shall ever be;\\r\\n    I will be true despite thy scythe and thee.\\r\\n\\r\\nCXXIV\\r\\n\\r\\nIf my dear love were but the child of state,\\r\\nIt might for Fortune’s bastard be unfather’d,\\r\\nAs subject to Time’s love or to Time’s hate,\\r\\nWeeds among weeds, or flowers with flowers gather’d.\\r\\nNo, it was builded far from accident;\\r\\nIt suffers not in smiling pomp, nor falls\\r\\nUnder the blow of thralled discontent,\\r\\nWhereto th’ inviting time our fashion calls:\\r\\nIt fears not policy, that heretic,\\r\\nWhich works on leases of short-number’d hours,\\r\\nBut all alone stands hugely politic,\\r\\nThat it nor grows with heat, nor drowns with showers.\\r\\n    To this I witness call the fools of time,\\r\\n    Which die for goodness, who have lived for crime.\\r\\n\\r\\nCXXV\\r\\n\\r\\nWere’t aught to me I bore the canopy,\\r\\nWith my extern the outward honouring,\\r\\nOr laid great bases for eternity,\\r\\nWhich proves more short than waste or ruining?\\r\\nHave I not seen dwellers on form and favour\\r\\nLose all and more by paying too much rent\\r\\nFor compound sweet; forgoing simple savour,\\r\\nPitiful thrivers, in their gazing spent?\\r\\nNo; let me be obsequious in thy heart,\\r\\nAnd take thou my oblation, poor but free,\\r\\nWhich is not mix’d with seconds, knows no art,\\r\\nBut mutual render, only me for thee.\\r\\n    Hence, thou suborned informer! a true soul\\r\\n    When most impeach’d, stands least in thy control.\\r\\n\\r\\nCXXVI\\r\\n\\r\\nO thou, my lovely boy, who in thy power\\r\\nDost hold Time’s fickle glass, his fickle hour;\\r\\nWho hast by waning grown, and therein show’st\\r\\nThy lovers withering, as thy sweet self grow’st.\\r\\nIf Nature, sovereign mistress over wrack,\\r\\nAs thou goest onwards, still will pluck thee back,\\r\\nShe keeps thee to this purpose, that her skill\\r\\nMay time disgrace and wretched minutes kill.\\r\\nYet fear her, O thou minion of her pleasure!\\r\\nShe may detain, but not still keep, her treasure:\\r\\n    Her audit (though delayed) answered must be,\\r\\n    And her quietus is to render thee.\\r\\n\\r\\nCXXVII\\r\\n\\r\\nIn the old age black was not counted fair,\\r\\nOr if it were, it bore not beauty’s name;\\r\\nBut now is black beauty’s successive heir,\\r\\nAnd beauty slander’d with a bastard shame:\\r\\nFor since each hand hath put on Nature’s power,\\r\\nFairing the foul with Art’s false borrowed face,\\r\\nSweet beauty hath no name, no holy bower,\\r\\nBut is profan’d, if not lives in disgrace.\\r\\nTherefore my mistress’ eyes are raven black,\\r\\nHer eyes so suited, and they mourners seem\\r\\nAt such who, not born fair, no beauty lack,\\r\\nSland’ring creation with a false esteem:\\r\\n    Yet so they mourn becoming of their woe,\\r\\n    That every tongue says beauty should look so.\\r\\n\\r\\nCXXVIII\\r\\n\\r\\nHow oft when thou, my music, music play’st,\\r\\nUpon that blessed wood whose motion sounds\\r\\nWith thy sweet fingers when thou gently sway’st\\r\\nThe wiry concord that mine ear confounds,\\r\\nDo I envy those jacks that nimble leap,\\r\\nTo kiss the tender inward of thy hand,\\r\\nWhilst my poor lips which should that harvest reap,\\r\\nAt the wood’s boldness by thee blushing stand!\\r\\nTo be so tickled, they would change their state\\r\\nAnd situation with those dancing chips,\\r\\nO’er whom thy fingers walk with gentle gait,\\r\\nMaking dead wood more bless’d than living lips.\\r\\n    Since saucy jacks so happy are in this,\\r\\n    Give them thy fingers, me thy lips to kiss.\\r\\n\\r\\nCXXIX\\r\\n\\r\\nThe expense of spirit in a waste of shame\\r\\nIs lust in action: and till action, lust\\r\\nIs perjur’d, murderous, bloody, full of blame,\\r\\nSavage, extreme, rude, cruel, not to trust;\\r\\nEnjoy’d no sooner but despised straight;\\r\\nPast reason hunted; and no sooner had,\\r\\nPast reason hated, as a swallow’d bait,\\r\\nOn purpose laid to make the taker mad:\\r\\nMad in pursuit and in possession so;\\r\\nHad, having, and in quest, to have extreme;\\r\\nA bliss in proof, and proved, a very woe;\\r\\nBefore, a joy propos’d; behind a dream.\\r\\n    All this the world well knows; yet none knows well\\r\\n    To shun the heaven that leads men to this hell.\\r\\n\\r\\nCXXX\\r\\n\\r\\nMy mistress’ eyes are nothing like the sun;\\r\\nCoral is far more red, than her lips red:\\r\\nIf snow be white, why then her breasts are dun;\\r\\nIf hairs be wires, black wires grow on her head.\\r\\nI have seen roses damask’d, red and white,\\r\\nBut no such roses see I in her cheeks;\\r\\nAnd in some perfumes is there more delight\\r\\nThan in the breath that from my mistress reeks.\\r\\nI love to hear her speak, yet well I know\\r\\nThat music hath a far more pleasing sound:\\r\\nI grant I never saw a goddess go;\\r\\nMy mistress, when she walks, treads on the ground:\\r\\n    And yet by heaven, I think my love as rare,\\r\\n    As any she belied with false compare.\\r\\n\\r\\nCXXXI\\r\\n\\r\\nThou art as tyrannous, so as thou art,\\r\\nAs those whose beauties proudly make them cruel;\\r\\nFor well thou know’st to my dear doting heart\\r\\nThou art the fairest and most precious jewel.\\r\\nYet, in good faith, some say that thee behold,\\r\\nThy face hath not the power to make love groan;\\r\\nTo say they err I dare not be so bold,\\r\\nAlthough I swear it to myself alone.\\r\\nAnd to be sure that is not false I swear,\\r\\nA thousand groans, but thinking on thy face,\\r\\nOne on another’s neck, do witness bear\\r\\nThy black is fairest in my judgement’s place.\\r\\n    In nothing art thou black save in thy deeds,\\r\\n    And thence this slander, as I think, proceeds.\\r\\n\\r\\nCXXXII\\r\\n\\r\\nThine eyes I love, and they, as pitying me,\\r\\nKnowing thy heart torment me with disdain,\\r\\nHave put on black and loving mourners be,\\r\\nLooking with pretty ruth upon my pain.\\r\\nAnd truly not the morning sun of heaven\\r\\nBetter becomes the grey cheeks of the east,\\r\\nNor that full star that ushers in the even,\\r\\nDoth half that glory to the sober west,\\r\\nAs those two mourning eyes become thy face:\\r\\nO! let it then as well beseem thy heart\\r\\nTo mourn for me since mourning doth thee grace,\\r\\nAnd suit thy pity like in every part.\\r\\n    Then will I swear beauty herself is black,\\r\\n    And all they foul that thy complexion lack.\\r\\n\\r\\nCXXXIII\\r\\n\\r\\nBeshrew that heart that makes my heart to groan\\r\\nFor that deep wound it gives my friend and me!\\r\\nIs’t not enough to torture me alone,\\r\\nBut slave to slavery my sweet’st friend must be?\\r\\nMe from myself thy cruel eye hath taken,\\r\\nAnd my next self thou harder hast engross’d:\\r\\nOf him, myself, and thee I am forsaken;\\r\\nA torment thrice three-fold thus to be cross’d:\\r\\nPrison my heart in thy steel bosom’s ward,\\r\\nBut then my friend’s heart let my poor heart bail;\\r\\nWhoe’er keeps me, let my heart be his guard;\\r\\nThou canst not then use rigour in my jail:\\r\\n    And yet thou wilt; for I, being pent in thee,\\r\\n    Perforce am thine, and all that is in me.\\r\\n\\r\\nCXXXIV\\r\\n\\r\\nSo, now I have confess’d that he is thine,\\r\\nAnd I my self am mortgag’d to thy will,\\r\\nMyself I’ll forfeit, so that other mine\\r\\nThou wilt restore to be my comfort still:\\r\\nBut thou wilt not, nor he will not be free,\\r\\nFor thou art covetous, and he is kind;\\r\\nHe learn’d but surety-like to write for me,\\r\\nUnder that bond that him as fast doth bind.\\r\\nThe statute of thy beauty thou wilt take,\\r\\nThou usurer, that putt’st forth all to use,\\r\\nAnd sue a friend came debtor for my sake;\\r\\nSo him I lose through my unkind abuse.\\r\\n    Him have I lost; thou hast both him and me:\\r\\n    He pays the whole, and yet am I not free.\\r\\n\\r\\nCXXXV\\r\\n\\r\\nWhoever hath her wish, thou hast thy ‘Will,’\\r\\nAnd ‘Will’ to boot, and ‘Will’ in over-plus;\\r\\nMore than enough am I that vex’d thee still,\\r\\nTo thy sweet will making addition thus.\\r\\nWilt thou, whose will is large and spacious,\\r\\nNot once vouchsafe to hide my will in thine?\\r\\nShall will in others seem right gracious,\\r\\nAnd in my will no fair acceptance shine?\\r\\nThe sea, all water, yet receives rain still,\\r\\nAnd in abundance addeth to his store;\\r\\nSo thou, being rich in ‘Will,’ add to thy ‘Will’\\r\\nOne will of mine, to make thy large will more.\\r\\n    Let no unkind ‘No’ fair beseechers kill;\\r\\n    Think all but one, and me in that one ‘Will.’\\r\\n\\r\\nCXXXVI\\r\\n\\r\\nIf thy soul check thee that I come so near,\\r\\nSwear to thy blind soul that I was thy ‘Will’,\\r\\nAnd will, thy soul knows, is admitted there;\\r\\nThus far for love, my love-suit, sweet, fulfil.\\r\\n‘Will’, will fulfil the treasure of thy love,\\r\\nAy, fill it full with wills, and my will one.\\r\\nIn things of great receipt with ease we prove\\r\\nAmong a number one is reckon’d none:\\r\\nThen in the number let me pass untold,\\r\\nThough in thy store’s account I one must be;\\r\\nFor nothing hold me, so it please thee hold\\r\\nThat nothing me, a something sweet to thee:\\r\\n    Make but my name thy love, and love that still,\\r\\n    And then thou lov’st me for my name is ‘Will.’\\r\\n\\r\\nCXXXVII\\r\\n\\r\\nThou blind fool, Love, what dost thou to mine eyes,\\r\\nThat they behold, and see not what they see?\\r\\nThey know what beauty is, see where it lies,\\r\\nYet what the best is take the worst to be.\\r\\nIf eyes, corrupt by over-partial looks,\\r\\nBe anchor’d in the bay where all men ride,\\r\\nWhy of eyes’ falsehood hast thou forged hooks,\\r\\nWhereto the judgement of my heart is tied?\\r\\nWhy should my heart think that a several plot,\\r\\nWhich my heart knows the wide world’s common place?\\r\\nOr mine eyes, seeing this, say this is not,\\r\\nTo put fair truth upon so foul a face?\\r\\n    In things right true my heart and eyes have err’d,\\r\\n    And to this false plague are they now transferr’d.\\r\\n\\r\\nCXXXVIII\\r\\n\\r\\nWhen my love swears that she is made of truth,\\r\\nI do believe her though I know she lies,\\r\\nThat she might think me some untutor’d youth,\\r\\nUnlearned in the world’s false subtleties.\\r\\nThus vainly thinking that she thinks me young,\\r\\nAlthough she knows my days are past the best,\\r\\nSimply I credit her false-speaking tongue:\\r\\nOn both sides thus is simple truth suppressed:\\r\\nBut wherefore says she not she is unjust?\\r\\nAnd wherefore say not I that I am old?\\r\\nO! love’s best habit is in seeming trust,\\r\\nAnd age in love, loves not to have years told:\\r\\n    Therefore I lie with her, and she with me,\\r\\n    And in our faults by lies we flatter’d be.\\r\\n\\r\\nCXXXIX\\r\\n\\r\\nO! call not me to justify the wrong\\r\\nThat thy unkindness lays upon my heart;\\r\\nWound me not with thine eye, but with thy tongue:\\r\\nUse power with power, and slay me not by art,\\r\\nTell me thou lov’st elsewhere; but in my sight,\\r\\nDear heart, forbear to glance thine eye aside:\\r\\nWhat need’st thou wound with cunning, when thy might\\r\\nIs more than my o’erpress’d defence can bide?\\r\\nLet me excuse thee: ah! my love well knows\\r\\nHer pretty looks have been mine enemies;\\r\\nAnd therefore from my face she turns my foes,\\r\\nThat they elsewhere might dart their injuries:\\r\\n    Yet do not so; but since I am near slain,\\r\\n    Kill me outright with looks, and rid my pain.\\r\\n\\r\\n\\r\\nCXL\\r\\n\\r\\nBe wise as thou art cruel; do not press\\r\\nMy tongue-tied patience with too much disdain;\\r\\nLest sorrow lend me words, and words express\\r\\nThe manner of my pity-wanting pain.\\r\\nIf I might teach thee wit, better it were,\\r\\nThough not to love, yet love to tell me so,\\r\\nAs testy sick men, when their deaths be near,\\r\\nNo news but health from their physicians know.\\r\\nFor, if I should despair, I should grow mad,\\r\\nAnd in my madness might speak ill of thee;\\r\\nNow this ill-wresting world is grown so bad,\\r\\nMad slanderers by mad ears believed be.\\r\\n    That I may not be so, nor thou belied,\\r\\n    Bear thine eyes straight, though thy proud heart go wide.\\r\\n\\r\\nCXLI\\r\\n\\r\\nIn faith I do not love thee with mine eyes,\\r\\nFor they in thee a thousand errors note;\\r\\nBut ’tis my heart that loves what they despise,\\r\\nWho, in despite of view, is pleased to dote.\\r\\nNor are mine ears with thy tongue’s tune delighted;\\r\\nNor tender feeling, to base touches prone,\\r\\nNor taste, nor smell, desire to be invited\\r\\nTo any sensual feast with thee alone:\\r\\nBut my five wits nor my five senses can\\r\\nDissuade one foolish heart from serving thee,\\r\\nWho leaves unsway’d the likeness of a man,\\r\\nThy proud heart’s slave and vassal wretch to be:\\r\\n    Only my plague thus far I count my gain,\\r\\n    That she that makes me sin awards me pain.\\r\\n\\r\\nCXLII\\r\\n\\r\\nLove is my sin, and thy dear virtue hate,\\r\\nHate of my sin, grounded on sinful loving:\\r\\nO! but with mine compare thou thine own state,\\r\\nAnd thou shalt find it merits not reproving;\\r\\nOr, if it do, not from those lips of thine,\\r\\nThat have profan’d their scarlet ornaments\\r\\nAnd seal’d false bonds of love as oft as mine,\\r\\nRobb’d others’ beds’ revenues of their rents.\\r\\nBe it lawful I love thee, as thou lov’st those\\r\\nWhom thine eyes woo as mine importune thee:\\r\\nRoot pity in thy heart, that, when it grows,\\r\\nThy pity may deserve to pitied be.\\r\\n    If thou dost seek to have what thou dost hide,\\r\\n    By self-example mayst thou be denied!\\r\\n\\r\\nCXLIII\\r\\n\\r\\nLo, as a careful housewife runs to catch\\r\\nOne of her feather’d creatures broke away,\\r\\nSets down her babe, and makes all swift dispatch\\r\\nIn pursuit of the thing she would have stay;\\r\\nWhilst her neglected child holds her in chase,\\r\\nCries to catch her whose busy care is bent\\r\\nTo follow that which flies before her face,\\r\\nNot prizing her poor infant’s discontent;\\r\\nSo runn’st thou after that which flies from thee,\\r\\nWhilst I thy babe chase thee afar behind;\\r\\nBut if thou catch thy hope, turn back to me,\\r\\nAnd play the mother’s part, kiss me, be kind;\\r\\n    So will I pray that thou mayst have thy ‘Will,’\\r\\n    If thou turn back and my loud crying still.\\r\\n\\r\\nCXLIV\\r\\n\\r\\nTwo loves I have of comfort and despair,\\r\\nWhich like two spirits do suggest me still:\\r\\nThe better angel is a man right fair,\\r\\nThe worser spirit a woman colour’d ill.\\r\\nTo win me soon to hell, my female evil,\\r\\nTempteth my better angel from my side,\\r\\nAnd would corrupt my saint to be a devil,\\r\\nWooing his purity with her foul pride.\\r\\nAnd whether that my angel be turn’d fiend,\\r\\nSuspect I may, yet not directly tell;\\r\\nBut being both from me, both to each friend,\\r\\nI guess one angel in another’s hell:\\r\\n    Yet this shall I ne’er know, but live in doubt,\\r\\n    Till my bad angel fire my good one out.\\r\\n\\r\\nCXLV\\r\\n\\r\\nThose lips that Love’s own hand did make,\\r\\nBreathed forth the sound that said ‘I hate’,\\r\\nTo me that languish’d for her sake:\\r\\nBut when she saw my woeful state,\\r\\nStraight in her heart did mercy come,\\r\\nChiding that tongue that ever sweet\\r\\nWas us’d in giving gentle doom;\\r\\nAnd taught it thus anew to greet;\\r\\n‘I hate’ she alter’d with an end,\\r\\nThat followed it as gentle day,\\r\\nDoth follow night, who like a fiend\\r\\nFrom heaven to hell is flown away.\\r\\n    ‘I hate’, from hate away she threw,\\r\\n    And sav’d my life, saying ‘not you’.\\r\\n\\r\\nCXLVI\\r\\n\\r\\nPoor soul, the centre of my sinful earth,\\r\\nMy sinful earth these rebel powers array,\\r\\nWhy dost thou pine within and suffer dearth,\\r\\nPainting thy outward walls so costly gay?\\r\\nWhy so large cost, having so short a lease,\\r\\nDost thou upon thy fading mansion spend?\\r\\nShall worms, inheritors of this excess,\\r\\nEat up thy charge? Is this thy body’s end?\\r\\nThen soul, live thou upon thy servant’s loss,\\r\\nAnd let that pine to aggravate thy store;\\r\\nBuy terms divine in selling hours of dross;\\r\\nWithin be fed, without be rich no more:\\r\\n    So shall thou feed on Death, that feeds on men,\\r\\n    And Death once dead, there’s no more dying then.\\r\\n\\r\\nCXLVII\\r\\n\\r\\nMy love is as a fever longing still,\\r\\nFor that which longer nurseth the disease;\\r\\nFeeding on that which doth preserve the ill,\\r\\nThe uncertain sickly appetite to please.\\r\\nMy reason, the physician to my love,\\r\\nAngry that his prescriptions are not kept,\\r\\nHath left me, and I desperate now approve\\r\\nDesire is death, which physic did except.\\r\\nPast cure I am, now Reason is past care,\\r\\nAnd frantic-mad with evermore unrest;\\r\\nMy thoughts and my discourse as madmen’s are,\\r\\nAt random from the truth vainly express’d;\\r\\n    For I have sworn thee fair, and thought thee bright,\\r\\n    Who art as black as hell, as dark as night.\\r\\n\\r\\nCXLVIII\\r\\n\\r\\nO me! what eyes hath Love put in my head,\\r\\nWhich have no correspondence with true sight;\\r\\nOr, if they have, where is my judgement fled,\\r\\nThat censures falsely what they see aright?\\r\\nIf that be fair whereon my false eyes dote,\\r\\nWhat means the world to say it is not so?\\r\\nIf it be not, then love doth well denote\\r\\nLove’s eye is not so true as all men’s: no,\\r\\nHow can it? O! how can Love’s eye be true,\\r\\nThat is so vexed with watching and with tears?\\r\\nNo marvel then, though I mistake my view;\\r\\nThe sun itself sees not, till heaven clears.\\r\\n    O cunning Love! with tears thou keep’st me blind,\\r\\n    Lest eyes well-seeing thy foul faults should find.\\r\\n\\r\\nCXLIX\\r\\n\\r\\nCanst thou, O cruel! say I love thee not,\\r\\nWhen I against myself with thee partake?\\r\\nDo I not think on thee, when I forgot\\r\\nAm of my self, all tyrant, for thy sake?\\r\\nWho hateth thee that I do call my friend,\\r\\nOn whom frown’st thou that I do fawn upon,\\r\\nNay, if thou lour’st on me, do I not spend\\r\\nRevenge upon myself with present moan?\\r\\nWhat merit do I in my self respect,\\r\\nThat is so proud thy service to despise,\\r\\nWhen all my best doth worship thy defect,\\r\\nCommanded by the motion of thine eyes?\\r\\n    But, love, hate on, for now I know thy mind;\\r\\n    Those that can see thou lov’st, and I am blind.\\r\\n\\r\\nCL\\r\\n\\r\\nO! from what power hast thou this powerful might,\\r\\nWith insufficiency my heart to sway?\\r\\nTo make me give the lie to my true sight,\\r\\nAnd swear that brightness doth not grace the day?\\r\\nWhence hast thou this becoming of things ill,\\r\\nThat in the very refuse of thy deeds\\r\\nThere is such strength and warrantise of skill,\\r\\nThat, in my mind, thy worst all best exceeds?\\r\\nWho taught thee how to make me love thee more,\\r\\nThe more I hear and see just cause of hate?\\r\\nO! though I love what others do abhor,\\r\\nWith others thou shouldst not abhor my state:\\r\\n    If thy unworthiness rais’d love in me,\\r\\n    More worthy I to be belov’d of thee.\\r\\n\\r\\nCLI\\r\\n\\r\\nLove is too young to know what conscience is,\\r\\nYet who knows not conscience is born of love?\\r\\nThen, gentle cheater, urge not my amiss,\\r\\nLest guilty of my faults thy sweet self prove:\\r\\nFor, thou betraying me, I do betray\\r\\nMy nobler part to my gross body’s treason;\\r\\nMy soul doth tell my body that he may\\r\\nTriumph in love; flesh stays no farther reason,\\r\\nBut rising at thy name doth point out thee,\\r\\nAs his triumphant prize. Proud of this pride,\\r\\nHe is contented thy poor drudge to be,\\r\\nTo stand in thy affairs, fall by thy side.\\r\\n    No want of conscience hold it that I call\\r\\n    Her ‘love,’ for whose dear love I rise and fall.\\r\\n\\r\\nCLII\\r\\n\\r\\nIn loving thee thou know’st I am forsworn,\\r\\nBut thou art twice forsworn, to me love swearing;\\r\\nIn act thy bed-vow broke, and new faith torn,\\r\\nIn vowing new hate after new love bearing:\\r\\nBut why of two oaths’ breach do I accuse thee,\\r\\nWhen I break twenty? I am perjur’d most;\\r\\nFor all my vows are oaths but to misuse thee,\\r\\nAnd all my honest faith in thee is lost:\\r\\nFor I have sworn deep oaths of thy deep kindness,\\r\\nOaths of thy love, thy truth, thy constancy;\\r\\nAnd, to enlighten thee, gave eyes to blindness,\\r\\nOr made them swear against the thing they see;\\r\\n    For I have sworn thee fair; more perjured I,\\r\\n    To swear against the truth so foul a lie.\\r\\n\\r\\nCLIII\\r\\n\\r\\nCupid laid by his brand and fell asleep:\\r\\nA maid of Dian’s this advantage found,\\r\\nAnd his love-kindling fire did quickly steep\\r\\nIn a cold valley-fountain of that ground;\\r\\nWhich borrow’d from this holy fire of Love,\\r\\nA dateless lively heat, still to endure,\\r\\nAnd grew a seething bath, which yet men prove\\r\\nAgainst strange maladies a sovereign cure.\\r\\nBut at my mistress’ eye Love’s brand new-fired,\\r\\nThe boy for trial needs would touch my breast;\\r\\nI, sick withal, the help of bath desired,\\r\\nAnd thither hied, a sad distemper’d guest,\\r\\n    But found no cure, the bath for my help lies\\r\\n    Where Cupid got new fire; my mistress’ eyes.\\r\\n\\r\\nCLIV\\r\\n\\r\\nThe little Love-god lying once asleep,\\r\\nLaid by his side his heart-inflaming brand,\\r\\nWhilst many nymphs that vow’d chaste life to keep\\r\\nCame tripping by; but in her maiden hand\\r\\nThe fairest votary took up that fire\\r\\nWhich many legions of true hearts had warm’d;\\r\\nAnd so the general of hot desire\\r\\nWas, sleeping, by a virgin hand disarm’d.\\r\\nThis brand she quenched in a cool well by,\\r\\nWhich from Love’s fire took heat perpetual,\\r\\nGrowing a bath and healthful remedy,\\r\\nFor men diseased; but I, my mistress’ thrall,\\r\\n    Came there for cure and this by that I prove,\\r\\n    Love’s fire heats water, water cools not love.\\r\\n*** END OF THE PROJECT GUTENBERG EBOOK 1041 ***'"
      ]
     },
     "execution_count": 3,
     "metadata": {},
     "output_type": "execute_result"
    }
   ],
   "source": [
    "data"
   ]
  },
  {
   "cell_type": "code",
   "execution_count": 4,
   "metadata": {},
   "outputs": [
    {
     "data": {
      "text/plain": [
       "['*** start of the project gutenberg ebook 1041 ***\\r',\n",
       " 'the sonnets\\r',\n",
       " '\\r',\n",
       " 'by william shakespeare\\r',\n",
       " '\\r',\n",
       " '\\r',\n",
       " '\\r',\n",
       " '\\r',\n",
       " 'i\\r',\n",
       " '\\r',\n",
       " 'from fairest creatures we desire increase,\\r',\n",
       " 'that thereby beauty’s rose might never die,\\r',\n",
       " 'but as the riper should by time decease,\\r',\n",
       " 'his tender heir might bear his memory:\\r',\n",
       " 'but thou, contracted to thine own bright eyes,\\r',\n",
       " 'feed’st thy light’s flame with self-substantial fuel,\\r',\n",
       " 'making a famine where abundance lies,\\r',\n",
       " 'thyself thy foe, to thy sweet self too cruel:\\r',\n",
       " 'thou that art now the world’s fresh ornament,\\r',\n",
       " 'and only herald to the gaudy spring,\\r',\n",
       " 'within thine own bud buriest thy content,\\r',\n",
       " 'and tender churl mak’st waste in niggarding:\\r',\n",
       " '    pity the world, or else this glutton be,\\r',\n",
       " '    to eat the world’s due, by the grave and thee.\\r',\n",
       " '\\r',\n",
       " 'ii\\r',\n",
       " '\\r',\n",
       " 'when forty winters shall besiege thy brow,\\r',\n",
       " 'and dig deep trenches in thy beauty’s field,\\r',\n",
       " 'thy youth’s proud livery so gazed on now,\\r',\n",
       " 'will be a tatter’d weed of small worth held:\\r',\n",
       " 'then being asked, where all thy beauty lies,\\r',\n",
       " 'where all the treasure of thy lusty days;\\r',\n",
       " 'to say, within thine own deep sunken eyes,\\r',\n",
       " 'were an all-eating shame, and thriftless praise.\\r',\n",
       " 'how much more praise deserv’d thy beauty’s use,\\r',\n",
       " 'if thou couldst answer ‘this fair child of mine\\r',\n",
       " 'shall sum my count, and make my old excuse,’\\r',\n",
       " 'proving his beauty by succession thine!\\r',\n",
       " '    this were to be new made when thou art old,\\r',\n",
       " '    and see thy blood warm when thou feel’st it cold.\\r',\n",
       " '\\r',\n",
       " 'iii\\r',\n",
       " '\\r',\n",
       " 'look in thy glass and tell the face thou viewest\\r',\n",
       " 'now is the time that face should form another;\\r',\n",
       " 'whose fresh repair if now thou not renewest,\\r',\n",
       " 'thou dost beguile the world, unbless some mother.\\r',\n",
       " 'for where is she so fair whose unear’d womb\\r',\n",
       " 'disdains the tillage of thy husbandry?\\r',\n",
       " 'or who is he so fond will be the tomb,\\r',\n",
       " 'of his self-love to stop posterity?\\r',\n",
       " 'thou art thy mother’s glass and she in thee\\r',\n",
       " 'calls back the lovely april of her prime;\\r',\n",
       " 'so thou through windows of thine age shalt see,\\r',\n",
       " 'despite of wrinkles this thy golden time.\\r',\n",
       " '    but if thou live, remember’d not to be,\\r',\n",
       " '    die single and thine image dies with thee.\\r',\n",
       " '\\r',\n",
       " 'iv\\r',\n",
       " '\\r',\n",
       " 'unthrifty loveliness, why dost thou spend\\r',\n",
       " 'upon thyself thy beauty’s legacy?\\r',\n",
       " 'nature’s bequest gives nothing, but doth lend,\\r',\n",
       " 'and being frank she lends to those are free:\\r',\n",
       " 'then, beauteous niggard, why dost thou abuse\\r',\n",
       " 'the bounteous largess given thee to give?\\r',\n",
       " 'profitless usurer, why dost thou use\\r',\n",
       " 'so great a sum of sums, yet canst not live?\\r',\n",
       " 'for having traffic with thyself alone,\\r',\n",
       " 'thou of thyself thy sweet self dost deceive:\\r',\n",
       " 'then how when nature calls thee to be gone,\\r',\n",
       " 'what acceptable audit canst thou leave?\\r',\n",
       " '    thy unused beauty must be tombed with thee,\\r',\n",
       " '    which, used, lives th’ executor to be.\\r',\n",
       " '\\r',\n",
       " 'v\\r',\n",
       " '\\r',\n",
       " 'those hours, that with gentle work did frame\\r',\n",
       " 'the lovely gaze where every eye doth dwell,\\r',\n",
       " 'will play the tyrants to the very same\\r',\n",
       " 'and that unfair which fairly doth excel;\\r',\n",
       " 'for never-resting time leads summer on\\r',\n",
       " 'to hideous winter, and confounds him there;\\r',\n",
       " 'sap checked with frost, and lusty leaves quite gone,\\r',\n",
       " 'beauty o’er-snowed and bareness every where:\\r',\n",
       " 'then were not summer’s distillation left,\\r',\n",
       " 'a liquid prisoner pent in walls of glass,\\r',\n",
       " 'beauty’s effect with beauty were bereft,\\r',\n",
       " 'nor it, nor no remembrance what it was:\\r',\n",
       " '    but flowers distill’d, though they with winter meet,\\r',\n",
       " '    leese but their show; their substance still lives sweet.\\r',\n",
       " '\\r',\n",
       " '\\r',\n",
       " 'vi\\r',\n",
       " '\\r',\n",
       " 'then let not winter’s ragged hand deface,\\r',\n",
       " 'in thee thy summer, ere thou be distill’d:\\r',\n",
       " 'make sweet some vial; treasure thou some place\\r',\n",
       " 'with beauty’s treasure ere it be self-kill’d.\\r',\n",
       " 'that use is not forbidden usury,\\r',\n",
       " 'which happies those that pay the willing loan;\\r',\n",
       " 'that’s for thyself to breed another thee,\\r',\n",
       " 'or ten times happier, be it ten for one;\\r',\n",
       " 'ten times thyself were happier than thou art,\\r',\n",
       " 'if ten of thine ten times refigur’d thee:\\r',\n",
       " 'then what could death do if thou shouldst depart,\\r',\n",
       " 'leaving thee living in posterity?\\r',\n",
       " '    be not self-will’d, for thou art much too fair\\r',\n",
       " '    to be death’s conquest and make worms thine heir.\\r',\n",
       " '\\r',\n",
       " 'vii\\r',\n",
       " '\\r',\n",
       " 'lo! in the orient when the gracious light\\r',\n",
       " 'lifts up his burning head, each under eye\\r',\n",
       " 'doth homage to his new-appearing sight,\\r',\n",
       " 'serving with looks his sacred majesty;\\r',\n",
       " 'and having climb’d the steep-up heavenly hill,\\r',\n",
       " 'resembling strong youth in his middle age,\\r',\n",
       " 'yet mortal looks adore his beauty still,\\r',\n",
       " 'attending on his golden pilgrimage:\\r',\n",
       " 'but when from highmost pitch, with weary car,\\r',\n",
       " 'like feeble age, he reeleth from the day,\\r',\n",
       " 'the eyes, ’fore duteous, now converted are\\r',\n",
       " 'from his low tract, and look another way:\\r',\n",
       " '    so thou, thyself outgoing in thy noon:\\r',\n",
       " '    unlook’d, on diest unless thou get a son.\\r',\n",
       " '\\r',\n",
       " 'viii\\r',\n",
       " '\\r',\n",
       " 'music to hear, why hear’st thou music sadly?\\r',\n",
       " 'sweets with sweets war not, joy delights in joy:\\r',\n",
       " 'why lov’st thou that which thou receiv’st not gladly,\\r',\n",
       " 'or else receiv’st with pleasure thine annoy?\\r',\n",
       " 'if the true concord of well-tuned sounds,\\r',\n",
       " 'by unions married, do offend thine ear,\\r',\n",
       " 'they do but sweetly chide thee, who confounds\\r',\n",
       " 'in singleness the parts that thou shouldst bear.\\r',\n",
       " 'mark how one string, sweet husband to another,\\r',\n",
       " 'strikes each in each by mutual ordering;\\r',\n",
       " 'resembling sire and child and happy mother,\\r',\n",
       " 'who, all in one, one pleasing note do sing:\\r',\n",
       " '    whose speechless song being many, seeming one,\\r',\n",
       " '    sings this to thee: ‘thou single wilt prove none.’\\r',\n",
       " '\\r',\n",
       " 'ix\\r',\n",
       " '\\r',\n",
       " 'is it for fear to wet a widow’s eye,\\r',\n",
       " 'that thou consum’st thyself in single life?\\r',\n",
       " 'ah! if thou issueless shalt hap to die,\\r',\n",
       " 'the world will wail thee like a makeless wife;\\r',\n",
       " 'the world will be thy widow and still weep\\r',\n",
       " 'that thou no form of thee hast left behind,\\r',\n",
       " 'when every private widow well may keep\\r',\n",
       " 'by children’s eyes, her husband’s shape in mind:\\r',\n",
       " 'look! what an unthrift in the world doth spend\\r',\n",
       " 'shifts but his place, for still the world enjoys it;\\r',\n",
       " 'but beauty’s waste hath in the world an end,\\r',\n",
       " 'and kept unused the user so destroys it.\\r',\n",
       " '    no love toward others in that bosom sits\\r',\n",
       " '    that on himself such murd’rous shame commits.\\r',\n",
       " '\\r',\n",
       " 'x\\r',\n",
       " '\\r',\n",
       " 'for shame! deny that thou bear’st love to any,\\r',\n",
       " 'who for thyself art so unprovident.\\r',\n",
       " 'grant, if thou wilt, thou art belov’d of many,\\r',\n",
       " 'but that thou none lov’st is most evident:\\r',\n",
       " 'for thou art so possess’d with murderous hate,\\r',\n",
       " 'that ’gainst thyself thou stick’st not to conspire,\\r',\n",
       " 'seeking that beauteous roof to ruinate\\r',\n",
       " 'which to repair should be thy chief desire.\\r',\n",
       " 'o! change thy thought, that i may change my mind:\\r',\n",
       " 'shall hate be fairer lodg’d than gentle love?\\r',\n",
       " 'be, as thy presence is, gracious and kind,\\r',\n",
       " 'or to thyself at least kind-hearted prove:\\r',\n",
       " '    make thee another self for love of me,\\r',\n",
       " '    that beauty still may live in thine or thee.\\r',\n",
       " '\\r',\n",
       " 'xi\\r',\n",
       " '\\r',\n",
       " 'as fast as thou shalt wane, so fast thou grow’st,\\r',\n",
       " 'in one of thine, from that which thou departest;\\r',\n",
       " 'and that fresh blood which youngly thou bestow’st,\\r',\n",
       " 'thou mayst call thine when thou from youth convertest,\\r',\n",
       " 'herein lives wisdom, beauty, and increase;\\r',\n",
       " 'without this folly, age, and cold decay:\\r',\n",
       " 'if all were minded so, the times should cease\\r',\n",
       " 'and threescore year would make the world away.\\r',\n",
       " 'let those whom nature hath not made for store,\\r',\n",
       " 'harsh, featureless, and rude, barrenly perish:\\r',\n",
       " 'look, whom she best endow’d, she gave thee more;\\r',\n",
       " 'which bounteous gift thou shouldst in bounty cherish:\\r',\n",
       " '    she carv’d thee for her seal, and meant thereby,\\r',\n",
       " '    thou shouldst print more, not let that copy die.\\r',\n",
       " '\\r',\n",
       " 'xii\\r',\n",
       " '\\r',\n",
       " 'when i do count the clock that tells the time,\\r',\n",
       " 'and see the brave day sunk in hideous night;\\r',\n",
       " 'when i behold the violet past prime,\\r',\n",
       " 'and sable curls, all silvered o’er with white;\\r',\n",
       " 'when lofty trees i see barren of leaves,\\r',\n",
       " 'which erst from heat did canopy the herd,\\r',\n",
       " 'and summer’s green all girded up in sheaves,\\r',\n",
       " 'borne on the bier with white and bristly beard,\\r',\n",
       " 'then of thy beauty do i question make,\\r',\n",
       " 'that thou among the wastes of time must go,\\r',\n",
       " 'since sweets and beauties do themselves forsake\\r',\n",
       " 'and die as fast as they see others grow;\\r',\n",
       " '    and nothing ’gainst time’s scythe can make defence\\r',\n",
       " '    save breed, to brave him when he takes thee hence.\\r',\n",
       " '\\r',\n",
       " 'xiii\\r',\n",
       " '\\r',\n",
       " 'o! that you were your self; but, love you are\\r',\n",
       " 'no longer yours, than you yourself here live:\\r',\n",
       " 'against this coming end you should prepare,\\r',\n",
       " 'and your sweet semblance to some other give:\\r',\n",
       " 'so should that beauty which you hold in lease\\r',\n",
       " 'find no determination; then you were\\r',\n",
       " 'yourself again, after yourself’s decease,\\r',\n",
       " 'when your sweet issue your sweet form should bear.\\r',\n",
       " 'who lets so fair a house fall to decay,\\r',\n",
       " 'which husbandry in honour might uphold,\\r',\n",
       " 'against the stormy gusts of winter’s day\\r',\n",
       " 'and barren rage of death’s eternal cold?\\r',\n",
       " '    o! none but unthrifts. dear my love, you know,\\r',\n",
       " '    you had a father: let your son say so.\\r',\n",
       " '\\r',\n",
       " 'xiv\\r',\n",
       " '\\r',\n",
       " 'not from the stars do i my judgement pluck;\\r',\n",
       " 'and yet methinks i have astronomy,\\r',\n",
       " 'but not to tell of good or evil luck,\\r',\n",
       " 'of plagues, of dearths, or seasons’ quality;\\r',\n",
       " 'nor can i fortune to brief minutes tell,\\r',\n",
       " 'pointing to each his thunder, rain and wind,\\r',\n",
       " 'or say with princes if it shall go well\\r',\n",
       " 'by oft predict that i in heaven find:\\r',\n",
       " 'but from thine eyes my knowledge i derive,\\r',\n",
       " 'and constant stars in them i read such art\\r',\n",
       " 'as ‘truth and beauty shall together thrive,\\r',\n",
       " 'if from thyself, to store thou wouldst convert’;\\r',\n",
       " '    or else of thee this i prognosticate:\\r',\n",
       " '    ‘thy end is truth’s and beauty’s doom and date.’\\r',\n",
       " '\\r',\n",
       " 'xv\\r',\n",
       " '\\r',\n",
       " 'when i consider everything that grows\\r',\n",
       " 'holds in perfection but a little moment,\\r',\n",
       " 'that this huge stage presenteth nought but shows\\r',\n",
       " 'whereon the stars in secret influence comment;\\r',\n",
       " 'when i perceive that men as plants increase,\\r',\n",
       " 'cheered and checked even by the self-same sky,\\r',\n",
       " 'vaunt in their youthful sap, at height decrease,\\r',\n",
       " 'and wear their brave state out of memory;\\r',\n",
       " 'then the conceit of this inconstant stay\\r',\n",
       " 'sets you most rich in youth before my sight,\\r',\n",
       " 'where wasteful time debateth with decay\\r',\n",
       " 'to change your day of youth to sullied night,\\r',\n",
       " '    and all in war with time for love of you,\\r',\n",
       " '    as he takes from you, i engraft you new.\\r',\n",
       " '\\r',\n",
       " 'xvi\\r',\n",
       " '\\r',\n",
       " 'but wherefore do not you a mightier way\\r',\n",
       " 'make war upon this bloody tyrant, time?\\r',\n",
       " 'and fortify yourself in your decay\\r',\n",
       " 'with means more blessed than my barren rhyme?\\r',\n",
       " 'now stand you on the top of happy hours,\\r',\n",
       " 'and many maiden gardens, yet unset,\\r',\n",
       " 'with virtuous wish would bear you living flowers,\\r',\n",
       " 'much liker than your painted counterfeit:\\r',\n",
       " 'so should the lines of life that life repair,\\r',\n",
       " 'which this, time’s pencil, or my pupil pen,\\r',\n",
       " 'neither in inward worth nor outward fair,\\r',\n",
       " 'can make you live yourself in eyes of men.\\r',\n",
       " '    to give away yourself, keeps yourself still,\\r',\n",
       " '    and you must live, drawn by your own sweet skill.\\r',\n",
       " '\\r',\n",
       " 'xvii\\r',\n",
       " '\\r',\n",
       " 'who will believe my verse in time to come,\\r',\n",
       " 'if it were fill’d with your most high deserts?\\r',\n",
       " 'though yet heaven knows it is but as a tomb\\r',\n",
       " 'which hides your life, and shows not half your parts.\\r',\n",
       " 'if i could write the beauty of your eyes,\\r',\n",
       " 'and in fresh numbers number all your graces,\\r',\n",
       " 'the age to come would say ‘this poet lies;\\r',\n",
       " 'such heavenly touches ne’er touch’d earthly faces.’\\r',\n",
       " 'so should my papers, yellow’d with their age,\\r',\n",
       " 'be scorn’d, like old men of less truth than tongue,\\r',\n",
       " 'and your true rights be term’d a poet’s rage\\r',\n",
       " 'and stretched metre of an antique song:\\r',\n",
       " '    but were some child of yours alive that time,\\r',\n",
       " '    you should live twice,—in it, and in my rhyme.\\r',\n",
       " '\\r',\n",
       " 'xviii\\r',\n",
       " '\\r',\n",
       " 'shall i compare thee to a summer’s day?\\r',\n",
       " 'thou art more lovely and more temperate:\\r',\n",
       " 'rough winds do shake the darling buds of may,\\r',\n",
       " 'and summer’s lease hath all too short a date:\\r',\n",
       " 'sometime too hot the eye of heaven shines,\\r',\n",
       " 'and often is his gold complexion dimm’d,\\r',\n",
       " 'and every fair from fair sometime declines,\\r',\n",
       " 'by chance, or nature’s changing course untrimm’d:\\r',\n",
       " 'but thy eternal summer shall not fade,\\r',\n",
       " 'nor lose possession of that fair thou ow’st,\\r',\n",
       " 'nor shall death brag thou wander’st in his shade,\\r',\n",
       " 'when in eternal lines to time thou grow’st,\\r',\n",
       " '    so long as men can breathe, or eyes can see,\\r',\n",
       " '    so long lives this, and this gives life to thee.\\r',\n",
       " '\\r',\n",
       " 'xix\\r',\n",
       " '\\r',\n",
       " 'devouring time, blunt thou the lion’s paws,\\r',\n",
       " 'and make the earth devour her own sweet brood;\\r',\n",
       " 'pluck the keen teeth from the fierce tiger’s jaws,\\r',\n",
       " 'and burn the long-liv’d phoenix, in her blood;\\r',\n",
       " 'make glad and sorry seasons as thou fleets,\\r',\n",
       " 'and do whate’er thou wilt, swift-footed time,\\r',\n",
       " 'to the wide world and all her fading sweets;\\r',\n",
       " 'but i forbid thee one most heinous crime:\\r',\n",
       " 'o! carve not with thy hours my love’s fair brow,\\r',\n",
       " 'nor draw no lines there with thine antique pen;\\r',\n",
       " 'him in thy course untainted do allow\\r',\n",
       " 'for beauty’s pattern to succeeding men.\\r',\n",
       " '    yet do thy worst, old time; despite thy wrong,\\r',\n",
       " '    my love shall in my verse ever live young.\\r',\n",
       " '\\r',\n",
       " 'xx\\r',\n",
       " '\\r',\n",
       " 'a woman’s face with nature’s own hand painted,\\r',\n",
       " 'hast thou, the master mistress of my passion;\\r',\n",
       " 'a woman’s gentle heart, but not acquainted\\r',\n",
       " 'with shifting change, as is false women’s fashion:\\r',\n",
       " 'an eye more bright than theirs, less false in rolling,\\r',\n",
       " 'gilding the object whereupon it gazeth;\\r',\n",
       " 'a man in hue all ‘hues’ in his controlling,\\r',\n",
       " 'which steals men’s eyes and women’s souls amazeth.\\r',\n",
       " 'and for a woman wert thou first created;\\r',\n",
       " 'till nature, as she wrought thee, fell a-doting,\\r',\n",
       " 'and by addition me of thee defeated,\\r',\n",
       " 'by adding one thing to my purpose nothing.\\r',\n",
       " '    but since she prick’d thee out for women’s pleasure,\\r',\n",
       " '    mine be thy love and thy love’s use their treasure.\\r',\n",
       " '\\r',\n",
       " 'xxi\\r',\n",
       " '\\r',\n",
       " 'so is it not with me as with that muse,\\r',\n",
       " 'stirr’d by a painted beauty to his verse,\\r',\n",
       " 'who heaven itself for ornament doth use\\r',\n",
       " 'and every fair with his fair doth rehearse,\\r',\n",
       " 'making a couplement of proud compare.\\r',\n",
       " 'with sun and moon, with earth and sea’s rich gems,\\r',\n",
       " 'with april’s first-born flowers, and all things rare,\\r',\n",
       " 'that heaven’s air in this huge rondure hems.\\r',\n",
       " 'o! let me, true in love, but truly write,\\r',\n",
       " 'and then believe me, my love is as fair\\r',\n",
       " 'as any mother’s child, though not so bright\\r',\n",
       " 'as those gold candles fix’d in heaven’s air:\\r',\n",
       " '    let them say more that like of hearsay well;\\r',\n",
       " '    i will not praise that purpose not to sell.\\r',\n",
       " '\\r',\n",
       " 'xxii\\r',\n",
       " '\\r',\n",
       " 'my glass shall not persuade me i am old,\\r',\n",
       " 'so long as youth and thou are of one date;\\r',\n",
       " 'but when in thee time’s furrows i behold,\\r',\n",
       " 'then look i death my days should expiate.\\r',\n",
       " 'for all that beauty that doth cover thee,\\r',\n",
       " 'is but the seemly raiment of my heart,\\r',\n",
       " 'which in thy breast doth live, as thine in me:\\r',\n",
       " 'how can i then be elder than thou art?\\r',\n",
       " 'o! therefore love, be of thyself so wary\\r',\n",
       " 'as i, not for myself, but for thee will;\\r',\n",
       " 'bearing thy heart, which i will keep so chary\\r',\n",
       " 'as tender nurse her babe from faring ill.\\r',\n",
       " '    presume not on thy heart when mine is slain,\\r',\n",
       " '    thou gav’st me thine not to give back again.\\r',\n",
       " '\\r',\n",
       " 'xxiii\\r',\n",
       " '\\r',\n",
       " 'as an unperfect actor on the stage,\\r',\n",
       " 'who with his fear is put beside his part,\\r',\n",
       " 'or some fierce thing replete with too much rage,\\r',\n",
       " 'whose strength’s abundance weakens his own heart;\\r',\n",
       " 'so i, for fear of trust, forget to say\\r',\n",
       " 'the perfect ceremony of love’s rite,\\r',\n",
       " 'and in mine own love’s strength seem to decay,\\r',\n",
       " 'o’ercharg’d with burthen of mine own love’s might.\\r',\n",
       " 'o! let my looks be then the eloquence\\r',\n",
       " 'and dumb presagers of my speaking breast,\\r',\n",
       " 'who plead for love, and look for recompense,\\r',\n",
       " 'more than that tongue that more hath more express’d.\\r',\n",
       " '    o! learn to read what silent love hath writ:\\r',\n",
       " '    to hear with eyes belongs to love’s fine wit.\\r',\n",
       " '\\r',\n",
       " 'xxiv\\r',\n",
       " '\\r',\n",
       " 'mine eye hath play’d the painter and hath stell’d,\\r',\n",
       " 'thy beauty’s form in table of my heart;\\r',\n",
       " 'my body is the frame wherein ’tis held,\\r',\n",
       " 'and perspective it is best painter’s art.\\r',\n",
       " 'for through the painter must you see his skill,\\r',\n",
       " 'to find where your true image pictur’d lies,\\r',\n",
       " 'which in my bosom’s shop is hanging still,\\r',\n",
       " 'that hath his windows glazed with thine eyes.\\r',\n",
       " 'now see what good turns eyes for eyes have done:\\r',\n",
       " 'mine eyes have drawn thy shape, and thine for me\\r',\n",
       " 'are windows to my breast, where-through the sun\\r',\n",
       " 'delights to peep, to gaze therein on thee;\\r',\n",
       " '    yet eyes this cunning want to grace their art,\\r',\n",
       " '    they draw but what they see, know not the heart.\\r',\n",
       " '\\r',\n",
       " 'xxv\\r',\n",
       " '\\r',\n",
       " 'let those who are in favour with their stars\\r',\n",
       " 'of public honour and proud titles boast,\\r',\n",
       " 'whilst i, whom fortune of such triumph bars\\r',\n",
       " 'unlook’d for joy in that i honour most.\\r',\n",
       " 'great princes’ favourites their fair leaves spread\\r',\n",
       " 'but as the marigold at the sun’s eye,\\r',\n",
       " 'and in themselves their pride lies buried,\\r',\n",
       " 'for at a frown they in their glory die.\\r',\n",
       " 'the painful warrior famoused for fight,\\r',\n",
       " 'after a thousand victories once foil’d,\\r',\n",
       " 'is from the book of honour razed quite,\\r',\n",
       " 'and all the rest forgot for which he toil’d:\\r',\n",
       " '    then happy i, that love and am belov’d,\\r',\n",
       " '    where i may not remove nor be remov’d.\\r',\n",
       " '\\r',\n",
       " 'xxvi\\r',\n",
       " '\\r',\n",
       " 'lord of my love, to whom in vassalage\\r',\n",
       " 'thy merit hath my duty strongly knit,\\r',\n",
       " 'to thee i send this written embassage,\\r',\n",
       " 'to witness duty, not to show my wit:\\r',\n",
       " 'duty so great, which wit so poor as mine\\r',\n",
       " 'may make seem bare, in wanting words to show it,\\r',\n",
       " 'but that i hope some good conceit of thine\\r',\n",
       " 'in thy soul’s thought, all naked, will bestow it:\\r',\n",
       " 'till whatsoever star that guides my moving,\\r',\n",
       " 'points on me graciously with fair aspect,\\r',\n",
       " 'and puts apparel on my tatter’d loving,\\r',\n",
       " 'to show me worthy of thy sweet respect:\\r',\n",
       " '    then may i dare to boast how i do love thee;\\r',\n",
       " '    till then, not show my head where thou mayst prove me.\\r',\n",
       " '\\r',\n",
       " 'xxvii\\r',\n",
       " '\\r',\n",
       " 'weary with toil, i haste me to my bed,\\r',\n",
       " 'the dear respose for limbs with travel tir’d;\\r',\n",
       " 'but then begins a journey in my head\\r',\n",
       " 'to work my mind, when body’s work’s expired:\\r',\n",
       " 'for then my thoughts, from far where i abide,\\r',\n",
       " 'intend a zealous pilgrimage to thee,\\r',\n",
       " 'and keep my drooping eyelids open wide,\\r',\n",
       " 'looking on darkness which the blind do see:\\r',\n",
       " 'save that my soul’s imaginary sight\\r',\n",
       " 'presents thy shadow to my sightless view,\\r',\n",
       " 'which, like a jewel hung in ghastly night,\\r',\n",
       " 'makes black night beauteous, and her old face new.\\r',\n",
       " '    lo! thus, by day my limbs, by night my mind,\\r',\n",
       " '    for thee, and for myself, no quiet find.\\r',\n",
       " '\\r',\n",
       " 'xxviii\\r',\n",
       " '\\r',\n",
       " 'how can i then return in happy plight,\\r',\n",
       " 'that am debarre’d the benefit of rest?\\r',\n",
       " 'when day’s oppression is not eas’d by night,\\r',\n",
       " 'but day by night and night by day oppress’d,\\r',\n",
       " 'and each, though enemies to either’s reign,\\r',\n",
       " 'do in consent shake hands to torture me,\\r',\n",
       " 'the one by toil, the other to complain\\r',\n",
       " 'how far i toil, still farther off from thee.\\r',\n",
       " 'i tell the day, to please him thou art bright,\\r',\n",
       " 'and dost him grace when clouds do blot the heaven:\\r',\n",
       " 'so flatter i the swart-complexion’d night,\\r',\n",
       " 'when sparkling stars twire not thou gild’st the even.\\r',\n",
       " '    but day doth daily draw my sorrows longer,\\r',\n",
       " '    and night doth nightly make grief’s length seem stronger.\\r',\n",
       " '\\r',\n",
       " 'xxix\\r',\n",
       " '\\r',\n",
       " 'when in disgrace with fortune and men’s eyes\\r',\n",
       " 'i all alone beweep my outcast state,\\r',\n",
       " 'and trouble deaf heaven with my bootless cries,\\r',\n",
       " 'and look upon myself, and curse my fate,\\r',\n",
       " 'wishing me like to one more rich in hope,\\r',\n",
       " 'featur’d like him, like him with friends possess’d,\\r',\n",
       " 'desiring this man’s art, and that man’s scope,\\r',\n",
       " 'with what i most enjoy contented least;\\r',\n",
       " 'yet in these thoughts my self almost despising,\\r',\n",
       " 'haply i think on thee, and then my state,\\r',\n",
       " 'like to the lark at break of day arising\\r',\n",
       " 'from sullen earth, sings hymns at heaven’s gate;\\r',\n",
       " '    for thy sweet love remember’d such wealth brings\\r',\n",
       " '    that then i scorn to change my state with kings.\\r',\n",
       " '\\r',\n",
       " 'xxx\\r',\n",
       " '\\r',\n",
       " 'when to the sessions of sweet silent thought\\r',\n",
       " 'i summon up remembrance of things past,\\r',\n",
       " 'i sigh the lack of many a thing i sought,\\r',\n",
       " 'and with old woes new wail my dear time’s waste:\\r',\n",
       " 'then can i drown an eye, unused to flow,\\r',\n",
       " 'for precious friends hid in death’s dateless night,\\r',\n",
       " 'and weep afresh love’s long since cancell’d woe,\\r',\n",
       " 'and moan the expense of many a vanish’d sight:\\r',\n",
       " 'then can i grieve at grievances foregone,\\r',\n",
       " 'and heavily from woe to woe tell o’er\\r',\n",
       " 'the sad account of fore-bemoaned moan,\\r',\n",
       " 'which i new pay as if not paid before.\\r',\n",
       " '    but if the while i think on thee, dear friend,\\r',\n",
       " '    all losses are restor’d and sorrows end.\\r',\n",
       " '\\r',\n",
       " 'xxxi\\r',\n",
       " '\\r',\n",
       " 'thy bosom is endeared with all hearts,\\r',\n",
       " 'which i by lacking have supposed dead;\\r',\n",
       " 'and there reigns love, and all love’s loving parts,\\r',\n",
       " 'and all those friends which i thought buried.\\r',\n",
       " 'how many a holy and obsequious tear\\r',\n",
       " 'hath dear religious love stol’n from mine eye,\\r',\n",
       " 'as interest of the dead, which now appear\\r',\n",
       " 'but things remov’d that hidden in thee lie!\\r',\n",
       " 'thou art the grave where buried love doth live,\\r',\n",
       " 'hung with the trophies of my lovers gone,\\r',\n",
       " 'who all their parts of me to thee did give,\\r',\n",
       " 'that due of many now is thine alone:\\r',\n",
       " '    their images i lov’d, i view in thee,\\r',\n",
       " '    and thou, all they, hast all the all of me.\\r',\n",
       " '\\r',\n",
       " 'xxxii\\r',\n",
       " '\\r',\n",
       " 'if thou survive my well-contented day,\\r',\n",
       " 'when that churl death my bones with dust shall cover\\r',\n",
       " 'and shalt by fortune once more re-survey\\r',\n",
       " 'these poor rude lines of thy deceased lover,\\r',\n",
       " 'compare them with the bett’ring of the time,\\r',\n",
       " 'and though they be outstripp’d by every pen,\\r',\n",
       " 'reserve them for my love, not for their rhyme,\\r',\n",
       " 'exceeded by the height of happier men.\\r',\n",
       " 'o! then vouchsafe me but this loving thought:\\r',\n",
       " '‘had my friend’s muse grown with this growing age,\\r',\n",
       " 'a dearer birth than this his love had brought,\\r',\n",
       " 'to march in ranks of better equipage:\\r',\n",
       " '    but since he died and poets better prove,\\r',\n",
       " '    theirs for their style i’ll read, his for his love’.\\r',\n",
       " '\\r',\n",
       " 'xxxiii\\r',\n",
       " '\\r',\n",
       " 'full many a glorious morning have i seen\\r',\n",
       " 'flatter the mountain tops with sovereign eye,\\r',\n",
       " 'kissing with golden face the meadows green,\\r',\n",
       " 'gilding pale streams with heavenly alchemy;\\r',\n",
       " 'anon permit the basest clouds to ride\\r',\n",
       " 'with ugly rack on his celestial face,\\r',\n",
       " 'and from the forlorn world his visage hide,\\r',\n",
       " 'stealing unseen to west with this disgrace:\\r',\n",
       " 'even so my sun one early morn did shine,\\r',\n",
       " 'with all triumphant splendour on my brow;\\r',\n",
       " 'but out! alack! he was but one hour mine,\\r',\n",
       " 'the region cloud hath mask’d him from me now.\\r',\n",
       " '    yet him for this my love no whit disdaineth;\\r',\n",
       " '    suns of the world may stain when heaven’s sun staineth.\\r',\n",
       " '\\r',\n",
       " 'xxxiv\\r',\n",
       " '\\r',\n",
       " 'why didst thou promise such a beauteous day,\\r',\n",
       " 'and make me travel forth without my cloak,\\r',\n",
       " 'to let base clouds o’ertake me in my way,\\r',\n",
       " 'hiding thy bravery in their rotten smoke?\\r',\n",
       " '’tis not enough that through the cloud thou break,\\r',\n",
       " 'to dry the rain on my storm-beaten face,\\r',\n",
       " 'for no man well of such a salve can speak,\\r',\n",
       " 'that heals the wound, and cures not the disgrace:\\r',\n",
       " 'nor can thy shame give physic to my grief;\\r',\n",
       " 'though thou repent, yet i have still the loss:\\r',\n",
       " 'the offender’s sorrow lends but weak relief\\r',\n",
       " 'to him that bears the strong offence’s cross.\\r',\n",
       " '    ah! but those tears are pearl which thy love sheds,\\r',\n",
       " '    and they are rich and ransom all ill deeds.\\r',\n",
       " '\\r',\n",
       " 'xxxv\\r',\n",
       " '\\r',\n",
       " 'no more be griev’d at that which thou hast done:\\r',\n",
       " 'roses have thorns, and silver fountains mud:\\r',\n",
       " 'clouds and eclipses stain both moon and sun,\\r',\n",
       " 'and loathsome canker lives in sweetest bud.\\r',\n",
       " 'all men make faults, and even i in this,\\r',\n",
       " 'authorizing thy trespass with compare,\\r',\n",
       " 'myself corrupting, salving thy amiss,\\r',\n",
       " 'excusing thy sins more than thy sins are;\\r',\n",
       " 'for to thy sensual fault i bring in sense;\\r',\n",
       " 'thy adverse party is thy advocate,\\r',\n",
       " 'and ’gainst myself a lawful plea commence:\\r',\n",
       " 'such civil war is in my love and hate,\\r',\n",
       " '    that i an accessary needs must be,\\r',\n",
       " '    to that sweet thief which sourly robs from me.\\r',\n",
       " '\\r',\n",
       " 'xxxvi\\r',\n",
       " '\\r',\n",
       " 'let me confess that we two must be twain,\\r',\n",
       " 'although our undivided loves are one:\\r',\n",
       " 'so shall those blots that do with me remain,\\r',\n",
       " 'without thy help, by me be borne alone.\\r',\n",
       " 'in our two loves there is but one respect,\\r',\n",
       " 'though in our lives a separable spite,\\r',\n",
       " 'which though it alter not love’s sole effect,\\r',\n",
       " 'yet doth it steal sweet hours from love’s delight.\\r',\n",
       " 'i may not evermore acknowledge thee,\\r',\n",
       " 'lest my bewailed guilt should do thee shame,\\r',\n",
       " 'nor thou with public kindness honour me,\\r',\n",
       " 'unless thou take that honour from thy name:\\r',\n",
       " '    but do not so, i love thee in such sort,\\r',\n",
       " '    as thou being mine, mine is thy good report.\\r',\n",
       " '\\r',\n",
       " 'xxxvii\\r',\n",
       " '\\r',\n",
       " 'as a decrepit father takes delight\\r',\n",
       " 'to see his active child do deeds of youth,\\r',\n",
       " 'so i, made lame by fortune’s dearest spite,\\r',\n",
       " 'take all my comfort of thy worth and truth;\\r',\n",
       " 'for whether beauty, birth, or wealth, or wit,\\r',\n",
       " 'or any of these all, or all, or more,\\r',\n",
       " 'entitled in thy parts, do crowned sit,\\r',\n",
       " 'i make my love engrafted, to this store:\\r',\n",
       " 'so then i am not lame, poor, nor despis’d,\\r',\n",
       " 'whilst that this shadow doth such substance give\\r',\n",
       " 'that i in thy abundance am suffic’d,\\r',\n",
       " 'and by a part of all thy glory live.\\r',\n",
       " '    look what is best, that best i wish in thee:\\r',\n",
       " '    this wish i have; then ten times happy me!\\r',\n",
       " '\\r',\n",
       " 'xxxviii\\r',\n",
       " '\\r',\n",
       " 'how can my muse want subject to invent,\\r',\n",
       " 'while thou dost breathe, that pour’st into my verse\\r',\n",
       " 'thine own sweet argument, too excellent\\r',\n",
       " 'for every vulgar paper to rehearse?\\r',\n",
       " 'o! give thyself the thanks, if aught in me\\r',\n",
       " 'worthy perusal stand against thy sight;\\r',\n",
       " 'for who’s so dumb that cannot write to thee,\\r',\n",
       " 'when thou thyself dost give invention light?\\r',\n",
       " 'be thou the tenth muse, ten times more in worth\\r',\n",
       " 'than those old nine which rhymers invocate;\\r',\n",
       " 'and he that calls on thee, let him bring forth\\r',\n",
       " 'eternal numbers to outlive long date.\\r',\n",
       " '    if my slight muse do please these curious days,\\r',\n",
       " '    the pain be mine, but thine shall be the praise.\\r',\n",
       " '\\r',\n",
       " 'xxxix\\r',\n",
       " '\\r',\n",
       " 'o! how thy worth with manners may i sing,\\r',\n",
       " 'when thou art all the better part of me?\\r',\n",
       " 'what can mine own praise to mine own self bring?\\r',\n",
       " 'and what is’t but mine own when i praise thee?\\r',\n",
       " 'even for this, let us divided live,\\r',\n",
       " 'and our dear love lose name of single one,\\r',\n",
       " 'that by this separation i may give\\r',\n",
       " 'that due to thee which thou deserv’st alone.\\r',\n",
       " 'o absence! what a torment wouldst thou prove,\\r',\n",
       " 'were it not thy sour leisure gave sweet leave,\\r',\n",
       " 'to entertain the time with thoughts of love,\\r',\n",
       " 'which time and thoughts so sweetly doth deceive,\\r',\n",
       " '    and that thou teachest how to make one twain,\\r',\n",
       " '    by praising him here who doth hence remain.\\r',\n",
       " '\\r',\n",
       " 'xl\\r',\n",
       " '\\r',\n",
       " 'take all my loves, my love, yea take them all;\\r',\n",
       " 'what hast thou then more than thou hadst before?\\r',\n",
       " 'no love, my love, that thou mayst true love call;\\r',\n",
       " 'all mine was thine, before thou hadst this more.\\r',\n",
       " 'then, if for my love, thou my love receivest,\\r',\n",
       " 'i cannot blame thee, for my love thou usest;\\r',\n",
       " 'but yet be blam’d, if thou thyself deceivest\\r',\n",
       " 'by wilful taste of what thyself refusest.\\r',\n",
       " 'i do forgive thy robbery, gentle thief,\\r',\n",
       " 'although thou steal thee all my poverty:\\r',\n",
       " 'and yet, love knows it is a greater grief\\r',\n",
       " 'to bear love’s wrong, than hate’s known injury.\\r',\n",
       " '    lascivious grace, in whom all ill well shows,\\r',\n",
       " '    kill me with spites yet we must not be foes.\\r',\n",
       " '\\r',\n",
       " 'xli\\r',\n",
       " '\\r',\n",
       " 'those pretty wrongs that liberty commits,\\r',\n",
       " 'when i am sometime absent from thy heart,\\r',\n",
       " 'thy beauty, and thy years full well befits,\\r',\n",
       " 'for still temptation follows where thou art.\\r',\n",
       " 'gentle thou art, and therefore to be won,\\r',\n",
       " 'beauteous thou art, therefore to be assail’d;\\r',\n",
       " 'and when a woman woos, what woman’s son\\r',\n",
       " 'will sourly leave her till he have prevail’d?\\r',\n",
       " 'ay me! but yet thou mightst my seat forbear,\\r',\n",
       " 'and chide thy beauty and thy straying youth,\\r',\n",
       " 'who lead thee in their riot even there\\r',\n",
       " 'where thou art forced to break a twofold truth:\\r',\n",
       " '    hers by thy beauty tempting her to thee,\\r',\n",
       " '    thine by thy beauty being false to me.\\r',\n",
       " '\\r',\n",
       " 'xlii\\r',\n",
       " '\\r',\n",
       " 'that thou hast her it is not all my grief,\\r',\n",
       " 'and yet it may be said i loved her dearly;\\r',\n",
       " 'that she hath thee is of my wailing chief,\\r',\n",
       " 'a loss in love that touches me more nearly.\\r',\n",
       " 'loving offenders thus i will excuse ye:\\r',\n",
       " 'thou dost love her, because thou know’st i love her;\\r',\n",
       " 'and for my sake even so doth she abuse me,\\r',\n",
       " 'suffering my friend for my sake to approve her.\\r',\n",
       " 'if i lose thee, my loss is my love’s gain,\\r',\n",
       " 'and losing her, my friend hath found that loss;\\r',\n",
       " 'both find each other, and i lose both twain,\\r',\n",
       " 'and both for my sake lay on me this cross:\\r',\n",
       " '    but here’s the joy; my friend and i are one;\\r',\n",
       " '    sweet flattery! then she loves but me alone.\\r',\n",
       " '\\r',\n",
       " 'xliii\\r',\n",
       " '\\r',\n",
       " 'when most i wink, then do mine eyes best see,\\r',\n",
       " 'for all the day they view things unrespected;\\r',\n",
       " 'but when i sleep, in dreams they look on thee,\\r',\n",
       " 'and darkly bright, are bright in dark directed.\\r',\n",
       " 'then thou, whose shadow shadows doth make bright,\\r',\n",
       " 'how would thy shadow’s form form happy show\\r',\n",
       " 'to the clear day with thy much clearer light,\\r',\n",
       " 'when to unseeing eyes thy shade shines so!\\r',\n",
       " 'how would, i say, mine eyes be blessed made\\r',\n",
       " 'by looking on thee in the living day,\\r',\n",
       " 'when in dead night thy fair imperfect shade\\r',\n",
       " 'through heavy sleep on sightless eyes doth stay!\\r',\n",
       " '    all days are nights to see till i see thee,\\r',\n",
       " '    and nights bright days when dreams do show thee me.\\r',\n",
       " '\\r',\n",
       " 'xliv\\r',\n",
       " '\\r',\n",
       " 'if the dull substance of my flesh were thought,\\r',\n",
       " 'injurious distance should not stop my way;\\r',\n",
       " 'for then despite of space i would be brought,\\r',\n",
       " 'from limits far remote, where thou dost stay.\\r',\n",
       " 'no matter then although my foot did stand\\r',\n",
       " 'upon the farthest earth remov’d from thee;\\r',\n",
       " 'for nimble thought can jump both sea and land,\\r',\n",
       " 'as soon as think the place where he would be.\\r',\n",
       " 'but, ah! thought kills me that i am not thought,\\r',\n",
       " 'to leap large lengths of miles when thou art gone,\\r',\n",
       " 'but that so much of earth and water wrought,\\r',\n",
       " 'i must attend time’s leisure with my moan;\\r',\n",
       " '    receiving nought by elements so slow\\r',\n",
       " '    but heavy tears, badges of either’s woe.\\r',\n",
       " '\\r',\n",
       " 'xlv\\r',\n",
       " '\\r',\n",
       " 'the other two, slight air, and purging fire\\r',\n",
       " 'are both with thee, wherever i abide;\\r',\n",
       " 'the first my thought, the other my desire,\\r',\n",
       " 'these present-absent with swift motion slide.\\r',\n",
       " 'for when these quicker elements are gone\\r',\n",
       " 'in tender embassy of love to thee,\\r',\n",
       " 'my life, being made of four, with two alone\\r',\n",
       " 'sinks down to death, oppress’d with melancholy;\\r',\n",
       " 'until life’s composition be recur’d\\r',\n",
       " 'by those swift messengers return’d from thee,\\r',\n",
       " 'who even but now come back again, assur’d,\\r',\n",
       " 'of thy fair health, recounting it to me:\\r',\n",
       " '    this told, i joy; but then no longer glad,\\r',\n",
       " '    i send them back again, and straight grow sad.\\r',\n",
       " '\\r',\n",
       " 'xlvi\\r',\n",
       " '\\r',\n",
       " 'mine eye and heart are at a mortal war,\\r',\n",
       " 'how to divide the conquest of thy sight;\\r',\n",
       " 'mine eye my heart thy picture’s sight would bar,\\r',\n",
       " 'my heart mine eye the freedom of that right.\\r',\n",
       " 'my heart doth plead that thou in him dost lie,\\r',\n",
       " 'a closet never pierced with crystal eyes;\\r',\n",
       " 'but the defendant doth that plea deny,\\r',\n",
       " 'and says in him thy fair appearance lies.\\r',\n",
       " 'to side this title is impannelled\\r',\n",
       " 'a quest of thoughts, all tenants to the heart;\\r',\n",
       " 'and by their verdict is determined\\r',\n",
       " 'the clear eye’s moiety, and the dear heart’s part:\\r',\n",
       " '    as thus; mine eye’s due is thy outward part,\\r',\n",
       " '    and my heart’s right, thy inward love of heart.\\r',\n",
       " '\\r',\n",
       " 'xlvii\\r',\n",
       " '\\r',\n",
       " 'betwixt mine eye and heart a league is took,\\r',\n",
       " 'and each doth good turns now unto the other:\\r',\n",
       " 'when that mine eye is famish’d for a look,\\r',\n",
       " 'or heart in love with sighs himself doth smother,\\r',\n",
       " 'with my love’s picture then my eye doth feast,\\r',\n",
       " 'and to the painted banquet bids my heart;\\r',\n",
       " 'another time mine eye is my heart’s guest,\\r',\n",
       " 'and in his thoughts of love doth share a part:\\r',\n",
       " 'so, either by thy picture or my love,\\r',\n",
       " 'thyself away, art present still with me;\\r',\n",
       " 'for thou not farther than my thoughts canst move,\\r',\n",
       " 'and i am still with them, and they with thee;\\r',\n",
       " '    or, if they sleep, thy picture in my sight\\r',\n",
       " '    awakes my heart, to heart’s and eye’s delight.\\r',\n",
       " '\\r',\n",
       " 'xlviii\\r',\n",
       " '\\r',\n",
       " 'how careful was i when i took my way,\\r',\n",
       " 'each trifle under truest bars to thrust,\\r',\n",
       " 'that to my use it might unused stay\\r',\n",
       " 'from hands of falsehood, in sure wards of trust!\\r',\n",
       " 'but thou, to whom my jewels trifles are,\\r',\n",
       " 'most worthy comfort, now my greatest grief,\\r',\n",
       " 'thou best of dearest, and mine only care,\\r',\n",
       " 'art left the prey of every vulgar thief.\\r',\n",
       " 'thee have i not lock’d up in any chest,\\r',\n",
       " 'save where thou art not, though i feel thou art,\\r',\n",
       " 'within the gentle closure of my breast,\\r',\n",
       " 'from whence at pleasure thou mayst come and part;\\r',\n",
       " '    and even thence thou wilt be stol’n i fear,\\r',\n",
       " '    for truth proves thievish for a prize so dear.\\r',\n",
       " '\\r',\n",
       " 'xlix\\r',\n",
       " '\\r',\n",
       " 'against that time, if ever that time come,\\r',\n",
       " 'when i shall see thee frown on my defects,\\r',\n",
       " 'when as thy love hath cast his utmost sum,\\r',\n",
       " 'call’d to that audit by advis’d respects;\\r',\n",
       " 'against that time when thou shalt strangely pass,\\r',\n",
       " 'and scarcely greet me with that sun, thine eye,\\r',\n",
       " 'when love, converted from the thing it was,\\r',\n",
       " 'shall reasons find of settled gravity;\\r',\n",
       " 'against that time do i ensconce me here,\\r',\n",
       " 'within the knowledge of mine own desert,\\r',\n",
       " 'and this my hand, against my self uprear,\\r',\n",
       " 'to guard the lawful reasons on thy part:\\r',\n",
       " '    to leave poor me thou hast the strength of laws,\\r',\n",
       " '    since why to love i can allege no cause.\\r',\n",
       " '\\r',\n",
       " 'l\\r',\n",
       " '\\r',\n",
       " 'how heavy do i journey on the way,\\r',\n",
       " 'when what i seek, my weary travel’s end,\\r',\n",
       " 'doth teach that ease and that repose to say,\\r',\n",
       " '‘thus far the miles are measured from thy friend!’\\r',\n",
       " 'the beast that bears me, tired with my woe,\\r',\n",
       " 'plods dully on, to bear that weight in me,\\r',\n",
       " 'as if by some instinct the wretch did know\\r',\n",
       " 'his rider lov’d not speed, being made from thee:\\r',\n",
       " 'the bloody spur cannot provoke him on,\\r',\n",
       " 'that sometimes anger thrusts into his hide,\\r',\n",
       " 'which heavily he answers with a groan,\\r',\n",
       " 'more sharp to me than spurring to his side;\\r',\n",
       " '    for that same groan doth put this in my mind,\\r',\n",
       " '    my grief lies onward, and my joy behind.\\r',\n",
       " '\\r',\n",
       " 'li\\r',\n",
       " '\\r',\n",
       " 'thus can my love excuse the slow offence\\r',\n",
       " 'of my dull bearer when from thee i speed:\\r',\n",
       " 'from where thou art why should i haste me thence?\\r',\n",
       " 'till i return, of posting is no need.\\r',\n",
       " 'o! what excuse will my poor beast then find,\\r',\n",
       " 'when swift extremity can seem but slow?\\r',\n",
       " 'then should i spur, though mounted on the wind,\\r',\n",
       " 'in winged speed no motion shall i know,\\r',\n",
       " 'then can no horse with my desire keep pace;\\r',\n",
       " 'therefore desire, of perfect’st love being made,\\r',\n",
       " 'shall neigh no dull flesh in his fiery race,\\r',\n",
       " 'but love, for love, thus shall excuse my jade:\\r',\n",
       " '    ‘since from thee going, he went wilful-slow,\\r',\n",
       " '    towards thee i’ll run, and give him leave to go.’\\r',\n",
       " '\\r',\n",
       " 'lii\\r',\n",
       " '\\r',\n",
       " 'so am i as the rich, whose blessed key,\\r',\n",
       " 'can bring him to his sweet up-locked treasure,\\r',\n",
       " 'the which he will not every hour survey,\\r',\n",
       " 'for blunting the fine point of seldom pleasure.\\r',\n",
       " 'therefore are feasts so solemn and so rare,\\r',\n",
       " 'since, seldom coming in that long year set,\\r',\n",
       " 'like stones of worth they thinly placed are,\\r',\n",
       " 'or captain jewels in the carcanet.\\r',\n",
       " 'so is the time that keeps you as my chest,\\r',\n",
       " 'or as the wardrobe which the robe doth hide,\\r',\n",
       " 'to make some special instant special-blest,\\r',\n",
       " 'by new unfolding his imprison’d pride.\\r',\n",
       " '    blessed are you whose worthiness gives scope,\\r',\n",
       " '    being had, to triumph; being lacked, to hope.\\r',\n",
       " '\\r',\n",
       " 'liii\\r',\n",
       " '\\r',\n",
       " 'what is your substance, whereof are you made,\\r',\n",
       " 'that millions of strange shadows on you tend?\\r',\n",
       " 'since every one, hath every one, one shade,\\r',\n",
       " 'and you but one, can every shadow lend.\\r',\n",
       " 'describe adonis, and the counterfeit\\r',\n",
       " 'is poorly imitated after you;\\r',\n",
       " 'on helen’s cheek all art of beauty set,\\r',\n",
       " 'and you in grecian tires are painted new:\\r',\n",
       " 'speak of the spring, and foison of the year,\\r',\n",
       " 'the one doth shadow of your beauty show,\\r',\n",
       " 'the other as your bounty doth appear;\\r',\n",
       " 'and you in every blessed shape we know.\\r',\n",
       " '    in all external grace you have some part,\\r',\n",
       " '    but you like none, none you, for constant heart.\\r',\n",
       " '\\r',\n",
       " 'liv\\r',\n",
       " '\\r',\n",
       " 'o! how much more doth beauty beauteous seem\\r',\n",
       " 'by that sweet ornament which truth doth give.\\r',\n",
       " 'the rose looks fair, but fairer we it deem\\r',\n",
       " 'for that sweet odour, which doth in it live.\\r',\n",
       " 'the canker blooms have full as deep a dye\\r',\n",
       " 'as the perfumed tincture of the roses.\\r',\n",
       " 'hang on such thorns, and play as wantonly\\r',\n",
       " 'when summer’s breath their masked buds discloses:\\r',\n",
       " 'but, for their virtue only is their show,\\r',\n",
       " 'they live unwoo’d, and unrespected fade;\\r',\n",
       " 'die to themselves. sweet roses do not so;\\r',\n",
       " 'of their sweet deaths, are sweetest odours made:\\r',\n",
       " '    and so of you, beauteous and lovely youth,\\r',\n",
       " '    when that shall vade, by verse distills your truth.\\r',\n",
       " '\\r',\n",
       " 'lv\\r',\n",
       " '\\r',\n",
       " 'not marble, nor the gilded monuments\\r',\n",
       " 'of princes, shall outlive this powerful rhyme;\\r',\n",
       " 'but you shall shine more bright in these contents\\r',\n",
       " 'than unswept stone, besmear’d with sluttish time.\\r',\n",
       " 'when wasteful war shall statues overturn,\\r',\n",
       " 'and broils root out the work of masonry,\\r',\n",
       " 'nor mars his sword, nor war’s quick fire shall burn\\r',\n",
       " 'the living record of your memory.\\r',\n",
       " '’gainst death, and all-oblivious enmity\\r',\n",
       " 'shall you pace forth; your praise shall still find room\\r',\n",
       " 'even in the eyes of all posterity\\r',\n",
       " 'that wear this world out to the ending doom.\\r',\n",
       " '    so, till the judgement that yourself arise,\\r',\n",
       " '    you live in this, and dwell in lovers’ eyes.\\r',\n",
       " '\\r',\n",
       " 'lvi\\r',\n",
       " '\\r',\n",
       " 'sweet love, renew thy force; be it not said\\r',\n",
       " 'thy edge should blunter be than appetite,\\r',\n",
       " 'which but to-day by feeding is allay’d,\\r',\n",
       " 'to-morrow sharpened in his former might:\\r',\n",
       " 'so, love, be thou, although to-day thou fill\\r',\n",
       " 'thy hungry eyes, even till they wink with fulness,\\r',\n",
       " 'to-morrow see again, and do not kill\\r',\n",
       " 'the spirit of love, with a perpetual dulness.\\r',\n",
       " 'let this sad interim like the ocean be\\r',\n",
       " 'which parts the shore, where two contracted new\\r',\n",
       " 'come daily to the banks, that when they see\\r',\n",
       " 'return of love, more blest may be the view;\\r',\n",
       " '    or call it winter, which being full of care,\\r',\n",
       " '    makes summer’s welcome, thrice more wished, more rare.\\r',\n",
       " '\\r',\n",
       " 'lvii\\r',\n",
       " '\\r',\n",
       " 'being your slave what should i do but tend,\\r',\n",
       " 'upon the hours, and times of your desire?\\r',\n",
       " 'i have no precious time at all to spend;\\r',\n",
       " 'nor services to do, till you require.\\r',\n",
       " 'nor dare i chide the world-without-end hour,\\r',\n",
       " 'whilst i, my sovereign, watch the clock for you,\\r',\n",
       " 'nor think the bitterness of absence sour,\\r',\n",
       " 'when you have bid your servant once adieu;\\r',\n",
       " 'nor dare i question with my jealous thought\\r',\n",
       " 'where you may be, or your affairs suppose,\\r',\n",
       " 'but, like a sad slave, stay and think of nought\\r',\n",
       " 'save, where you are, how happy you make those.\\r',\n",
       " '    so true a fool is love, that in your will,\\r',\n",
       " '    though you do anything, he thinks no ill.\\r',\n",
       " '\\r',\n",
       " 'lviii\\r',\n",
       " '\\r',\n",
       " 'that god forbid, that made me first your slave,\\r',\n",
       " 'i should in thought control your times of pleasure,\\r',\n",
       " 'or at your hand the account of hours to crave,\\r',\n",
       " 'being your vassal, bound to stay your leisure!\\r',\n",
       " 'o! let me suffer, being at your beck,\\r',\n",
       " 'the imprison’d absence of your liberty;\\r',\n",
       " 'and patience, tame to sufferance, bide each check,\\r',\n",
       " 'without accusing you of injury.\\r',\n",
       " 'be where you list, your charter is so strong\\r',\n",
       " 'that you yourself may privilage your time\\r',\n",
       " 'to what you will; to you it doth belong\\r',\n",
       " 'yourself to pardon of self-doing crime.\\r',\n",
       " '    i am to wait, though waiting so be hell,\\r',\n",
       " '    not blame your pleasure be it ill or well.\\r',\n",
       " '\\r',\n",
       " 'lix\\r',\n",
       " '\\r',\n",
       " 'if there be nothing new, but that which is\\r',\n",
       " 'hath been before, how are our brains beguil’d,\\r',\n",
       " 'which labouring for invention bear amiss\\r',\n",
       " ...]"
      ]
     },
     "execution_count": 4,
     "metadata": {},
     "output_type": "execute_result"
    }
   ],
   "source": [
    "corpus"
   ]
  },
  {
   "cell_type": "code",
   "execution_count": 5,
   "metadata": {},
   "outputs": [
    {
     "data": {
      "text/plain": [
       "2627"
      ]
     },
     "execution_count": 5,
     "metadata": {},
     "output_type": "execute_result"
    }
   ],
   "source": [
    "len(corpus)"
   ]
  },
  {
   "cell_type": "code",
   "execution_count": 6,
   "metadata": {
    "id": "w9vH8Y59ajYL"
   },
   "outputs": [
    {
     "name": "stderr",
     "output_type": "stream",
     "text": [
      "WARNING:absl:At this time, the v2.11+ optimizer `tf.keras.optimizers.Adam` runs slowly on M1/M2 Macs, please use the legacy Keras optimizer instead, located at `tf.keras.optimizers.legacy.Adam`.\n"
     ]
    },
    {
     "name": "stdout",
     "output_type": "stream",
     "text": [
      "Model: \"sequential\"\n",
      "_________________________________________________________________\n",
      " Layer (type)                Output Shape              Param #   \n",
      "=================================================================\n",
      " embedding (Embedding)       (None, 11, 500)           1790000   \n",
      "                                                                 \n",
      " lstm (LSTM)                 (None, 11, 100)           240400    \n",
      "                                                                 \n",
      " dropout (Dropout)           (None, 11, 100)           0         \n",
      "                                                                 \n",
      " lstm_1 (LSTM)               (None, 100)               80400     \n",
      "                                                                 \n",
      " dense (Dense)               (None, 100)               10100     \n",
      "                                                                 \n",
      " dense_1 (Dense)             (None, 3580)              361580    \n",
      "                                                                 \n",
      "=================================================================\n",
      "Total params: 2482480 (9.47 MB)\n",
      "Trainable params: 2482480 (9.47 MB)\n",
      "Non-trainable params: 0 (0.00 Byte)\n",
      "_________________________________________________________________\n",
      "None\n"
     ]
    }
   ],
   "source": [
    "from tensorflow.keras import regularizers\n",
    "max_features = total_words\n",
    "max_length = max_sequence_len - 1\n",
    "\n",
    "\n",
    "model = Sequential()\n",
    "model.add(Embedding(input_dim=total_words, output_dim=500, input_length=max_length))\n",
    "model.add(LSTM(100, return_sequences=True))\n",
    "model.add(Dropout(0.1))\n",
    "model.add(LSTM(100))\n",
    "model.add(Dense(100, activation='relu',\n",
    "            kernel_regularizer=regularizers.l2(0.01)))\n",
    "model.add(Dense(max_features, activation='softmax'))\n",
    "# Pick an optimizer\n",
    "optimizer = Adam(learning_rate=0.001)\n",
    "model.compile(loss='categorical_crossentropy', optimizer=optimizer, metrics=['accuracy'])\n",
    "model.build(input_shape=(None, max_length)) # Build the model with an appropriate input shape\n",
    "print(model.summary())\n"
   ]
  },
  {
   "cell_type": "code",
   "execution_count": 7,
   "metadata": {
    "id": "AIg2f1HBxqof"
   },
   "outputs": [
    {
     "name": "stdout",
     "output_type": "stream",
     "text": [
      "Epoch 1/200\n",
      "542/542 [==============================] - 8s 13ms/step - loss: 6.7267 - accuracy: 0.1056\n",
      "Epoch 2/200\n",
      "542/542 [==============================] - 8s 14ms/step - loss: 6.1098 - accuracy: 0.1061\n",
      "Epoch 3/200\n",
      "542/542 [==============================] - 7s 14ms/step - loss: 5.9104 - accuracy: 0.1171\n",
      "Epoch 4/200\n",
      "542/542 [==============================] - 8s 14ms/step - loss: 5.7712 - accuracy: 0.1273\n",
      "Epoch 5/200\n",
      "542/542 [==============================] - 8s 14ms/step - loss: 5.6730 - accuracy: 0.1329\n",
      "Epoch 6/200\n",
      "542/542 [==============================] - 8s 14ms/step - loss: 5.5783 - accuracy: 0.1391\n",
      "Epoch 7/200\n",
      "542/542 [==============================] - 8s 14ms/step - loss: 5.4771 - accuracy: 0.1432\n",
      "Epoch 8/200\n",
      "542/542 [==============================] - 8s 14ms/step - loss: 5.3856 - accuracy: 0.1476\n",
      "Epoch 9/200\n",
      "542/542 [==============================] - 8s 14ms/step - loss: 5.3039 - accuracy: 0.1514\n",
      "Epoch 10/200\n",
      "542/542 [==============================] - 8s 15ms/step - loss: 5.2233 - accuracy: 0.1558\n",
      "Epoch 11/200\n",
      "542/542 [==============================] - 9s 16ms/step - loss: 5.1492 - accuracy: 0.1595\n",
      "Epoch 12/200\n",
      "542/542 [==============================] - 9s 17ms/step - loss: 5.0819 - accuracy: 0.1630\n",
      "Epoch 13/200\n",
      "542/542 [==============================] - 10s 19ms/step - loss: 5.0186 - accuracy: 0.1685\n",
      "Epoch 14/200\n",
      "542/542 [==============================] - 11s 21ms/step - loss: 4.9606 - accuracy: 0.1728\n",
      "Epoch 15/200\n",
      "542/542 [==============================] - 15s 28ms/step - loss: 4.9046 - accuracy: 0.1735\n",
      "Epoch 16/200\n",
      "542/542 [==============================] - 14s 26ms/step - loss: 4.8437 - accuracy: 0.1796\n",
      "Epoch 17/200\n",
      "542/542 [==============================] - 15s 27ms/step - loss: 4.7888 - accuracy: 0.1821\n",
      "Epoch 18/200\n",
      "542/542 [==============================] - 13s 25ms/step - loss: 4.7367 - accuracy: 0.1878\n",
      "Epoch 19/200\n",
      "542/542 [==============================] - 13s 24ms/step - loss: 4.6780 - accuracy: 0.1935\n",
      "Epoch 20/200\n",
      "542/542 [==============================] - 12s 22ms/step - loss: 4.6227 - accuracy: 0.1976\n",
      "Epoch 21/200\n",
      "542/542 [==============================] - 11s 21ms/step - loss: 4.5673 - accuracy: 0.2052\n",
      "Epoch 22/200\n",
      "542/542 [==============================] - 11s 20ms/step - loss: 4.5108 - accuracy: 0.2060\n",
      "Epoch 23/200\n",
      "542/542 [==============================] - 11s 20ms/step - loss: 4.4580 - accuracy: 0.2122\n",
      "Epoch 24/200\n",
      "542/542 [==============================] - 11s 21ms/step - loss: 4.3954 - accuracy: 0.2186\n",
      "Epoch 25/200\n",
      "542/542 [==============================] - 11s 21ms/step - loss: 4.3441 - accuracy: 0.2263\n",
      "Epoch 26/200\n",
      "542/542 [==============================] - 11s 21ms/step - loss: 4.2892 - accuracy: 0.2321\n",
      "Epoch 27/200\n",
      "542/542 [==============================] - 11s 21ms/step - loss: 4.2355 - accuracy: 0.2376\n",
      "Epoch 28/200\n",
      "542/542 [==============================] - 11s 21ms/step - loss: 4.1788 - accuracy: 0.2422\n",
      "Epoch 29/200\n",
      "542/542 [==============================] - 11s 20ms/step - loss: 4.1248 - accuracy: 0.2457\n",
      "Epoch 30/200\n",
      "542/542 [==============================] - 11s 20ms/step - loss: 4.0775 - accuracy: 0.2549\n",
      "Epoch 31/200\n",
      "542/542 [==============================] - 11s 21ms/step - loss: 4.0250 - accuracy: 0.2591\n",
      "Epoch 32/200\n",
      "542/542 [==============================] - 11s 21ms/step - loss: 3.9750 - accuracy: 0.2641\n",
      "Epoch 33/200\n",
      "542/542 [==============================] - 12s 21ms/step - loss: 3.9259 - accuracy: 0.2715\n",
      "Epoch 34/200\n",
      "542/542 [==============================] - 12s 21ms/step - loss: 3.8787 - accuracy: 0.2771\n",
      "Epoch 35/200\n",
      "542/542 [==============================] - 12s 22ms/step - loss: 3.8311 - accuracy: 0.2810\n",
      "Epoch 36/200\n",
      "542/542 [==============================] - 13s 23ms/step - loss: 3.7764 - accuracy: 0.2858\n",
      "Epoch 37/200\n",
      "542/542 [==============================] - 13s 23ms/step - loss: 3.7342 - accuracy: 0.2939\n",
      "Epoch 38/200\n",
      "542/542 [==============================] - 11s 21ms/step - loss: 3.6858 - accuracy: 0.2995\n",
      "Epoch 39/200\n",
      "542/542 [==============================] - 12s 23ms/step - loss: 3.6486 - accuracy: 0.3054\n",
      "Epoch 40/200\n",
      "542/542 [==============================] - 11s 21ms/step - loss: 3.6098 - accuracy: 0.3097\n",
      "Epoch 41/200\n",
      "542/542 [==============================] - 12s 21ms/step - loss: 3.5617 - accuracy: 0.3165\n",
      "Epoch 42/200\n",
      "542/542 [==============================] - 11s 21ms/step - loss: 3.5222 - accuracy: 0.3198\n",
      "Epoch 43/200\n",
      "542/542 [==============================] - 11s 21ms/step - loss: 3.4801 - accuracy: 0.3287\n",
      "Epoch 44/200\n",
      "542/542 [==============================] - 11s 21ms/step - loss: 3.4453 - accuracy: 0.3333\n",
      "Epoch 45/200\n",
      "542/542 [==============================] - 11s 21ms/step - loss: 3.4062 - accuracy: 0.3378\n",
      "Epoch 46/200\n",
      "542/542 [==============================] - 12s 21ms/step - loss: 3.3619 - accuracy: 0.3463\n",
      "Epoch 47/200\n",
      "542/542 [==============================] - 12s 23ms/step - loss: 3.3367 - accuracy: 0.3526\n",
      "Epoch 48/200\n",
      "542/542 [==============================] - 12s 21ms/step - loss: 3.3000 - accuracy: 0.3571\n",
      "Epoch 49/200\n",
      "542/542 [==============================] - 12s 23ms/step - loss: 3.2631 - accuracy: 0.3619\n",
      "Epoch 50/200\n",
      "542/542 [==============================] - 12s 22ms/step - loss: 3.2254 - accuracy: 0.3671\n",
      "Epoch 51/200\n",
      "542/542 [==============================] - 12s 22ms/step - loss: 3.1921 - accuracy: 0.3726\n",
      "Epoch 52/200\n",
      "542/542 [==============================] - 12s 22ms/step - loss: 3.1630 - accuracy: 0.3795\n",
      "Epoch 53/200\n",
      "542/542 [==============================] - 13s 25ms/step - loss: 3.1291 - accuracy: 0.3861\n",
      "Epoch 54/200\n",
      "542/542 [==============================] - 13s 24ms/step - loss: 3.0950 - accuracy: 0.3937\n",
      "Epoch 55/200\n",
      "542/542 [==============================] - 13s 23ms/step - loss: 3.0639 - accuracy: 0.3985\n",
      "Epoch 56/200\n",
      "542/542 [==============================] - 12s 22ms/step - loss: 3.0364 - accuracy: 0.4015\n",
      "Epoch 57/200\n",
      "542/542 [==============================] - 12s 22ms/step - loss: 3.0105 - accuracy: 0.4088\n",
      "Epoch 58/200\n",
      "542/542 [==============================] - 12s 22ms/step - loss: 2.9768 - accuracy: 0.4145\n",
      "Epoch 59/200\n",
      "542/542 [==============================] - 12s 22ms/step - loss: 2.9423 - accuracy: 0.4183\n",
      "Epoch 60/200\n",
      "542/542 [==============================] - 12s 23ms/step - loss: 2.9180 - accuracy: 0.4264\n",
      "Epoch 61/200\n",
      "542/542 [==============================] - 14s 25ms/step - loss: 2.8932 - accuracy: 0.4307\n",
      "Epoch 62/200\n",
      "542/542 [==============================] - 12s 23ms/step - loss: 2.8585 - accuracy: 0.4382\n",
      "Epoch 63/200\n",
      "542/542 [==============================] - 12s 22ms/step - loss: 2.8336 - accuracy: 0.4468\n",
      "Epoch 64/200\n",
      "542/542 [==============================] - 12s 23ms/step - loss: 2.8105 - accuracy: 0.4479\n",
      "Epoch 65/200\n",
      "542/542 [==============================] - 12s 23ms/step - loss: 2.7839 - accuracy: 0.4534\n",
      "Epoch 66/200\n",
      "542/542 [==============================] - 13s 24ms/step - loss: 2.7553 - accuracy: 0.4623\n",
      "Epoch 67/200\n",
      "542/542 [==============================] - 12s 22ms/step - loss: 2.7236 - accuracy: 0.4668\n",
      "Epoch 68/200\n",
      "542/542 [==============================] - 12s 23ms/step - loss: 2.7019 - accuracy: 0.4697\n",
      "Epoch 69/200\n",
      "542/542 [==============================] - 12s 22ms/step - loss: 2.6712 - accuracy: 0.4796\n",
      "Epoch 70/200\n",
      "542/542 [==============================] - 12s 22ms/step - loss: 2.6565 - accuracy: 0.4803\n",
      "Epoch 71/200\n",
      "542/542 [==============================] - 14s 25ms/step - loss: 2.6387 - accuracy: 0.4872\n",
      "Epoch 72/200\n",
      "542/542 [==============================] - 12s 22ms/step - loss: 2.6000 - accuracy: 0.4926\n",
      "Epoch 73/200\n",
      "542/542 [==============================] - 12s 23ms/step - loss: 2.5844 - accuracy: 0.4971\n",
      "Epoch 74/200\n",
      "542/542 [==============================] - 12s 23ms/step - loss: 2.5595 - accuracy: 0.5031\n",
      "Epoch 75/200\n",
      "542/542 [==============================] - 13s 24ms/step - loss: 2.5304 - accuracy: 0.5080\n",
      "Epoch 76/200\n",
      "542/542 [==============================] - 13s 24ms/step - loss: 2.5069 - accuracy: 0.5151\n",
      "Epoch 77/200\n",
      "542/542 [==============================] - 13s 24ms/step - loss: 2.4901 - accuracy: 0.5189\n",
      "Epoch 78/200\n",
      "542/542 [==============================] - 15s 27ms/step - loss: 2.4715 - accuracy: 0.5251\n",
      "Epoch 79/200\n",
      "542/542 [==============================] - 13s 25ms/step - loss: 2.4438 - accuracy: 0.5292\n",
      "Epoch 80/200\n",
      "542/542 [==============================] - 12s 22ms/step - loss: 2.4249 - accuracy: 0.5342\n",
      "Epoch 81/200\n",
      "542/542 [==============================] - 12s 23ms/step - loss: 2.4130 - accuracy: 0.5375\n",
      "Epoch 82/200\n",
      "542/542 [==============================] - 13s 24ms/step - loss: 2.3830 - accuracy: 0.5422\n",
      "Epoch 83/200\n",
      "542/542 [==============================] - 12s 23ms/step - loss: 2.3636 - accuracy: 0.5464\n",
      "Epoch 84/200\n",
      "542/542 [==============================] - 14s 26ms/step - loss: 2.3489 - accuracy: 0.5516\n",
      "Epoch 85/200\n",
      "542/542 [==============================] - 13s 24ms/step - loss: 2.3313 - accuracy: 0.5532\n",
      "Epoch 86/200\n",
      "542/542 [==============================] - 12s 23ms/step - loss: 2.3069 - accuracy: 0.5583\n",
      "Epoch 87/200\n",
      "542/542 [==============================] - 13s 24ms/step - loss: 2.2848 - accuracy: 0.5608\n",
      "Epoch 88/200\n",
      "542/542 [==============================] - 13s 23ms/step - loss: 2.2638 - accuracy: 0.5686\n",
      "Epoch 89/200\n",
      "542/542 [==============================] - 12s 23ms/step - loss: 2.2537 - accuracy: 0.5740\n",
      "Epoch 90/200\n",
      "542/542 [==============================] - 13s 24ms/step - loss: 2.2439 - accuracy: 0.5739\n",
      "Epoch 91/200\n",
      "542/542 [==============================] - 12s 23ms/step - loss: 2.2178 - accuracy: 0.5767\n",
      "Epoch 92/200\n",
      "542/542 [==============================] - 12s 23ms/step - loss: 2.2042 - accuracy: 0.5820\n",
      "Epoch 93/200\n",
      "542/542 [==============================] - 12s 23ms/step - loss: 2.1811 - accuracy: 0.5838\n",
      "Epoch 94/200\n",
      "542/542 [==============================] - 13s 23ms/step - loss: 2.1673 - accuracy: 0.5916\n",
      "Epoch 95/200\n",
      "542/542 [==============================] - 13s 24ms/step - loss: 2.1479 - accuracy: 0.5945\n",
      "Epoch 96/200\n",
      "542/542 [==============================] - 14s 26ms/step - loss: 2.1375 - accuracy: 0.5972\n",
      "Epoch 97/200\n",
      "542/542 [==============================] - 13s 23ms/step - loss: 2.1158 - accuracy: 0.6044\n",
      "Epoch 98/200\n",
      "542/542 [==============================] - 13s 24ms/step - loss: 2.0995 - accuracy: 0.6051\n",
      "Epoch 99/200\n",
      "542/542 [==============================] - 13s 24ms/step - loss: 2.0819 - accuracy: 0.6080\n",
      "Epoch 100/200\n",
      "542/542 [==============================] - 14s 25ms/step - loss: 2.0683 - accuracy: 0.6112\n",
      "Epoch 101/200\n",
      "542/542 [==============================] - 14s 25ms/step - loss: 2.0554 - accuracy: 0.6150\n",
      "Epoch 102/200\n",
      "542/542 [==============================] - 13s 23ms/step - loss: 2.0372 - accuracy: 0.6197\n",
      "Epoch 103/200\n",
      "542/542 [==============================] - 13s 24ms/step - loss: 2.0311 - accuracy: 0.6209\n",
      "Epoch 104/200\n",
      "542/542 [==============================] - 12s 23ms/step - loss: 2.0184 - accuracy: 0.6211\n",
      "Epoch 105/200\n",
      "542/542 [==============================] - 13s 23ms/step - loss: 2.0034 - accuracy: 0.6271\n",
      "Epoch 106/200\n",
      "542/542 [==============================] - 12s 22ms/step - loss: 1.9843 - accuracy: 0.6306\n",
      "Epoch 107/200\n",
      "542/542 [==============================] - 13s 24ms/step - loss: 1.9783 - accuracy: 0.6312\n",
      "Epoch 108/200\n",
      "542/542 [==============================] - 12s 22ms/step - loss: 1.9567 - accuracy: 0.6368\n",
      "Epoch 109/200\n",
      "542/542 [==============================] - 12s 22ms/step - loss: 1.9366 - accuracy: 0.6431\n",
      "Epoch 110/200\n",
      "542/542 [==============================] - 13s 23ms/step - loss: 1.9299 - accuracy: 0.6432\n",
      "Epoch 111/200\n",
      "542/542 [==============================] - 12s 22ms/step - loss: 1.9166 - accuracy: 0.6466\n",
      "Epoch 112/200\n",
      "542/542 [==============================] - 12s 23ms/step - loss: 1.9073 - accuracy: 0.6476\n",
      "Epoch 113/200\n",
      "542/542 [==============================] - 13s 23ms/step - loss: 1.8843 - accuracy: 0.6518\n",
      "Epoch 114/200\n",
      "542/542 [==============================] - 12s 23ms/step - loss: 1.8804 - accuracy: 0.6552\n",
      "Epoch 115/200\n",
      "542/542 [==============================] - 12s 22ms/step - loss: 1.8538 - accuracy: 0.6594\n",
      "Epoch 116/200\n",
      "542/542 [==============================] - 12s 23ms/step - loss: 1.8577 - accuracy: 0.6585\n",
      "Epoch 117/200\n",
      "542/542 [==============================] - 14s 25ms/step - loss: 1.8470 - accuracy: 0.6574\n",
      "Epoch 118/200\n",
      "542/542 [==============================] - 13s 24ms/step - loss: 1.8393 - accuracy: 0.6593\n",
      "Epoch 119/200\n",
      "542/542 [==============================] - 12s 23ms/step - loss: 1.8226 - accuracy: 0.6630\n",
      "Epoch 120/200\n",
      "542/542 [==============================] - 13s 23ms/step - loss: 1.8113 - accuracy: 0.6663\n",
      "Epoch 121/200\n",
      "542/542 [==============================] - 12s 22ms/step - loss: 1.7973 - accuracy: 0.6687\n",
      "Epoch 122/200\n",
      "542/542 [==============================] - 12s 22ms/step - loss: 1.7794 - accuracy: 0.6752\n",
      "Epoch 123/200\n",
      "542/542 [==============================] - 12s 23ms/step - loss: 1.7697 - accuracy: 0.6772\n",
      "Epoch 124/200\n",
      "542/542 [==============================] - 12s 23ms/step - loss: 1.7733 - accuracy: 0.6714\n",
      "Epoch 125/200\n",
      "542/542 [==============================] - 12s 23ms/step - loss: 1.7542 - accuracy: 0.6784\n",
      "Epoch 126/200\n",
      "542/542 [==============================] - 12s 23ms/step - loss: 1.7419 - accuracy: 0.6796\n",
      "Epoch 127/200\n",
      "542/542 [==============================] - 12s 22ms/step - loss: 1.7240 - accuracy: 0.6851\n",
      "Epoch 128/200\n",
      "542/542 [==============================] - 12s 23ms/step - loss: 1.7143 - accuracy: 0.6877\n",
      "Epoch 129/200\n",
      "542/542 [==============================] - 12s 23ms/step - loss: 1.7045 - accuracy: 0.6896\n",
      "Epoch 130/200\n",
      "542/542 [==============================] - 13s 23ms/step - loss: 1.6998 - accuracy: 0.6878\n",
      "Epoch 131/200\n",
      "542/542 [==============================] - 12s 23ms/step - loss: 1.6898 - accuracy: 0.6905\n",
      "Epoch 132/200\n",
      "542/542 [==============================] - 12s 22ms/step - loss: 1.6836 - accuracy: 0.6905\n",
      "Epoch 133/200\n",
      "542/542 [==============================] - 12s 23ms/step - loss: 1.6763 - accuracy: 0.6947\n",
      "Epoch 134/200\n",
      "542/542 [==============================] - 14s 26ms/step - loss: 1.6596 - accuracy: 0.6979\n",
      "Epoch 135/200\n",
      "542/542 [==============================] - 13s 24ms/step - loss: 1.6510 - accuracy: 0.6984\n",
      "Epoch 136/200\n",
      "542/542 [==============================] - 12s 23ms/step - loss: 1.6451 - accuracy: 0.7010\n",
      "Epoch 137/200\n",
      "542/542 [==============================] - 12s 23ms/step - loss: 1.6345 - accuracy: 0.7035\n",
      "Epoch 138/200\n",
      "542/542 [==============================] - 13s 23ms/step - loss: 1.6302 - accuracy: 0.7063\n",
      "Epoch 139/200\n",
      "542/542 [==============================] - 13s 23ms/step - loss: 1.6176 - accuracy: 0.7058\n",
      "Epoch 140/200\n",
      "542/542 [==============================] - 12s 23ms/step - loss: 1.6086 - accuracy: 0.7059\n",
      "Epoch 141/200\n",
      "542/542 [==============================] - 13s 23ms/step - loss: 1.5960 - accuracy: 0.7097\n",
      "Epoch 142/200\n",
      "542/542 [==============================] - 12s 23ms/step - loss: 1.6010 - accuracy: 0.7068\n",
      "Epoch 143/200\n",
      "542/542 [==============================] - 13s 24ms/step - loss: 1.5980 - accuracy: 0.7089\n",
      "Epoch 144/200\n",
      "542/542 [==============================] - 15s 28ms/step - loss: 1.5687 - accuracy: 0.7189\n",
      "Epoch 145/200\n",
      "542/542 [==============================] - 13s 24ms/step - loss: 1.5660 - accuracy: 0.7156\n",
      "Epoch 146/200\n",
      "542/542 [==============================] - 14s 25ms/step - loss: 1.5673 - accuracy: 0.7167\n",
      "Epoch 147/200\n",
      "542/542 [==============================] - 13s 24ms/step - loss: 1.5500 - accuracy: 0.7162\n",
      "Epoch 148/200\n",
      "542/542 [==============================] - 13s 24ms/step - loss: 1.5490 - accuracy: 0.7158\n",
      "Epoch 149/200\n",
      "542/542 [==============================] - 12s 23ms/step - loss: 1.5365 - accuracy: 0.7213\n",
      "Epoch 150/200\n",
      "542/542 [==============================] - 12s 23ms/step - loss: 1.5279 - accuracy: 0.7220\n",
      "Epoch 151/200\n",
      "542/542 [==============================] - 13s 24ms/step - loss: 1.5327 - accuracy: 0.7179\n",
      "Epoch 152/200\n",
      "542/542 [==============================] - 13s 24ms/step - loss: 1.5126 - accuracy: 0.7262\n",
      "Epoch 153/200\n",
      "542/542 [==============================] - 12s 23ms/step - loss: 1.5127 - accuracy: 0.7230\n",
      "Epoch 154/200\n",
      "542/542 [==============================] - 12s 22ms/step - loss: 1.4913 - accuracy: 0.7296\n",
      "Epoch 155/200\n",
      "542/542 [==============================] - 13s 23ms/step - loss: 1.4981 - accuracy: 0.7270\n",
      "Epoch 156/200\n",
      "542/542 [==============================] - 12s 23ms/step - loss: 1.4898 - accuracy: 0.7280\n",
      "Epoch 157/200\n",
      "542/542 [==============================] - 13s 24ms/step - loss: 1.4818 - accuracy: 0.7290\n",
      "Epoch 158/200\n",
      "542/542 [==============================] - 12s 23ms/step - loss: 1.4668 - accuracy: 0.7331\n",
      "Epoch 159/200\n",
      "542/542 [==============================] - 12s 22ms/step - loss: 1.4690 - accuracy: 0.7319\n",
      "Epoch 160/200\n",
      "542/542 [==============================] - 12s 22ms/step - loss: 1.4614 - accuracy: 0.7344\n",
      "Epoch 161/200\n",
      "542/542 [==============================] - 13s 24ms/step - loss: 1.4586 - accuracy: 0.7364\n",
      "Epoch 162/200\n",
      "542/542 [==============================] - 12s 23ms/step - loss: 1.4533 - accuracy: 0.7333\n",
      "Epoch 163/200\n",
      "542/542 [==============================] - 12s 23ms/step - loss: 1.4638 - accuracy: 0.7283\n",
      "Epoch 164/200\n",
      "542/542 [==============================] - 12s 23ms/step - loss: 1.4376 - accuracy: 0.7354\n",
      "Epoch 165/200\n",
      "542/542 [==============================] - 14s 25ms/step - loss: 1.4348 - accuracy: 0.7378\n",
      "Epoch 166/200\n",
      "542/542 [==============================] - 12s 23ms/step - loss: 1.4241 - accuracy: 0.7408\n",
      "Epoch 167/200\n",
      "542/542 [==============================] - 12s 22ms/step - loss: 1.4283 - accuracy: 0.7394\n",
      "Epoch 168/200\n",
      "542/542 [==============================] - 12s 22ms/step - loss: 1.4145 - accuracy: 0.7431\n",
      "Epoch 169/200\n",
      "542/542 [==============================] - 14s 26ms/step - loss: 1.3970 - accuracy: 0.7478\n",
      "Epoch 170/200\n",
      "542/542 [==============================] - 14s 27ms/step - loss: 1.3908 - accuracy: 0.7466\n",
      "Epoch 171/200\n",
      "542/542 [==============================] - 15s 28ms/step - loss: 1.3957 - accuracy: 0.7495\n",
      "Epoch 172/200\n",
      "542/542 [==============================] - 13s 23ms/step - loss: 1.4024 - accuracy: 0.7442\n",
      "Epoch 173/200\n",
      "542/542 [==============================] - 12s 21ms/step - loss: 1.3929 - accuracy: 0.7446\n",
      "Epoch 174/200\n",
      "542/542 [==============================] - 12s 22ms/step - loss: 1.3787 - accuracy: 0.7522\n",
      "Epoch 175/200\n",
      "542/542 [==============================] - 12s 21ms/step - loss: 1.3614 - accuracy: 0.7527\n",
      "Epoch 176/200\n",
      "542/542 [==============================] - 12s 22ms/step - loss: 1.3570 - accuracy: 0.7550\n",
      "Epoch 177/200\n",
      "542/542 [==============================] - 12s 22ms/step - loss: 1.3590 - accuracy: 0.7545\n",
      "Epoch 178/200\n",
      "542/542 [==============================] - 12s 22ms/step - loss: 1.3743 - accuracy: 0.7491\n",
      "Epoch 179/200\n",
      "542/542 [==============================] - 12s 22ms/step - loss: 1.3551 - accuracy: 0.7524\n",
      "Epoch 180/200\n",
      "542/542 [==============================] - 12s 22ms/step - loss: 1.3568 - accuracy: 0.7517\n",
      "Epoch 181/200\n",
      "542/542 [==============================] - 12s 22ms/step - loss: 1.3405 - accuracy: 0.7549\n",
      "Epoch 182/200\n",
      "542/542 [==============================] - 11s 21ms/step - loss: 1.3367 - accuracy: 0.7576\n",
      "Epoch 183/200\n",
      "542/542 [==============================] - 11s 21ms/step - loss: 1.3349 - accuracy: 0.7567\n",
      "Epoch 184/200\n",
      "542/542 [==============================] - 11s 21ms/step - loss: 1.3291 - accuracy: 0.7547\n",
      "Epoch 185/200\n",
      "542/542 [==============================] - 11s 21ms/step - loss: 1.3258 - accuracy: 0.7565\n",
      "Epoch 186/200\n",
      "542/542 [==============================] - 12s 22ms/step - loss: 1.3125 - accuracy: 0.7615\n",
      "Epoch 187/200\n",
      "542/542 [==============================] - 12s 22ms/step - loss: 1.3133 - accuracy: 0.7603\n",
      "Epoch 188/200\n",
      "542/542 [==============================] - 15s 27ms/step - loss: 1.3095 - accuracy: 0.7614\n",
      "Epoch 189/200\n",
      "542/542 [==============================] - 12s 22ms/step - loss: 1.3020 - accuracy: 0.7616\n",
      "Epoch 190/200\n",
      "542/542 [==============================] - 11s 21ms/step - loss: 1.2999 - accuracy: 0.7606\n",
      "Epoch 191/200\n",
      "542/542 [==============================] - 11s 20ms/step - loss: 1.2908 - accuracy: 0.7610\n",
      "Epoch 192/200\n",
      "542/542 [==============================] - 12s 21ms/step - loss: 1.2991 - accuracy: 0.7606\n",
      "Epoch 193/200\n",
      "542/542 [==============================] - 11s 21ms/step - loss: 1.2778 - accuracy: 0.7660\n",
      "Epoch 194/200\n",
      "542/542 [==============================] - 11s 21ms/step - loss: 1.2778 - accuracy: 0.7629\n",
      "Epoch 195/200\n",
      "542/542 [==============================] - 12s 23ms/step - loss: 1.2749 - accuracy: 0.7673\n",
      "Epoch 196/200\n",
      "542/542 [==============================] - 13s 24ms/step - loss: 1.2843 - accuracy: 0.7650\n",
      "Epoch 197/200\n",
      "542/542 [==============================] - 14s 25ms/step - loss: 1.2758 - accuracy: 0.7676\n",
      "Epoch 198/200\n",
      "542/542 [==============================] - 13s 24ms/step - loss: 1.2662 - accuracy: 0.7674\n",
      "Epoch 199/200\n",
      "542/542 [==============================] - 13s 25ms/step - loss: 1.2603 - accuracy: 0.7695\n",
      "Epoch 200/200\n",
      "542/542 [==============================] - 12s 23ms/step - loss: 1.2582 - accuracy: 0.7673\n"
     ]
    }
   ],
   "source": [
    "history = model.fit(predictors, label, epochs=200, verbose=1)"
   ]
  },
  {
   "cell_type": "code",
   "execution_count": 8,
   "metadata": {
    "id": "1fXTEO3GJ282"
   },
   "outputs": [
    {
     "data": {
      "image/png": "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",
      "text/plain": [
       "<Figure size 640x480 with 1 Axes>"
      ]
     },
     "metadata": {},
     "output_type": "display_data"
    },
    {
     "data": {
      "image/png": "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",
      "text/plain": [
       "<Figure size 640x480 with 1 Axes>"
      ]
     },
     "metadata": {},
     "output_type": "display_data"
    }
   ],
   "source": [
    "import matplotlib.pyplot as plt\n",
    "acc = history.history['accuracy']\n",
    "loss = history.history['loss']\n",
    "\n",
    "epochs = range(len(acc))\n",
    "\n",
    "plt.plot(epochs, acc, 'b', label='Training accuracy')\n",
    "plt.title('Training accuracy')\n",
    "\n",
    "plt.figure()\n",
    "\n",
    "plt.plot(epochs, loss, 'b', label='Training Loss')\n",
    "plt.title('Training loss')\n",
    "plt.legend()\n",
    "\n",
    "plt.show()"
   ]
  },
  {
   "cell_type": "code",
   "execution_count": 20,
   "metadata": {},
   "outputs": [
    {
     "data": {
      "text/plain": [
       "[\"Help me Obi Wan Kenobi, you're my only hope an eye behind   \",\n",
       " ' their review wake dead maketh bright young young      ',\n",
       " ' use good wide good gone green kings grief love’ ',\n",
       " ' review',\n",
       " ' pay review',\n",
       " ' methinks hap gone review',\n",
       " ' review',\n",
       " ' maketh review  pay happy review',\n",
       " ' alter’d ‘will’',\n",
       " ' knows lawful      wake dead deeds  good foes foes their love’ must kingly lawful good kings wake maketh foes ',\n",
       " ' trim wake review',\n",
       " ' review',\n",
       " ' review',\n",
       " ' review',\n",
       " ' glory age maketh bright ',\n",
       " ' pay ',\n",
       " '']"
      ]
     },
     "execution_count": 20,
     "metadata": {},
     "output_type": "execute_result"
    }
   ],
   "source": [
    "seed_text = \"Help me Obi Wan Kenobi, you're my only hope\"\n",
    "next_words = 100\n",
    "  \n",
    "for _ in range(next_words):\n",
    "\ttoken_list = tokenizer.texts_to_sequences([seed_text])[0]\n",
    "\ttoken_list = pad_sequences([token_list], maxlen=max_sequence_len-1, padding='pre')\n",
    "\tpredicted = model.predict(token_list, verbose=0)\n",
    "\tpredicted_index = np.argmax(predicted, axis=1)[0]\n",
    "\toutput_word = \"\"\n",
    "\tfor word, index in tokenizer.word_index.items():\n",
    "\t\tif index == predicted_index:\n",
    "\t\t\toutput_word = word\n",
    "\t\t\tbreak\n",
    "\tseed_text += \" \" + output_word\n",
    "seed_text = seed_text.replace('\\r \\r', '') \n",
    "seed_text.split(\"\\r\")"
   ]
  },
  {
   "cell_type": "code",
   "execution_count": 9,
   "metadata": {
    "id": "6Vc6PHgxa6Hm"
   },
   "outputs": [
    {
     "data": {
      "text/plain": [
       "'when most i wink, then do mine eyes best see, \\r \\r \\r \\r \\r \\r \\r \\r \\r \\r \\r use good wide good gone green kings grief love’ \\r review\\r pay review\\r methinks hap gone review\\r review\\r maketh review\\r \\r \\r \\r pay happy review\\r alter’d ‘will’\\r knows lawful \\r \\r \\r \\r \\r \\r \\r \\r \\r \\r wake dead deeds \\r \\r good foes foes their love’ must kingly lawful good kings wake maketh foes \\r trim wake review\\r review\\r review\\r review\\r glory age maketh bright \\r pay \\r \\r \\r \\r \\r \\r \\r wake their \\r \\r gone age \\r \\r \\r \\r \\r'"
      ]
     },
     "execution_count": 9,
     "metadata": {},
     "output_type": "execute_result"
    }
   ],
   "source": [
    "# seed_text = \"Help me Obi Wan Kenobi, you're my only hope\"\n",
    "seed_text = \"when most i wink, then do mine eyes best see,\"\n",
    "next_words = 100\n",
    "  \n",
    "for _ in range(next_words):\n",
    "\ttoken_list = tokenizer.texts_to_sequences([seed_text])[0]\n",
    "\ttoken_list = pad_sequences([token_list], maxlen=max_sequence_len-1, padding='pre')\n",
    "\tpredicted = model.predict(token_list, verbose=0)\n",
    "\tpredicted_index = np.argmax(predicted, axis=1)[0]\n",
    "\toutput_word = \"\"\n",
    "\tfor word, index in tokenizer.word_index.items():\n",
    "\t\tif index == predicted_index:\n",
    "\t\t\toutput_word = word\n",
    "\t\t\tbreak\n",
    "\tseed_text += \" \" + output_word\n",
    "seed_text"
   ]
  },
  {
   "cell_type": "code",
   "execution_count": 18,
   "metadata": {},
   "outputs": [
    {
     "data": {
      "text/plain": [
       "['when most i wink, then do mine eyes best see,      ',\n",
       " ' use good wide good gone green kings grief love’ ',\n",
       " ' review',\n",
       " ' pay review',\n",
       " ' methinks hap gone review',\n",
       " ' review',\n",
       " ' maketh review  pay happy review',\n",
       " ' alter’d ‘will’',\n",
       " ' knows lawful      wake dead deeds  good foes foes their love’ must kingly lawful good kings wake maketh foes ',\n",
       " ' trim wake review',\n",
       " ' review',\n",
       " ' review',\n",
       " ' review',\n",
       " ' glory age maketh bright ',\n",
       " ' pay    ',\n",
       " ' wake their  gone age   ',\n",
       " '']"
      ]
     },
     "execution_count": 18,
     "metadata": {},
     "output_type": "execute_result"
    }
   ],
   "source": [
    "seed_text = seed_text.replace('\\r \\r', '') \n",
    "seed_text.split(\"\\r\")"
   ]
  },
  {
   "cell_type": "code",
   "execution_count": 19,
   "metadata": {},
   "outputs": [
    {
     "data": {
      "text/plain": [
       "['look in thy glass and tell the face thou viewest viewest    ',\n",
       " ' gone ',\n",
       " ' age friend      ',\n",
       " ' use good wide good gone green kings grief love’ ',\n",
       " ' review',\n",
       " ' pay review',\n",
       " ' methinks hap gone review',\n",
       " ' review',\n",
       " ' maketh review  pay happy review',\n",
       " ' alter’d ‘will’',\n",
       " ' knows lawful      wake dead deeds  good foes foes their love’ must kingly lawful good kings wake maketh foes ',\n",
       " ' trim wake review',\n",
       " ' review',\n",
       " ' review',\n",
       " ' review',\n",
       " ' glory age maketh bright ',\n",
       " ' pay   ',\n",
       " '']"
      ]
     },
     "execution_count": 19,
     "metadata": {},
     "output_type": "execute_result"
    }
   ],
   "source": [
    "seed_text = \"look in thy glass and tell the face thou viewest\"\n",
    "next_words = 100\n",
    "  \n",
    "for _ in range(next_words):\n",
    "\ttoken_list = tokenizer.texts_to_sequences([seed_text])[0]\n",
    "\ttoken_list = pad_sequences([token_list], maxlen=max_sequence_len-1, padding='pre')\n",
    "\tpredicted = model.predict(token_list, verbose=0)\n",
    "\tpredicted_index = np.argmax(predicted, axis=1)[0]\n",
    "\toutput_word = \"\"\n",
    "\tfor word, index in tokenizer.word_index.items():\n",
    "\t\tif index == predicted_index:\n",
    "\t\t\toutput_word = word\n",
    "\t\t\tbreak\n",
    "\tseed_text += \" \" + output_word\n",
    "seed_text = seed_text.replace('\\r \\r', '') \n",
    "seed_text.split(\"\\r\")"
   ]
  },
  {
   "cell_type": "code",
   "execution_count": null,
   "metadata": {},
   "outputs": [],
   "source": [
    " 'look in thy glass and tell the face thou viewest\\r',\n",
    " 'now is the time that face should form another;\\r',\n",
    " 'whose fresh repair if now thou not renewest,\\r',\n",
    " 'thou dost beguile the world, unbless some mother.\\r',\n",
    " 'for where is she so fair whose unear’d womb\\r',\n",
    " 'disdains the tillage of thy husbandry?\\r',\n",
    " 'or who is he so fond will be the tomb,\\r',\n",
    " 'of his self-love to stop posterity?\\r',\n",
    " 'thou art thy mother’s glass and she in thee\\r',\n",
    " 'calls back the lovely april of her prime;\\r',\n",
    " 'so thou through windows of thine age shalt see,\\r',\n",
    " 'despite of wrinkles this thy golden time.\\r',\n",
    " '    but if thou live, remember’d not to be,\\r',\n",
    " '    die single and thine image dies with thee.\\r',"
   ]
  },
  {
   "cell_type": "code",
   "execution_count": 24,
   "metadata": {},
   "outputs": [
    {
     "data": {
      "text/plain": [
       "['look in thy glass and tell the face thou viewest viewest    ',\n",
       " ' foes ',\n",
       " ' rotten gone age yore      review',\n",
       " ' use good young sight    ',\n",
       " ' gracious dead ',\n",
       " ' glory age woe   calls alter’d present   gone dwell face review',\n",
       " ' review',\n",
       " ' none    ',\n",
       " ' gone shame lov’st review',\n",
       " ' young      ',\n",
       " ' use good wide face pride grief deeds good gone good methinks hap review',\n",
       " ' foes foes none take']"
      ]
     },
     "execution_count": 24,
     "metadata": {},
     "output_type": "execute_result"
    }
   ],
   "source": [
    "def sample_with_temperature(preds, temperature=1.0):\n",
    "    # Scale probabilities by temperature. Add a small value to avoid log(0)\n",
    "    preds = np.log(preds + 1e-10) / temperature\n",
    "    # Exponentiate to get new probability distribution\n",
    "    exp_preds = np.exp(preds)\n",
    "    # Normalize to ensure the sum is 1\n",
    "    preds = exp_preds / np.sum(exp_preds)\n",
    "    # Use np.random.choice for a random draw from the probability distribution\n",
    "    # This function is more robust to floating-point errors\n",
    "    predicted_index = np.random.choice(len(preds), p=preds)\n",
    "    return predicted_index\n",
    "\n",
    "\n",
    "seed_text = \"look in thy glass and tell the face thou viewest\"\n",
    "next_words = 100\n",
    "  \n",
    "for _ in range(next_words):\n",
    "\ttoken_list = tokenizer.texts_to_sequences([seed_text])[0]\n",
    "\ttoken_list = pad_sequences([token_list], maxlen=max_sequence_len-1, padding='pre')\n",
    "\tpredicted_probs = model.predict(token_list, verbose=0)[0]\n",
    "\tpredicted_index = sample_with_temperature(predicted_probs, temperature=0.7)\n",
    "\toutput_word = \"\"\n",
    "\tfor word, index in tokenizer.word_index.items():\n",
    "\t\tif index == predicted_index:\n",
    "\t\t\toutput_word = word\n",
    "\t\t\tbreak\n",
    "\tseed_text += \" \" + output_word\n",
    "\t\n",
    "seed_text = seed_text.replace('\\r \\r', '') \n",
    "seed_text.split(\"\\r\")\n",
    "\n"
   ]
  }
 ],
 "metadata": {
  "accelerator": "GPU",
  "colab": {
   "name": "NLP_Week4_Exercise_Shakespeare_Question.ipynb",
   "provenance": [],
   "toc_visible": true
  },
  "kernelspec": {
   "display_name": "Python (tf_env)",
   "language": "python",
   "name": "tf_env"
  },
  "language_info": {
   "codemirror_mode": {
    "name": "ipython",
    "version": 3
   },
   "file_extension": ".py",
   "mimetype": "text/x-python",
   "name": "python",
   "nbconvert_exporter": "python",
   "pygments_lexer": "ipython3",
   "version": "3.11.8"
  }
 },
 "nbformat": 4,
 "nbformat_minor": 4
}
